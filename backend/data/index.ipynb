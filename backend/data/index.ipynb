{
 "cells": [
  {
   "cell_type": "code",
   "execution_count": 13,
   "metadata": {},
   "outputs": [],
   "source": [
    "import xml.etree.ElementTree as ET\n",
    "import json\n",
    "import os\n",
    "\n",
    "def parse_WS(ws):\n",
    "    res = {}\n",
    "    AJLB = ''\n",
    "    WSZL = ''\n",
    "    JBFY = ''\n",
    "    for child in ws:\n",
    "        attrib = child.attrib\n",
    "        res[attrib['nameCN']] = attrib['value']\n",
    "        if child.tag == 'AJLB':\n",
    "            AJLB = attrib['value']\n",
    "        elif child.tag == 'WSZL':\n",
    "            WSZL = attrib['value']\n",
    "        elif child.tag in ['JBFY', 'CBJG']:\n",
    "            JBFY = attrib['value']\n",
    "    return res, AJLB, WSZL, JBFY\n",
    "\n",
    "\n",
    "def parse_WW(ww):\n",
    "    FGCY = []\n",
    "    for child in ww:\n",
    "        attrib = child.attrib\n",
    "        if child.tag == 'JCZZ':\n",
    "            for sub_child in child:\n",
    "                if sub_child.tag == 'R_JCRY':\n",
    "                    for sub_sub_child in sub_child:\n",
    "                        if sub_sub_child.tag == 'XM':\n",
    "                            FGCY.append(sub_sub_child.attrib['value'])\n",
    "        elif child.tag == 'SPZZCY':\n",
    "            for sub_child in child:\n",
    "                if sub_child.tag == 'SPRYXM':\n",
    "                    FGCY.append(sub_child.attrib['value'])\n",
    "        elif child.tag == 'CUS_FGCY':\n",
    "            for sub_child in child:\n",
    "                if sub_child.tag == 'FGRYXM':\n",
    "                    FGCY.append(sub_child.attrib['value'])\n",
    "    return FGCY\n",
    "\n",
    "\n",
    "def parse_SSJL(ssjl):\n",
    "    for child in ssjl:\n",
    "        if child.tag in ['AY', 'QSZAY']:\n",
    "            try:\n",
    "                return child.attrib['value']\n",
    "            except:\n",
    "                pass\n",
    "    return ''\n",
    "\n",
    "\n",
    "def parse_CUS_AY(cus_ay):\n",
    "    for child in cus_ay:\n",
    "        if child.tag == 'CUS_AY':\n",
    "            try:\n",
    "                return child.attrib['oValue']\n",
    "            except:\n",
    "                return ''\n",
    "\n",
    "\n",
    "def parse_xml(path):\n",
    "    json_file = {}\n",
    "    try:\n",
    "        root = ET.parse(path).getroot()\n",
    "    except:\n",
    "        return None\n",
    "    AJLB, WSZL, JBFY, FGCY, AY = '', '', '', [], ''\n",
    "    QW_text = ''\n",
    "    for child in root:\n",
    "        if child.tag == 'QW':\n",
    "            QW = {}\n",
    "            QW_text = child.attrib['value']\n",
    "            for sub_child in child:\n",
    "                if sub_child.tag == 'WS':\n",
    "                    res, AJLB, WSZL, JBFY = parse_WS(sub_child)\n",
    "                    QW[sub_child.attrib['nameCN']] = res\n",
    "                elif sub_child.tag == 'WW':\n",
    "                    FGCY = parse_WW(sub_child)\n",
    "                    try:\n",
    "                        QW[sub_child.attrib['nameCN']] = sub_child.attrib['value']\n",
    "                    except:\n",
    "                        continue\n",
    "                elif sub_child.tag == 'SSJL':\n",
    "                    AY = parse_SSJL(sub_child)\n",
    "                    try:\n",
    "                        QW[sub_child.attrib['nameCN']] = sub_child.attrib['value']\n",
    "                    except:\n",
    "                        continue\n",
    "                elif sub_child.tag == 'CUS_SJX':\n",
    "                    continue\n",
    "                else:\n",
    "                    if sub_child.attrib.get('value', None) is None:\n",
    "                        print(f'in file: {path}, QW->{sub_child.tag} does not have key `value`')\n",
    "                        continue\n",
    "                    QW[sub_child.attrib['nameCN']] = sub_child.attrib['value']\n",
    "            json_file[child.attrib['nameCN']] = QW\n",
    "        elif child.tag == 'FTRY':\n",
    "            continue\n",
    "        elif child.tag == 'FT':\n",
    "            tmp = json_file.get('法条', [])\n",
    "            tmp.append(child.attrib['value'])\n",
    "            json_file['法条'] = tmp\n",
    "        elif child.tag == 'CUS_FJD':\n",
    "            tmp = parse_CUS_AY(child)\n",
    "            if tmp != '':\n",
    "                AY = tmp\n",
    "        else:\n",
    "            try:\n",
    "                json_file[child.attrib['nameCN']] = child.attrib['value']\n",
    "            except:\n",
    "                continue\n",
    "    json_file['案例属性'] = {\n",
    "        \"案件类别\": AJLB,\n",
    "        \"文书种类\": WSZL,\n",
    "        \"经办法院\": JBFY,\n",
    "        \"法官成员\": FGCY,\n",
    "        \"案由\": AY\n",
    "    }\n",
    "    return json_file, QW_text\n"
   ]
  },
  {
   "cell_type": "code",
   "execution_count": null,
   "metadata": {},
   "outputs": [],
   "source": [
    "file_path = '/Legal_data/'\n",
    "file_names = os.listdir(file_path)\n",
    "for file_name in file_names:\n",
    "    json_file = parse_xml(file_path+file_name)\n",
    "    if json_file['案例属性']['文书种类'] == '起诉书':\n",
    "        save_path = file_name.replace('.xml', '.json')\n",
    "        with open(save_path, 'w') as f:\n",
    "            json.dump(json_file, f, ensure_ascii=False)\n",
    "        print(f'起诉书案例: {file_name}')\n",
    "        break"
   ]
  },
  {
   "cell_type": "markdown",
   "metadata": {},
   "source": [
    "Connect with CA"
   ]
  },
  {
   "cell_type": "code",
   "execution_count": 10,
   "metadata": {},
   "outputs": [
    {
     "data": {
      "text/plain": [
       "ObjectApiResponse({'name': 'LAPTOP-0DFL83JT', 'cluster_name': 'elasticsearch', 'cluster_uuid': '38IaAKHRTOq5kRIgJnu01Q', 'version': {'number': '8.2.0', 'build_flavor': 'default', 'build_type': 'zip', 'build_hash': 'b174af62e8dd9f4ac4d25875e9381ffe2b9282c5', 'build_date': '2022-04-20T10:35:10.180408517Z', 'build_snapshot': False, 'lucene_version': '9.1.0', 'minimum_wire_compatibility_version': '7.17.0', 'minimum_index_compatibility_version': '7.0.0'}, 'tagline': 'You Know, for Search'})"
      ]
     },
     "execution_count": 10,
     "metadata": {},
     "output_type": "execute_result"
    }
   ],
   "source": [
    "from elasticsearch import Elasticsearch\n",
    "\n",
    "# Password for the 'elastic' user generated by Elasticsearch\n",
    "ELASTIC_PASSWORD = \"6nV9Iaz6k97tZt2Ftd4J\"\n",
    "\n",
    "# Create the client instance\n",
    "es = Elasticsearch(\n",
    "    \"https://localhost:9200\",\n",
    "    ca_certs=\"./elasticsearch-8.2.0/config/certs/http_ca.crt\",\n",
    "    basic_auth=(\"elastic\", ELASTIC_PASSWORD),\n",
    ")\n",
    "\n",
    "# Successful response!\n",
    "es.info()\n",
    "# {'name': 'instance-0000000000', 'cluster_name': ...}"
   ]
  },
  {
   "cell_type": "markdown",
   "metadata": {},
   "source": [
    "Connect without CA"
   ]
  },
  {
   "cell_type": "code",
   "execution_count": 3,
   "metadata": {},
   "outputs": [
    {
     "data": {
      "text/plain": [
       "ObjectApiResponse({'name': 'LAPTOP-0DFL83JT', 'cluster_name': 'elasticsearch', 'cluster_uuid': '38IaAKHRTOq5kRIgJnu01Q', 'version': {'number': '8.2.0', 'build_flavor': 'default', 'build_type': 'zip', 'build_hash': 'b174af62e8dd9f4ac4d25875e9381ffe2b9282c5', 'build_date': '2022-04-20T10:35:10.180408517Z', 'build_snapshot': False, 'lucene_version': '9.1.0', 'minimum_wire_compatibility_version': '7.17.0', 'minimum_index_compatibility_version': '7.0.0'}, 'tagline': 'You Know, for Search'})"
      ]
     },
     "execution_count": 3,
     "metadata": {},
     "output_type": "execute_result"
    }
   ],
   "source": [
    "from elasticsearch import Elasticsearch\n",
    "es = Elasticsearch(\n",
    "    \"http://localhost:9200\",\n",
    ")\n",
    "\n",
    "# Successful response!\n",
    "es.info()"
   ]
  },
  {
   "cell_type": "code",
   "execution_count": 6,
   "metadata": {},
   "outputs": [
    {
     "name": "stdout",
     "output_type": "stream",
     "text": [
      "{'acknowledged': True}\n"
     ]
    }
   ],
   "source": [
    "resp = es.indices.delete(index=\"test-index\")\n",
    "print(resp)"
   ]
  },
  {
   "cell_type": "code",
   "execution_count": 7,
   "metadata": {},
   "outputs": [
    {
     "name": "stdout",
     "output_type": "stream",
     "text": [
      "{'acknowledged': True, 'shards_acknowledged': True, 'index': 'test-index'}\n"
     ]
    }
   ],
   "source": [
    "settings = {\n",
    "    \"analysis\": {\n",
    "        \"analyzer\": {\n",
    "            \"default\": {\n",
    "                \"type\": \"ik_max_word\",\n",
    "                \"tokenizer\": \"ik_max_word\",\n",
    "            },\n",
    "            \"default_search\": {\n",
    "                \"type\": \"ik_smart\",\n",
    "                \"tokenizer\": \"ik_smart\",\n",
    "            }\n",
    "        }\n",
    "    }\n",
    "}\n",
    "mappings = {\n",
    "    \"properties\": {\n",
    "      \"vector\": {\n",
    "        \"type\": \"dense_vector\",\n",
    "        \"dims\": 10,\n",
    "        \"index\": True,\n",
    "        \"similarity\": \"l2_norm\"\n",
    "      }\n",
    "    }\n",
    "}\n",
    "res = es.indices.create(index=\"test-index\", settings=settings, mappings=mappings)\n",
    "print(res)"
   ]
  },
  {
   "cell_type": "code",
   "execution_count": null,
   "metadata": {},
   "outputs": [],
   "source": [
    "resp = es.indices.get(index=\"test-index\")\n",
    "print(resp)"
   ]
  },
  {
   "cell_type": "code",
   "execution_count": null,
   "metadata": {},
   "outputs": [],
   "source": [
    "resp = es.indices.analyze(index=\"test-index\", text=\"知识产权\")\n",
    "print(resp)"
   ]
  },
  {
   "cell_type": "code",
   "execution_count": null,
   "metadata": {},
   "outputs": [],
   "source": [
    "import json\n",
    "import os\n",
    "\n",
    "cur_paths = os.listdir('./')\n",
    "file_paths = list(filter(lambda x:x[-5:]==\".json\", cur_paths))\n",
    "\n",
    "for file_path in file_paths:\n",
    "    print(f\"index {file_path}\")\n",
    "    with open(file_path) as f:\n",
    "        doc = json.load(f)\n",
    "    resp = es.index(index=\"test-index\", document=doc)\n",
    "    print(resp)"
   ]
  },
  {
   "cell_type": "code",
   "execution_count": 1,
   "metadata": {},
   "outputs": [],
   "source": [
    "with open('./stop_words', 'r', encoding='utf-8') as f:\n",
    "    stop_words = f.read().split('\\n')"
   ]
  },
  {
   "cell_type": "code",
   "execution_count": null,
   "metadata": {},
   "outputs": [],
   "source": [
    "from sklearn.feature_extraction.text import TfidfVectorizer\n",
    "import jieba\n",
    "corpus = [\n",
    "    '犯罪嫌疑人是一个罪犯',\n",
    "    '这是一个有趣的灵魂',\n",
    "    '文本相似度',\n",
    "    '如何阅读文献找到文献之间的相似度',\n",
    "]\n",
    "\n",
    "for idx in range(len(corpus)):\n",
    "    text = corpus[idx]\n",
    "    text = ' '.join(jieba.lcut(text))\n",
    "    text = ' '.join(list(filter(lambda x:x not in stop_words, text.split(' '))))\n",
    "    corpus[idx] = text\n",
    "print(corpus)\n",
    "\n",
    "# print(jieba.lcut('如何阅读文献找到文献之间的相似度', cut_all=False))"
   ]
  },
  {
   "cell_type": "code",
   "execution_count": 20,
   "metadata": {},
   "outputs": [
    {
     "name": "stdout",
     "output_type": "stream",
     "text": [
      "{'_index': 'test-index', '_id': 'i5KVH4EBG8dmy1dH7VVO', '_version': 1, 'result': 'created', '_shards': {'total': 2, 'successful': 1, 'failed': 0}, '_seq_no': 1, '_primary_term': 1}\n"
     ]
    }
   ],
   "source": [
    "\n",
    "doc = {\n",
    "    \"全文\": {\n",
    "        \"法院\": \"人民法院\",\n",
    "        \"法官\": \"某某人\",\n",
    "        \"案由\": \"未知\",\n",
    "        \"案情\": {\n",
    "            \"初始\": \"杀人未遂这是一段文本\",\n",
    "            \"结果\": \"人没了\",\n",
    "            \"法律\": \"知识产权，这是一个严肃的问题\"\n",
    "        }\n",
    "    },\n",
    "    \"法条\": [\"劳动法\", \"知识产权法\", \"未成年人保护法\"],\n",
    "    \"自定义\": \"暂时没有\"\n",
    "}\n",
    "resp = es.index(index=\"test-index\", document=doc)\n",
    "print(resp)"
   ]
  },
  {
   "cell_type": "code",
   "execution_count": 44,
   "metadata": {},
   "outputs": [],
   "source": [
    "import traceback\n",
    "def update_key(key_list, val, dic):\n",
    "    key = key_list[0]\n",
    "    try:\n",
    "        v = dic[key]\n",
    "        if isinstance(v, dict) and len(key_list) > 1:\n",
    "            key_list.remove(key)\n",
    "            update_key(key_list, val, v)\n",
    "        elif isinstance(v, list):\n",
    "            target = val.replace(\"<em>\", \"\")\n",
    "            target = target.replace(\"</em>\", \"\")\n",
    "            for idx in range(len(v)):\n",
    "                if v[idx] == target:\n",
    "                    dic[key][idx] = val\n",
    "                    break\n",
    "        elif isinstance(v, str):\n",
    "            dic[key] = val\n",
    "    except:\n",
    "        traceback.print_stack()"
   ]
  },
  {
   "cell_type": "code",
   "execution_count": 3,
   "metadata": {},
   "outputs": [
    {
     "name": "stdout",
     "output_type": "stream",
     "text": [
      "Got 0 Hits:\n"
     ]
    }
   ],
   "source": [
    "resp = es.search(index=\"test-index\", \n",
    "                query={\n",
    "                    \"query_string\": {\n",
    "                        \"query\": \"\",\n",
    "                }},\n",
    "                fields=[\n",
    "                    \"自定义*\",\n",
    "                    \"全文*\"\n",
    "                    \"法条\",\n",
    "                ],\n",
    "                highlight={\n",
    "                    \"fields\": {\n",
    "                        \"自定义*\": {},\n",
    "                        \"全文*\": {},\n",
    "                        \"法条\": {}\n",
    "                    }\n",
    "                },\n",
    "        )\n",
    "print(\"Got %d Hits:\" % resp['hits']['total']['value'])\n",
    "for hit in resp['hits']['hits']:\n",
    "    print(hit)\n",
    "    source = hit['_source']\n",
    "    highlight = hit['highlight']\n",
    "    for (key, val) in highlight.items():\n",
    "        update_key(key.split('.'), val[0], source)\n",
    "    print(source)\n",
    "    break"
   ]
  },
  {
   "cell_type": "code",
   "execution_count": 46,
   "metadata": {},
   "outputs": [
    {
     "name": "stdout",
     "output_type": "stream",
     "text": [
      "{'全文': {'法院': '人民<em>法院</em>', '法官': '某某人', '案由': '未知', '案情': {'初始': '杀人未遂这是一段文本', '结果': '人没了', '法律': '知识产权，这是一个严肃的问题'}}, '法条': ['劳动法', '知识产权法', '未成年人保护法'], '自定义': '暂时没有'}\n"
     ]
    },
    {
     "data": {
      "text/plain": [
       "['全文', '法院', 'keyword']"
      ]
     },
     "execution_count": 46,
     "metadata": {},
     "output_type": "execute_result"
    }
   ],
   "source": [
    "doc = {\n",
    "    \"全文\": {\n",
    "        \"法院\": \"人民法院\",\n",
    "        \"法官\": \"某某人\",\n",
    "        \"案由\": \"未知\",\n",
    "        \"案情\": {\n",
    "            \"初始\": \"杀人未遂这是一段文本\",\n",
    "            \"结果\": \"人没了\",\n",
    "            \"法律\": \"知识产权，这是一个严肃的问题\"\n",
    "        }\n",
    "    },\n",
    "    \"法条\": [\"劳动法\", \"知识产权法\", \"未成年人保护法\"],\n",
    "    \"自定义\": \"暂时没有\"\n",
    "}\n",
    "update_key(\"全文.法院.keyword\".split(\".\"), \"人民<em>法院</em>\", doc)\n",
    "print(doc)\n",
    "\"全文.法院.keyword\".split(\".\")"
   ]
  },
  {
   "cell_type": "code",
   "execution_count": 24,
   "metadata": {},
   "outputs": [
    {
     "data": {
      "text/plain": [
       "{'a': {'a': 1, 'b': 1}, 'b': 0}"
      ]
     },
     "execution_count": 24,
     "metadata": {},
     "output_type": "execute_result"
    }
   ],
   "source": [
    "dic = {\n",
    "    \"a\": {\n",
    "        \"a\": 0,\n",
    "        \"b\": 1\n",
    "    },\n",
    "    \"b\": 0\n",
    "}\n",
    "t = dic[\"a\"]\n",
    "t[\"a\"] = 1\n",
    "dic"
   ]
  },
  {
   "cell_type": "code",
   "execution_count": 26,
   "metadata": {},
   "outputs": [
    {
     "data": {
      "text/plain": [
       "[1, 2, 3]"
      ]
     },
     "execution_count": 26,
     "metadata": {},
     "output_type": "execute_result"
    }
   ],
   "source": [
    "l = [0,1,2,3]\n",
    "l.remove(0)\n",
    "l"
   ]
  },
  {
   "cell_type": "code",
   "execution_count": 28,
   "metadata": {},
   "outputs": [
    {
     "data": {
      "text/plain": [
       "'知识产权文字'"
      ]
     },
     "execution_count": 28,
     "metadata": {},
     "output_type": "execute_result"
    }
   ],
   "source": [
    "\n",
    "text = \"<em>知识产权</em><em>文字</em>\"\n",
    "text = text.replace(\"<em>\", \"\")\n",
    "text = text.replace(\"</em>\", \"\")\n",
    "text"
   ]
  },
  {
   "cell_type": "markdown",
   "metadata": {},
   "source": [
    "Below is for project"
   ]
  },
  {
   "cell_type": "code",
   "execution_count": null,
   "metadata": {},
   "outputs": [],
   "source": [
    "resp = es.indices.get(index=\"case-data\")\n",
    "print(resp)"
   ]
  },
  {
   "cell_type": "code",
   "execution_count": 2,
   "metadata": {},
   "outputs": [
    {
     "name": "stdout",
     "output_type": "stream",
     "text": [
      "{'tokens': [{'token': '2017', 'start_offset': 1, 'end_offset': 5, 'type': 'ARABIC', 'position': 0}, {'token': '渝', 'start_offset': 6, 'end_offset': 7, 'type': 'CN_CHAR', 'position': 1}, {'token': '0237', 'start_offset': 7, 'end_offset': 11, 'type': 'ARABIC', 'position': 2}, {'token': '民初', 'start_offset': 11, 'end_offset': 13, 'type': 'CN_WORD', 'position': 3}, {'token': '1622号', 'start_offset': 13, 'end_offset': 18, 'type': 'TYPE_CQUAN', 'position': 4}]}\n"
     ]
    }
   ],
   "source": [
    "resp = es.indices.analyze(index=\"case-data\", text=\"（2017）渝0237民初1622号\",\n",
    "                          analyzer=\"ik_smart\",)\n",
    "print(resp)"
   ]
  },
  {
   "cell_type": "markdown",
   "metadata": {},
   "source": [
    "Load data"
   ]
  },
  {
   "cell_type": "code",
   "execution_count": 14,
   "metadata": {},
   "outputs": [],
   "source": [
    "INDEX = \"new-case-data\""
   ]
  },
  {
   "cell_type": "code",
   "execution_count": 15,
   "metadata": {},
   "outputs": [
    {
     "name": "stdout",
     "output_type": "stream",
     "text": [
      "{'acknowledged': True, 'shards_acknowledged': True, 'index': 'new-case-data'}\n"
     ]
    }
   ],
   "source": [
    "settings = {\n",
    "    \"analysis\": {\n",
    "        \"analyzer\": {\n",
    "            \"default\": {\n",
    "                \"type\": \"ik_max_word\",\n",
    "                \"tokenizer\": \"ik_max_word\",\n",
    "            },\n",
    "            \"default_search\": {\n",
    "                \"type\": \"ik_smart\",\n",
    "                \"tokenizer\": \"ik_smart\",\n",
    "            }\n",
    "        }\n",
    "    }\n",
    "}\n",
    "mappings = {\n",
    "    \"properties\": {\n",
    "        \"vec\": {\n",
    "            \"type\": \"dense_vector\",\n",
    "            \"dims\": 100,\n",
    "            \"index\": True,\n",
    "            \"similarity\": \"l2_norm\"\n",
    "        }\n",
    "    }\n",
    "}\n",
    "res = es.indices.create(index=INDEX, settings=settings, mappings=mappings)\n",
    "print(res)"
   ]
  },
  {
   "cell_type": "markdown",
   "metadata": {},
   "source": [
    "删库操作！！谨慎！！"
   ]
  },
  {
   "cell_type": "code",
   "execution_count": 49,
   "metadata": {},
   "outputs": [
    {
     "name": "stdout",
     "output_type": "stream",
     "text": [
      "{'acknowledged': True}\n"
     ]
    }
   ],
   "source": [
    "resp = es.indices.delete(index=\"case-data\")\n",
    "print(resp)"
   ]
  },
  {
   "cell_type": "code",
   "execution_count": 17,
   "metadata": {},
   "outputs": [],
   "source": [
    "from gensim.models import KeyedVectors\n",
    "from collections import OrderedDict\n",
    "\n",
    "tc_wv_model = KeyedVectors.load_word2vec_format('./search-engine/backend/data/embedding.txt', binary=False)\n",
    "\n",
    "with open('./search-engine/backend/data/stop_words', 'r', encoding='utf-8') as f:\n",
    "    stop_words = f.read().split('\\n')"
   ]
  },
  {
   "cell_type": "code",
   "execution_count": 22,
   "metadata": {},
   "outputs": [
    {
     "name": "stdout",
     "output_type": "stream",
     "text": [
      "False\n"
     ]
    }
   ],
   "source": [
    "a_set = set([1,2,3])\n",
    "print(4 in a_set)"
   ]
  },
  {
   "cell_type": "code",
   "execution_count": null,
   "metadata": {},
   "outputs": [],
   "source": [
    "import os\n",
    "import numpy as np\n",
    "import jieba\n",
    "\n",
    "START_IDX = 0\n",
    "stop_words_set = set(stop_words)\n",
    "\n",
    "file_paths = os.listdir('./Legal_data/')\n",
    "for idx in range(START_IDX, len(file_paths)):\n",
    "    file_path = file_paths[idx]\n",
    "    # print(f\"index {file_path}\", end=\" \")\n",
    "    try:\n",
    "        doc, text = parse_xml('./Legal_data/'+file_path)\n",
    "    except:\n",
    "        continue\n",
    "    if doc is not None:\n",
    "        text = list(filter(lambda x:x not in stop_words_set, jieba.lcut(text)))\n",
    "        vec = np.zeros(100)\n",
    "        for word in text:\n",
    "            try:\n",
    "                vec += np.array(tc_wv_model[word])\n",
    "            except:\n",
    "                continue\n",
    "        vec /= len(text)\n",
    "        doc['vec'] = vec.tolist()\n",
    "        resp = es.index(index=INDEX, document=doc, id=idx)\n",
    "    # print(resp)\n",
    "    print(f\"{idx}\", end=\" \")"
   ]
  },
  {
   "cell_type": "code",
   "execution_count": 22,
   "metadata": {},
   "outputs": [
    {
     "data": {
      "text/plain": [
       "'49489.xml'"
      ]
     },
     "execution_count": 22,
     "metadata": {},
     "output_type": "execute_result"
    }
   ],
   "source": [
    "file_paths[28664]"
   ]
  },
  {
   "cell_type": "code",
   "execution_count": null,
   "metadata": {},
   "outputs": [],
   "source": [
    "resp = es.search(index=\"case-data\", \n",
    "                from_=0,\n",
    "                query={\n",
    "                    \"query_string\": {\n",
    "                        \"query\": \"刑法\",\n",
    "                }},\n",
    "                fields=[\n",
    "                    \"自定义*\",\n",
    "                    \"全文*\"\n",
    "                    \"法条\",\n",
    "                ],\n",
    "                highlight={\n",
    "                    \"fields\": {\n",
    "                        \"自定义*\": {},\n",
    "                        \"全文*\": {},\n",
    "                        \"法条\": {}\n",
    "                    }\n",
    "                }\n",
    "        )\n",
    "\n",
    "print(\"Got %d Hits:\" % resp['hits']['total']['value'])\n",
    "print(len(resp['hits']['hits']))\n",
    "# for hit in resp['hits']['hits']:\n",
    "#     print(hit)\n",
    "highlight = resp['hits']['hits'][0]['highlight']\n",
    "print('before filter')\n",
    "print(highlight)\n",
    "val_set = set()\n",
    "unique_highlight = dict()\n",
    "for (key, val) in highlight.items():\n",
    "    v = val[0] if len(val) == 1 else ''.join(val)\n",
    "    if v not in val_set:\n",
    "        val_set.add(v)\n",
    "        unique_highlight[key] = val\n",
    "print('after filter')\n",
    "print(unique_highlight)\n",
    "# print(resp)"
   ]
  },
  {
   "cell_type": "code",
   "execution_count": 13,
   "metadata": {},
   "outputs": [],
   "source": [
    "def deduplicate_FGCY(resp):\n",
    "    try:\n",
    "        for idx in range(len(resp['hits']['hits'])):\n",
    "            resp['hits']['hits'][idx]['_source']['案例属性']['法官成员'] = list(set(resp['hits']['hits'][idx]['_source']['案例属性']['法官成员']))\n",
    "    except:\n",
    "        pass"
   ]
  },
  {
   "cell_type": "code",
   "execution_count": 14,
   "metadata": {},
   "outputs": [
    {
     "name": "stdout",
     "output_type": "stream",
     "text": [
      "Got 10000 Hits:\n",
      "10\n",
      "['许天瑶', '甘震']\n",
      "['许天瑶', '甘震']\n",
      "['程宇', '李阳', '李军', '张欣']\n",
      "['李军', '张欣', '程宇', '李阳']\n",
      "['覃若鹏', '李源', '刘萌', '高翔宇']\n",
      "['高翔宇', '李源', '刘萌', '覃若鹏']\n",
      "['白海叶', '陈智慧', '宋任国', '韩卫祥']\n",
      "['白海叶', '韩卫祥', '宋任国', '陈智慧']\n",
      "['叶青', '张文清', '蔡芬芳', '杨月斌']\n",
      "['叶青', '杨月斌', '张文清', '蔡芬芳']\n",
      "['李留霞', '王慧玲', '孙升', '程登健']\n",
      "['李留霞', '王慧玲', '孙升', '程登健']\n",
      "['栗莎', '胡伯韬', '侯宝柱', '朱万君']\n",
      "['栗莎', '胡伯韬', '侯宝柱', '朱万君']\n",
      "['沈冰洁', '赵魁', '张敏', '瞿静']\n",
      "['沈冰洁', '赵魁', '张敏', '瞿静']\n",
      "['高志强', '陈鸿妍', '鲁恢', '于桂莲']\n",
      "['高志强', '于桂莲', '鲁恢', '陈鸿妍']\n",
      "['陈旻尔', '吕倩茜', '黄良飞', '王孜力哈']\n",
      "['陈旻尔', '吕倩茜', '黄良飞', '王孜力哈']\n"
     ]
    }
   ],
   "source": [
    "resp = es.search(index=\"new-case-data\", \n",
    "                from_=0,\n",
    "                query={\n",
    "                    # \"query_string\": {\n",
    "                    #     \"query\": \"刑法\",}\n",
    "                    \"match_all\": {}\n",
    "                },\n",
    "                fields=[\n",
    "                    \"自定义*\",\n",
    "                    \"全文*\"\n",
    "                    \"法条\",\n",
    "                ],\n",
    "                highlight={\n",
    "                    \"fields\": {\n",
    "                        \"自定义*\": {},\n",
    "                        \"全文*\": {},\n",
    "                        \"法条\": {}\n",
    "                    }\n",
    "                },\n",
    "                post_filter={\n",
    "                    \"bool\": {\n",
    "                        \"must\": [\n",
    "                            # {\"term\": {\"法条\": \"知识产权法\"}},\n",
    "                            # {\"match\": {\"全文.文首.审判程序\": \"一审案件 二审案件\"}},\n",
    "                            {\"query_string\": {\"fields\": [\"全文.文首.审判程序\"], \n",
    "                                                \"query\": \"一审案件 OR 二审案件\",\n",
    "                                                }},\n",
    "                            # {\"match\": {\"全文.文首.经办法院\": {\n",
    "                            #     \"query\": \"贵州省黔南布依族苗族自治州中级人民法院\",\n",
    "                            #     \"operator\": \"and\"\n",
    "                            # }}},\n",
    "                        ]\n",
    "                    }\n",
    "                }\n",
    "        )\n",
    "\n",
    "print(\"Got %d Hits:\" % resp['hits']['total']['value'])\n",
    "deduplicate_FGCY(resp)\n",
    "print(len(resp['hits']['hits']))\n",
    "for hit in resp['hits']['hits']:\n",
    "    # print(hit['_source'])\n",
    "    print(hit['_source']['案例属性']['法官成员'])\n",
    "    # print(list(set(hit['_source']['案例属性']['法官成员'])))"
   ]
  },
  {
   "cell_type": "code",
   "execution_count": null,
   "metadata": {},
   "outputs": [],
   "source": [
    "import numpy as np\n",
    "import jieba\n",
    "\n",
    "sentence = '死者没有受伤吧'\n",
    "sentence = list(filter(lambda x:x not in stop_words, jieba.lcut(sentence)))\n",
    "vec = np.zeros(100)\n",
    "for word in sentence:\n",
    "    try:\n",
    "        vec += np.array(tc_wv_model[word])\n",
    "    except:\n",
    "        continue\n",
    "vec /= len(sentence)\n",
    "# print(vec)"
   ]
  },
  {
   "cell_type": "code",
   "execution_count": null,
   "metadata": {},
   "outputs": [],
   "source": [
    "resp = es.knn_search(index=\"case-data\", \n",
    "                knn={\n",
    "                    \"field\": \"vec\",\n",
    "                    \"query_vector\": np.zeros(100),\n",
    "                    \"k\": 50,\n",
    "                    \"num_candidates\": 200\n",
    "                }\n",
    "        )\n",
    "print(\"Got %d Hits:\" % resp['hits']['total']['value'])\n",
    "print(len(resp['hits']['hits']))\n",
    "# for hit in resp['hits']['hits']:\n",
    "#     print(hit)\n",
    "print(resp['hits']['hits'][0])\n",
    "# print(resp)"
   ]
  },
  {
   "cell_type": "code",
   "execution_count": 15,
   "metadata": {},
   "outputs": [
    {
     "name": "stdout",
     "output_type": "stream",
     "text": [
      "{'took': 55, 'timed_out': False, '_shards': {'total': 1, 'successful': 1, 'skipped': 0, 'failed': 0}, 'hits': {'total': {'value': 7491, 'relation': 'eq'}, 'max_score': 11.83526, 'hits': [{'_index': 'new-case-data', '_id': '23302', '_score': 11.83526, '_ignored': ['自定义_裁判文书_证据段.keyword', '自定义_裁判文书_查明事实段.keyword', '自定义_裁判文书_裁判分析过程.keyword', '全文.裁判分析过程.keyword', '自定义_裁判文书_被告辩称段.keyword', '自定义_裁判文书_全文.keyword', '全文.案件基本情况.keyword', '自定义_裁判文书_原告诉称段.keyword'], '_source': {'全文': {'文首': {'文书制作单位': '法院', '法院文书种类': '裁判文书', '经办法院': '山东省潍坊滨海经济技术开发区人民法院', '文书名称': '民事判决书', '案号': '（2017）鲁0792民初173号', '案件类别': '民事案件', '文书种类': '判决书', '审判程序': '一审案件', '案件类型': '民事一审案件'}, '当事人': '原告：尹希平，男，1973年5月23日出生，汉族，住潍坊市寒亭区。 委托诉讼代理人：李涛，山东潍州律师事务所律师。 被告：王树先，男，1971年10月6日出生，汉族，现住潍坊滨海经济技术开发区。 委托诉讼代理人：孙志丽，山东翔华律师事务所律师。', '诉讼记录': ' 原告尹希平与被告王树先不当得利纠纷一案，本院于2017年4月12日立案后，依法适用简易程序，公开开庭进行了审理。原告尹希平委托诉讼代理人李涛、被告王树先委托诉讼代理人孙志丽到庭参加诉讼。本案现已审理终结。', '案件基本情况': ' 原告尹希平向本院提出诉讼请求：1、依法判令被告返还原告不当得利款141000元及利息（自判决确认债权之日起按照同期银行利率4倍计算）；2、本案诉讼费用由被告承担。事实和理由：2012年7月18日原告向被告在中国工商银行的账户汇款141000元，事后原告以民间借贷纠纷案件向寒亭区人民法院起诉，该案经过寒亭区人民法院一审、被告王树先上诉、潍坊市中级人民法院发回重审、寒亭区人民法院重审、原告尹希平上诉，最终经潍坊市中级人民法院判决驳回原告的诉讼请求。经上述判决查明的案件事实，原被告之间并不相识也未有业务往来，被告取得上述利益无法律依据，由此，被告的行为致使自己获得了利益，给原告造成了损失，且被告的获利无合法依据。依据《中华人民共和国民法通则》第92条之规定，被告行为已构成不当得利，为维护原告的合法权益，故诉至法院，望判如所请。 被告王树先辩称，首先，原告已就所述案件经过潍坊市寒亭区人民法院一审、被告王树先上诉、潍坊市中级人民法院发回重审、潍坊市寒亭区人民法院重审、原告尹希平上诉，最终经潍坊市中级人民法院判决，已经审理完毕，原告又以同样案件起诉违反民事诉讼一事不再理的原则；其次，原告主张打入被告王树先账户的141000元为不当得利没有事实和法律依据，因为原告向潍坊市寒亭区人民法院诉争的上述事实为民间借贷纠纷，法院认定的事实为原告是应案外人赵延光的要求将钱打入被告王树先名下的账户，原告称是案外人赵延光向其借钱，而不是本案所称打错了钱，但是实际上是赵延光还案外人王秀丽的钱；再次，原告起诉被告不当得利纠纷已经超过两年的诉讼时效。 当事人围绕诉讼请求依法提交了证据，本院组织当事人进行了证据交换和质证。原告提交了（2015）寒民三重字第4号民事判决书、（2016）鲁07民终字第4776号民事判决书、（2012）寒洼民初字第345号民事判决书、（2014）潍民四终字第459号民事判决书、（2016）鲁0784民初2955号民事判决书、中国工商银行账户汇款明细一份、询问笔录复印件两份等证据。被告提交了（2015）寒民三重字第4号民事判决书、（2016）鲁07民终字第4776号民事判决书等证据。 被告对原告提交的（2016）鲁0784民初2955号民事判决书真实性无异议，但认为上述山东省安丘市人民法院的判决书与本案无关，不能作为本案的证据提供，且我国法院不适用判例法。被告对原告提交的（2015）寒民三重字第4号民事判决书、（2016）鲁07民终字第4776号民事判决书的真实性无异议，但是上述两份判决书只能证明原告向被告打过款，并不能证明为不当得利，而是证明原告向被告主张的民间借贷，该款是案外人王秀丽借用了被告王树先的银行卡，原告应案外人赵延光的要求，将款项打入被告王树先的账户，打入的款项是由案外人王秀丽实际占有使用。 原告对被告提供的（2015）寒民三重字第4号民事判决书、（2016）鲁07民终字第4776号民事判决书的真实性无异议，但认为本案并不是被告所述案件的延续，在（2015）寒民三重字第4号民事判决书也有记载，“针对原告尹希平称其系根据案外人赵延光的指示而向被告王树先的账户转账141000元，第三人王秀丽称其借用王树先的工商银行卡系案外人赵延光向其还款141000元而发生的，二人的陈述均涉及案外人，建议原告补充证据后可另案处理。”可以体现出原、被告之间并不相识，也无其他经济往来，不存在双方之间的借贷的合意，被告也承认打款的事实，由此可以认定被告取得利益无法律依据；对被告提供的询问笔录复印件真实性不予认定，但从笔录的内容来看可证实原被告双方一开始并不相识。 对当事人无异议的证据，本院予以确认并在卷佐证。对有争议的证据和事实，本院认定如下：被告提供的询问笔录复印件，原告质证后不予认可，本院不予认定；对原告提供的（2016）鲁0784民初2955号民事判决书，因与本案无关，本院不予认定；对原告提供的（2012）寒洼民初字第345号民事判决书、（2014）潍民四终字第459号民事判决书，判决内容因与本案的案情无法认定有因果关系，且被告不予认可，本院不予认定。 根据当事人的陈述和经审查确认的证据，本院认定事实如下： 2012年7月18日，原告尹希平根据案外人赵延光的指示向被告王树先的中国工商银行的账户（卡号为62×××55）转账141000元。2012年9月6日晚，案外人赵振国、王永祥让被告王树先在一张写好的“借条今借尹希平现金141000元壹拾四万壹仟元整借款人：2012年6月24日”的借条借款人处签名。当天晚上被告王树先就其殴打并受强迫签了一张141000元借条的事向潍坊市公安局滨海经济技术开发区分局报警，公安机关予以受理并展开调查。2014年6月24日，该局以因王树先与尹希平、赵振国等之间存在债务纠纷，且寒亭区人民法院已作出判决，无犯罪事实，不需追究刑事责任为由决定不予立案。2012年9月，案外人侯春泉将上述王树先报警称其受强迫所签的借条交给原告尹希平。尹希平后持该借条和转账凭证以民间借贷为由将被告诉至寒亭区人民法院。后经寒亭区人民法院重审认定：原告主张其转出的141000元系被告王树先向其借款的主张达不到民事诉讼证据高度盖然性的证明标准，而被告王树先否认向原告借款的141000元的辩解理由能够达到民事诉讼证据高度盖然性的证明标准，故寒亭区人民法院对原告要求被告王树先偿还借款141000元的主张不予支持，该院作出（2015）寒民三重字第4号民事判决书，判决驳回了原告尹希平的诉讼请求。原告尹希平不服上述判决，向潍坊市中级人民法院提起上诉，潍坊市中级人民法院经审理认为，民间借贷应以意思表示真实成立为前提，上述借条并非被告王树先向原告尹希平借贷的真实意思表示，原被告之间并无直接的借贷合意，涉案款项虽由尹希平的账户汇入王树先的工商银行账号，但不足以证明尹希平向王树先履行了出借款项的义务。故潍坊市中级人民法院作出了（2016）鲁07民终字第4776号民事判决书，判决驳回上诉，维持原判。上述判决生效后，2017年4月12日，原告尹希平基于原被告双方并不相识且原被告之间无其他经济往来，被告的行为构成不当得利为由向本院起诉要求被告王树先返还不当得利款141000元，被告王树先通过答辩质证后认为该款项是案外人赵延光为了偿还案外人王秀丽的借款，让案外人王秀丽提供工商银行账号，因案外人王秀丽没有工商银行的账号而借用了其弟弟即本案被告王树先的账号后，原告尹希平将141000元打入了被告王树先的账号，为此被告王树先的行为不构成不当得利。 ', '裁判分析过程': '本案的争议焦点为被告王树先的行为是否构成不当得利。本院认为，首先，结合原告尹希平从事的职业且其作为完全民事行为能力人理应具备较高的风险意识和证据意识，现原告主动给付被告较大金额的财产，却在缺乏其他证据的情形之下仅以打款这一事实主张被告为不当得利，于常理有不符之处；其次，不当得利构成要件中取得利益无合法依据并非单纯的消极事实，本案先有一方的给付才有另一方的受付，认定有无合法根据，需要足够的证据予以证实，使不当得利请求权达到足以令人信服的标准，在庭审过程中，本院也向原告尹希平释明不当得利纠纷案件的举证责任分配问题，应由原告提供证据证明相应给付义务不存在、给付对象错误、给付目的欠缺等，否则将承担举证不能的不利后果。原告提供的证据虽然真实有效，但仅能证明打款的事实，其提供的证据及称其是受案外人赵延光的指示于2012年7月18日将该案的款项通过工商银行自己的账户直接打入王树先账户的陈述，不足以证明被告取得利益没有合法根据。不当得利请求权达不到足以令人信服的标准；再次，原告尹希平对将钱款存入被告王树先的账户是明知且主动实施的，原告尹希平给付该款项有一定原因，只不过原告在以民间借贷的给付原因起诉后，遭被告否认，又未获法院裁判支持，遂就同一事实，变为以不当得利案由起诉，以转移举证风险。被告王树先为证明上述款项系是案外人赵延光为了还案外人王秀丽的借款，让案外人王秀丽提供工商银行账号，因案外人王秀丽没有工商银行的账号而借用了其弟弟即本案被告王树先的账号所提交的根据，亦不足以证明诉争款项为原告代赵延光归还案外人王秀丽的借款之事实，被告王树先关于诉争款项系还款的反驳证据虽然不充分，但该举证不能的后果仍应由原告承担，因为原告尹希平在以借贷关系起诉遭败诉之后，转以不当得利关系另行起诉，并不当然发生举证责任的转移。综上，原告尹希平是使财产发生变动的主体，其给付行为必然基于某一法律关系，应当对欠缺给付原因的具体情形承担举证责任，现原告尹希平对欠缺给付原因的具体情形没有提供有力证据证明，就不足以认定被告取得该财产没有合法依据。原告要求被告返还款项并赔偿利息损失的诉讼请求，证据不足，本院不予支持。 被告关于原告违反民事诉讼一事不再理的原则而再次起诉的抗辩，本院认为，原告就同一争议以不同的法律关系进行起诉，不违反一事不再理的原则，对该抗辩本院不予采信。关于被告辩称原告尹希平主张不当得利已经超过法律规定的两年的诉讼时效。《中华人民共和国民法通则》第一百四十条规定：“诉讼时效因提起诉讼、当事人一方提出要求或者同意履行义务而中断。从中断时起，诉讼时效期间重新计算”。原告尹希平向寒亭区人民法院以同一事实以民间借贷案由起诉，经潍坊市寒亭区人民法院一审、被告王树先上诉、潍坊中院发回重审、潍坊市寒亭区人民法院重审、原告尹希平上诉，最终经潍坊市中级人民法院判决驳回原告的诉讼请求，符合发生诉讼时效中断的情形，现原告尹希平以同一事实以不当得利案由向本院起诉，不超过法律规定的诉讼时效，对被告的抗辩，本院不予支持。 综上所述，依照《中华人民共和国民法通则》第九十二条、第一百四十条、《最高人民法院关于民事诉讼证据的若干规定》第九十条、《中华人民共和国民事诉讼法》第六十四条第一款、第一百四十二条之规定，判决如下：', '判决结果': ' 驳回原告尹希平的诉讼请求。 案件受理费3120元，减半收取1560元，由原告尹希平负担。 如不服本判决，可以在判决书送达之日起十五日内，向本院递交上诉状，并按对方当事人的人数提出副本，上诉于山东省潍坊市中级人民法院。', '文尾': ' 审判员牟明刚 二〇一七年九月二十九日 书记员袁田田 ', '立案日期': '2017年4月12日', '文书是否模糊': '否'}, '自定义_裁判文书_裁判分析过程': '本案的争议焦点为被告王树先的行为是否构成不当得利。本院认为，首先，结合原告尹希平从事的职业且其作为完全民事行为能力人理应具备较高的风险意识和证据意识，现原告主动给付被告较大金额的财产，却在缺乏其他证据的情形之下仅以打款这一事实主张被告为不当得利，于常理有不符之处；其次，不当得利构成要件中取得利益无合法依据并非单纯的消极事实，本案先有一方的给付才有另一方的受付，认定有无合法根据，需要足够的证据予以证实，使不当得利请求权达到足以令人信服的标准，在庭审过程中，本院也向原告尹希平释明不当得利纠纷案件的举证责任分配问题，应由原告提供证据证明相应给付义务不存在、给付对象错误、给付目的欠缺等，否则将承担举证不能的不利后果。原告提供的证据虽然真实有效，但仅能证明打款的事实，其提供的证据及称其是受案外人赵延光的指示于2012年7月18日将该案的款项通过工商银行自己的账户直接打入王树先账户的陈述，不足以证明被告取得利益没有合法根据。不当得利请求权达不到足以令人信服的标准；再次，原告尹希平对将钱款存入被告王树先的账户是明知且主动实施的，原告尹希平给付该款项有一定原因，只不过原告在以民间借贷的给付原因起诉后，遭被告否认，又未获法院裁判支持，遂就同一事实，变为以不当得利案由起诉，以转移举证风险。被告王树先为证明上述款项系是案外人赵延光为了还案外人王秀丽的借款，让案外人王秀丽提供工商银行账号，因案外人王秀丽没有工商银行的账号而借用了其弟弟即本案被告王树先的账号所提交的根据，亦不足以证明诉争款项为原告代赵延光归还案外人王秀丽的借款之事实，被告王树先关于诉争款项系还款的反驳证据虽然不充分，但该举证不能的后果仍应由原告承担，因为原告尹希平在以借贷关系起诉遭败诉之后，转以不当得利关系另行起诉，并不当然发生举证责任的转移。综上，原告尹希平是使财产发生变动的主体，其给付行为必然基于某一法律关系，应当对欠缺给付原因的具体情形承担举证责任，现原告尹希平对欠缺给付原因的具体情形没有提供有力证据证明，就不足以认定被告取得该财产没有合法依据。原告要求被告返还款项并赔偿利息损失的诉讼请求，证据不足，本院不予支持。 被告关于原告违反民事诉讼一事不再理的原则而再次起诉的抗辩，本院认为，原告就同一争议以不同的法律关系进行起诉，不违反一事不再理的原则，对该抗辩本院不予采信。关于被告辩称原告尹希平主张不当得利已经超过法律规定的两年的诉讼时效。《中华人民共和国民法通则》第一百四十条规定：“诉讼时效因提起诉讼、当事人一方提出要求或者同意履行义务而中断。从中断时起，诉讼时效期间重新计算”。原告尹希平向寒亭区人民法院以同一事实以民间借贷案由起诉，经潍坊市寒亭区人民法院一审、被告王树先上诉、潍坊中院发回重审、潍坊市寒亭区人民法院重审、原告尹希平上诉，最终经潍坊市中级人民法院判决驳回原告的诉讼请求，符合发生诉讼时效中断的情形，现原告尹希平以同一事实以不当得利案由向本院起诉，不超过法律规定的诉讼时效，对被告的抗辩，本院不予支持。 综上所述，依照《中华人民共和国民法通则》第九十二条、第一百四十条、《最高人民法院关于民事诉讼证据的若干规定》第九十条、《中华人民共和国民事诉讼法》第六十四条第一款、第一百四十二条之规定，判决如下：', '自定义_裁判文书_原告诉称段': '原告尹希平向本院提出诉讼请求：1、依法判令被告返还原告不当得利款141000元及利息（自判决确认债权之日起按照同期银行利率4倍计算）；2、本案诉讼费用由被告承担。事实和理由：2012年7月18日原告向被告在中国工商银行的账户汇款141000元，事后原告以民间借贷纠纷案件向寒亭区人民法院起诉，该案经过寒亭区人民法院一审、被告王树先上诉、潍坊市中级人民法院发回重审、寒亭区人民法院重审、原告尹希平上诉，最终经潍坊市中级人民法院判决驳回原告的诉讼请求。经上述判决查明的案件事实，原被告之间并不相识也未有业务往来，被告取得上述利益无法律依据，由此，被告的行为致使自己获得了利益，给原告造成了损失，且被告的获利无合法依据。依据《中华人民共和国民法通则》第92条之规定，被告行为已构成不当得利，为维护原告的合法权益，故诉至法院，望判如所请。', '自定义_裁判文书_被告辩称段': '被告王树先辩称，首先，原告已就所述案件经过潍坊市寒亭区人民法院一审、被告王树先上诉、潍坊市中级人民法院发回重审、潍坊市寒亭区人民法院重审、原告尹希平上诉，最终经潍坊市中级人民法院判决，已经审理完毕，原告又以同样案件起诉违反民事诉讼一事不再理的原则；其次，原告主张打入被告王树先账户的141000元为不当得利没有事实和法律依据，因为原告向潍坊市寒亭区人民法院诉争的上述事实为民间借贷纠纷，法院认定的事实为原告是应案外人赵延光的要求将钱打入被告王树先名下的账户，原告称是案外人赵延光向其借钱，而不是本案所称打错了钱，但是实际上是赵延光还案外人王秀丽的钱；再次，原告起诉被告不当得利纠纷已经超过两年的诉讼时效。 当事人围绕诉讼请求依法提交了证据，本院组织当事人进行了证据交换和质证。原告提交了（2015）寒民三重字第4号民事判决书、（2016）鲁07民终字第4776号民事判决书、（2012）寒洼民初字第345号民事判决书、（2014）潍民四终字第459号民事判决书、（2016）鲁0784民初2955号民事判决书、中国工商银行账户汇款明细一份、询问笔录复印件两份等证据。被告提交了（2015）寒民三重字第4号民事判决书、（2016）鲁07民终字第4776号民事判决书等证据。 ', '自定义_裁判文书_证据段': '被告对原告提交的（2016）鲁0784民初2955号民事判决书真实性无异议，但认为上述山东省安丘市人民法院的判决书与本案无关，不能作为本案的证据提供，且我国法院不适用判例法。被告对原告提交的（2015）寒民三重字第4号民事判决书、（2016）鲁07民终字第4776号民事判决书的真实性无异议，但是上述两份判决书只能证明原告向被告打过款，并不能证明为不当得利，而是证明原告向被告主张的民间借贷，该款是案外人王秀丽借用了被告王树先的银行卡，原告应案外人赵延光的要求，将款项打入被告王树先的账户，打入的款项是由案外人王秀丽实际占有使用。 原告对被告提供的（2015）寒民三重字第4号民事判决书、（2016）鲁07民终字第4776号民事判决书的真实性无异议，但认为本案并不是被告所述案件的延续，在（2015）寒民三重字第4号民事判决书也有记载，“针对原告尹希平称其系根据案外人赵延光的指示而向被告王树先的账户转账141000元，第三人王秀丽称其借用王树先的工商银行卡系案外人赵延光向其还款141000元而发生的，二人的陈述均涉及案外人，建议原告补充证据后可另案处理。”可以体现出原、被告之间并不相识，也无其他经济往来，不存在双方之间的借贷的合意，被告也承认打款的事实，由此可以认定被告取得利益无法律依据；对被告提供的询问笔录复印件真实性不予认定，但从笔录的内容来看可证实原被告双方一开始并不相识。 对当事人无异议的证据，本院予以确认并在卷佐证。对有争议的证据和事实，本院认定如下：被告提供的询问笔录复印件，原告质证后不予认可，本院不予认定；对原告提供的（2016）鲁0784民初2955号民事判决书，因与本案无关，本院不予认定；对原告提供的（2012）寒洼民初字第345号民事判决书、（2014）潍民四终字第459号民事判决书，判决内容因与本案的案情无法认定有因果关系，且被告不予认可，本院不予认定。 ', '自定义_裁判文书_查明事实段': '根据当事人的陈述和经审查确认的证据，本院认定事实如下： 2012年7月18日，原告尹希平根据案外人赵延光的指示向被告王树先的中国工商银行的账户（卡号为62×××55）转账141000元。2012年9月6日晚，案外人赵振国、王永祥让被告王树先在一张写好的“借条今借尹希平现金141000元壹拾四万壹仟元整借款人：2012年6月24日”的借条借款人处签名。当天晚上被告王树先就其殴打并受强迫签了一张141000元借条的事向潍坊市公安局滨海经济技术开发区分局报警，公安机关予以受理并展开调查。2014年6月24日，该局以因王树先与尹希平、赵振国等之间存在债务纠纷，且寒亭区人民法院已作出判决，无犯罪事实，不需追究刑事责任为由决定不予立案。2012年9月，案外人侯春泉将上述王树先报警称其受强迫所签的借条交给原告尹希平。尹希平后持该借条和转账凭证以民间借贷为由将被告诉至寒亭区人民法院。后经寒亭区人民法院重审认定：原告主张其转出的141000元系被告王树先向其借款的主张达不到民事诉讼证据高度盖然性的证明标准，而被告王树先否认向原告借款的141000元的辩解理由能够达到民事诉讼证据高度盖然性的证明标准，故寒亭区人民法院对原告要求被告王树先偿还借款141000元的主张不予支持，该院作出（2015）寒民三重字第4号民事判决书，判决驳回了原告尹希平的诉讼请求。原告尹希平不服上述判决，向潍坊市中级人民法院提起上诉，潍坊市中级人民法院经审理认为，民间借贷应以意思表示真实成立为前提，上述借条并非被告王树先向原告尹希平借贷的真实意思表示，原被告之间并无直接的借贷合意，涉案款项虽由尹希平的账户汇入王树先的工商银行账号，但不足以证明尹希平向王树先履行了出借款项的义务。故潍坊市中级人民法院作出了（2016）鲁07民终字第4776号民事判决书，判决驳回上诉，维持原判。上述判决生效后，2017年4月12日，原告尹希平基于原被告双方并不相识且原被告之间无其他经济往来，被告的行为构成不当得利为由向本院起诉要求被告王树先返还不当得利款141000元，被告王树先通过答辩质证后认为该款项是案外人赵延光为了偿还案外人王秀丽的借款，让案外人王秀丽提供工商银行账号，因案外人王秀丽没有工商银行的账号而借用了其弟弟即本案被告王树先的账号后，原告尹希平将141000元打入了被告王树先的账号，为此被告王树先的行为不构成不当得利。', '自定义_裁判文书_当事人': '原告：尹希平，男，1973年5月23日出生，汉族，住潍坊市寒亭区。 委托诉讼代理人：李涛，山东潍州律师事务所律师。 被告：王树先，男，1971年10月6日出生，汉族，现住潍坊滨海经济技术开发区。 委托诉讼代理人：孙志丽，山东翔华律师事务所律师。', '自定义_裁判文书_判决结果': ' 驳回原告尹希平的诉讼请求。 案件受理费3120元，减半收取1560元，由原告尹希平负担。 如不服本判决，可以在判决书送达之日起十五日内，向本院递交上诉状，并按对方当事人的人数提出副本，上诉于山东省潍坊市中级人民法院。', '自定义_裁判文书_全文': '山东省潍坊滨海经济技术开发区人民法院 民事判决书 （2017）鲁0792民初173号 原告：尹希平，男，1973年5月23日出生，汉族，住潍坊市寒亭区。 委托诉讼代理人：李涛，山东潍州律师事务所律师。 被告：王树先，男，1971年10月6日出生，汉族，现住潍坊滨海经济技术开发区。 委托诉讼代理人：孙志丽，山东翔华律师事务所律师。 原告尹希平与被告王树先不当得利纠纷一案，本院于2017年4月12日立案后，依法适用简易程序，公开开庭进行了审理。原告尹希平委托诉讼代理人李涛、被告王树先委托诉讼代理人孙志丽到庭参加诉讼。本案现已审理终结。 原告尹希平向本院提出诉讼请求：1、依法判令被告返还原告不当得利款141000元及利息（自判决确认债权之日起按照同期银行利率4倍计算）；2、本案诉讼费用由被告承担。事实和理由：2012年7月18日原告向被告在中国工商银行的账户汇款141000元，事后原告以民间借贷纠纷案件向寒亭区人民法院起诉，该案经过寒亭区人民法院一审、被告王树先上诉、潍坊市中级人民法院发回重审、寒亭区人民法院重审、原告尹希平上诉，最终经潍坊市中级人民法院判决驳回原告的诉讼请求。经上述判决查明的案件事实，原被告之间并不相识也未有业务往来，被告取得上述利益无法律依据，由此，被告的行为致使自己获得了利益，给原告造成了损失，且被告的获利无合法依据。依据《中华人民共和国民法通则》第92条之规定，被告行为已构成不当得利，为维护原告的合法权益，故诉至法院，望判如所请。 被告王树先辩称，首先，原告已就所述案件经过潍坊市寒亭区人民法院一审、被告王树先上诉、潍坊市中级人民法院发回重审、潍坊市寒亭区人民法院重审、原告尹希平上诉，最终经潍坊市中级人民法院判决，已经审理完毕，原告又以同样案件起诉违反民事诉讼一事不再理的原则；其次，原告主张打入被告王树先账户的141000元为不当得利没有事实和法律依据，因为原告向潍坊市寒亭区人民法院诉争的上述事实为民间借贷纠纷，法院认定的事实为原告是应案外人赵延光的要求将钱打入被告王树先名下的账户，原告称是案外人赵延光向其借钱，而不是本案所称打错了钱，但是实际上是赵延光还案外人王秀丽的钱；再次，原告起诉被告不当得利纠纷已经超过两年的诉讼时效。 当事人围绕诉讼请求依法提交了证据，本院组织当事人进行了证据交换和质证。原告提交了（2015）寒民三重字第4号民事判决书、（2016）鲁07民终字第4776号民事判决书、（2012）寒洼民初字第345号民事判决书、（2014）潍民四终字第459号民事判决书、（2016）鲁0784民初2955号民事判决书、中国工商银行账户汇款明细一份、询问笔录复印件两份等证据。被告提交了（2015）寒民三重字第4号民事判决书、（2016）鲁07民终字第4776号民事判决书等证据。 被告对原告提交的（2016）鲁0784民初2955号民事判决书真实性无异议，但认为上述山东省安丘市人民法院的判决书与本案无关，不能作为本案的证据提供，且我国法院不适用判例法。被告对原告提交的（2015）寒民三重字第4号民事判决书、（2016）鲁07民终字第4776号民事判决书的真实性无异议，但是上述两份判决书只能证明原告向被告打过款，并不能证明为不当得利，而是证明原告向被告主张的民间借贷，该款是案外人王秀丽借用了被告王树先的银行卡，原告应案外人赵延光的要求，将款项打入被告王树先的账户，打入的款项是由案外人王秀丽实际占有使用。 原告对被告提供的（2015）寒民三重字第4号民事判决书、（2016）鲁07民终字第4776号民事判决书的真实性无异议，但认为本案并不是被告所述案件的延续，在（2015）寒民三重字第4号民事判决书也有记载，“针对原告尹希平称其系根据案外人赵延光的指示而向被告王树先的账户转账141000元，第三人王秀丽称其借用王树先的工商银行卡系案外人赵延光向其还款141000元而发生的，二人的陈述均涉及案外人，建议原告补充证据后可另案处理。”可以体现出原、被告之间并不相识，也无其他经济往来，不存在双方之间的借贷的合意，被告也承认打款的事实，由此可以认定被告取得利益无法律依据；对被告提供的询问笔录复印件真实性不予认定，但从笔录的内容来看可证实原被告双方一开始并不相识。 对当事人无异议的证据，本院予以确认并在卷佐证。对有争议的证据和事实，本院认定如下：被告提供的询问笔录复印件，原告质证后不予认可，本院不予认定；对原告提供的（2016）鲁0784民初2955号民事判决书，因与本案无关，本院不予认定；对原告提供的（2012）寒洼民初字第345号民事判决书、（2014）潍民四终字第459号民事判决书，判决内容因与本案的案情无法认定有因果关系，且被告不予认可，本院不予认定。 根据当事人的陈述和经审查确认的证据，本院认定事实如下： 2012年7月18日，原告尹希平根据案外人赵延光的指示向被告王树先的中国工商银行的账户（卡号为62×××55）转账141000元。2012年9月6日晚，案外人赵振国、王永祥让被告王树先在一张写好的“借条今借尹希平现金141000元壹拾四万壹仟元整借款人：2012年6月24日”的借条借款人处签名。当天晚上被告王树先就其殴打并受强迫签了一张141000元借条的事向潍坊市公安局滨海经济技术开发区分局报警，公安机关予以受理并展开调查。2014年6月24日，该局以因王树先与尹希平、赵振国等之间存在债务纠纷，且寒亭区人民法院已作出判决，无犯罪事实，不需追究刑事责任为由决定不予立案。2012年9月，案外人侯春泉将上述王树先报警称其受强迫所签的借条交给原告尹希平。尹希平后持该借条和转账凭证以民间借贷为由将被告诉至寒亭区人民法院。后经寒亭区人民法院重审认定：原告主张其转出的141000元系被告王树先向其借款的主张达不到民事诉讼证据高度盖然性的证明标准，而被告王树先否认向原告借款的141000元的辩解理由能够达到民事诉讼证据高度盖然性的证明标准，故寒亭区人民法院对原告要求被告王树先偿还借款141000元的主张不予支持，该院作出（2015）寒民三重字第4号民事判决书，判决驳回了原告尹希平的诉讼请求。原告尹希平不服上述判决，向潍坊市中级人民法院提起上诉，潍坊市中级人民法院经审理认为，民间借贷应以意思表示真实成立为前提，上述借条并非被告王树先向原告尹希平借贷的真实意思表示，原被告之间并无直接的借贷合意，涉案款项虽由尹希平的账户汇入王树先的工商银行账号，但不足以证明尹希平向王树先履行了出借款项的义务。故潍坊市中级人民法院作出了（2016）鲁07民终字第4776号民事判决书，判决驳回上诉，维持原判。上述判决生效后，2017年4月12日，原告尹希平基于原被告双方并不相识且原被告之间无其他经济往来，被告的行为构成不当得利为由向本院起诉要求被告王树先返还不当得利款141000元，被告王树先通过答辩质证后认为该款项是案外人赵延光为了偿还案外人王秀丽的借款，让案外人王秀丽提供工商银行账号，因案外人王秀丽没有工商银行的账号而借用了其弟弟即本案被告王树先的账号后，原告尹希平将141000元打入了被告王树先的账号，为此被告王树先的行为不构成不当得利。 本案的争议焦点为被告王树先的行为是否构成不当得利。本院认为，首先，结合原告尹希平从事的职业且其作为完全民事行为能力人理应具备较高的风险意识和证据意识，现原告主动给付被告较大金额的财产，却在缺乏其他证据的情形之下仅以打款这一事实主张被告为不当得利，于常理有不符之处；其次，不当得利构成要件中取得利益无合法依据并非单纯的消极事实，本案先有一方的给付才有另一方的受付，认定有无合法根据，需要足够的证据予以证实，使不当得利请求权达到足以令人信服的标准，在庭审过程中，本院也向原告尹希平释明不当得利纠纷案件的举证责任分配问题，应由原告提供证据证明相应给付义务不存在、给付对象错误、给付目的欠缺等，否则将承担举证不能的不利后果。原告提供的证据虽然真实有效，但仅能证明打款的事实，其提供的证据及称其是受案外人赵延光的指示于2012年7月18日将该案的款项通过工商银行自己的账户直接打入王树先账户的陈述，不足以证明被告取得利益没有合法根据。不当得利请求权达不到足以令人信服的标准；再次，原告尹希平对将钱款存入被告王树先的账户是明知且主动实施的，原告尹希平给付该款项有一定原因，只不过原告在以民间借贷的给付原因起诉后，遭被告否认，又未获法院裁判支持，遂就同一事实，变为以不当得利案由起诉，以转移举证风险。被告王树先为证明上述款项系是案外人赵延光为了还案外人王秀丽的借款，让案外人王秀丽提供工商银行账号，因案外人王秀丽没有工商银行的账号而借用了其弟弟即本案被告王树先的账号所提交的根据，亦不足以证明诉争款项为原告代赵延光归还案外人王秀丽的借款之事实，被告王树先关于诉争款项系还款的反驳证据虽然不充分，但该举证不能的后果仍应由原告承担，因为原告尹希平在以借贷关系起诉遭败诉之后，转以不当得利关系另行起诉，并不当然发生举证责任的转移。综上，原告尹希平是使财产发生变动的主体，其给付行为必然基于某一法律关系，应当对欠缺给付原因的具体情形承担举证责任，现原告尹希平对欠缺给付原因的具体情形没有提供有力证据证明，就不足以认定被告取得该财产没有合法依据。原告要求被告返还款项并赔偿利息损失的诉讼请求，证据不足，本院不予支持。 被告关于原告违反民事诉讼一事不再理的原则而再次起诉的抗辩，本院认为，原告就同一争议以不同的法律关系进行起诉，不违反一事不再理的原则，对该抗辩本院不予采信。关于被告辩称原告尹希平主张不当得利已经超过法律规定的两年的诉讼时效。《中华人民共和国民法通则》第一百四十条规定：“诉讼时效因提起诉讼、当事人一方提出要求或者同意履行义务而中断。从中断时起，诉讼时效期间重新计算”。原告尹希平向寒亭区人民法院以同一事实以民间借贷案由起诉，经潍坊市寒亭区人民法院一审、被告王树先上诉、潍坊中院发回重审、潍坊市寒亭区人民法院重审、原告尹希平上诉，最终经潍坊市中级人民法院判决驳回原告的诉讼请求，符合发生诉讼时效中断的情形，现原告尹希平以同一事实以不当得利案由向本院起诉，不超过法律规定的诉讼时效，对被告的抗辩，本院不予支持。 综上所述，依照《中华人民共和国民法通则》第九十二条、第一百四十条、《最高人民法院关于民事诉讼证据的若干规定》第九十条、《中华人民共和国民事诉讼法》第六十四条第一款、第一百四十二条之规定，判决如下： 驳回原告尹希平的诉讼请求。 案件受理费3120元，减半收取1560元，由原告尹希平负担。 如不服本判决，可以在判决书送达之日起十五日内，向本院递交上诉状，并按对方当事人的人数提出副本，上诉于山东省潍坊市中级人民法院。 审判员牟明刚 二〇一七年九月二十九日 书记员袁田田 ', '法条': ['《中华人民共和国民事诉讼法》第六十四条第一款', '《中华人民共和国民法通则》第九十二条', '《最高人民法院关于民事诉讼证据的若干规定》第九十条', '《中华人民共和国民法通则》第一百四十条', '《中华人民共和国民事诉讼法》第一百四十二条'], '案例属性': {'案件类别': '民事案件', '文书种类': '判决书', '经办法院': '山东省潍坊滨海经济技术开发区人民法院', '法官成员': ['牟明刚', '袁田田', '牟明刚'], '案由': '不当得利纠纷'}, 'vec': [0.2613825142730122, -0.267136960190319, -0.017591477215413764, 0.05934325186511173, -0.41306664581005503, 0.3979075575659401, -0.347806157900046, -0.16553152406054633, 0.2100923720982681, 0.43153479160824093, -0.2188979430656009, 0.10460687944760778, 0.08181927390399868, 0.07900894796916723, -0.13230182080774913, -0.06154294099033046, -0.0321715489220992, -0.23065194357044208, -0.24038312608454152, 0.1656778168223814, 0.05101443978107664, -0.16632844793836232, -0.006943758553526713, -0.14445793925007663, -0.1614016301482492, 0.05471037635475807, 0.15157606104062904, 0.14758350238155038, -0.0016913386926926065, -0.1987023688499369, 0.025851507114584525, -0.16658817403627466, 0.09043236909430435, -0.27902363995332286, 0.05928736176778309, 0.14662681881682613, -0.07117343851954507, 0.21006759289950797, -0.04701725596717252, -0.2863565720967917, -0.0559194787074797, -0.09269469959986518, -0.07674346565814114, -0.10598263784106533, 0.019127623925862487, 0.31577616554046983, -0.14500748558403193, 0.16324633042953413, 0.29350362291213683, -0.17596268978838542, -0.20998473324234881, -0.20815484131094006, -0.44491020509263385, -0.12416974119019046, -0.328766336757657, -0.1286538855807292, 0.18145619669801688, 0.4905213613870723, -0.116460454945802, -0.5235816634758176, 0.23722824457946046, -0.09196804644466651, 0.3357542496971728, -0.06256284422267903, 0.15221049696343997, 0.028236654442491224, 0.2386625988964166, -0.17129011094384533, 0.13118388797986064, 0.16180320877559015, 0.07907614625216199, 0.08327118453153462, 0.0007459155399230334, -0.11411219991284448, -0.07587038390463385, 0.27663971654199015, -0.002849231051063153, -0.13262809543344845, -0.18306796288725857, 0.06369459997616003, 0.29874589770000876, 0.11611174427063102, -0.4283108403573209, 0.030785090119109338, -0.19869383286098338, -0.029430815685054162, -0.11416901488891834, -0.2226067527827605, -0.210319195922794, -0.20167490782384556, -0.26305712697748845, 0.005300101260598998, -0.07526947223933647, 0.14546028356638788, -0.17552362927776424, 0.020976852378133848, 0.046707567533277955, 0.21686157392100996, 0.1819603110286286, -0.02146355029561564]}, 'highlight': {'法条': ['《<em>中华人民共和国</em><em>民事诉讼法</em>》<em>第六十</em><em>四条</em><em>第一款</em>', '《<em>中华人民共和国</em><em>民法通则</em>》<em>第九十</em><em>二条</em>', '《最高人民法院关于民事诉讼证据的若干规定》<em>第九十</em>条', '《<em>中华人民共和国</em><em>民法通则</em>》第一百四十条', '《<em>中华人民共和国</em><em>民事诉讼法</em>》第一百四十<em>二条</em>']}}, {'_index': 'new-case-data', '_id': '61359', '_score': 11.775184, '_ignored': ['自定义_裁判文书_证据段.keyword', '自定义_裁判文书_查明事实段.keyword', '全文.判决结果.keyword', '全文.诉讼记录.keyword', '自定义_裁判文书_裁判分析过程.keyword', '自定义_裁判文书_判决结果.keyword', '全文.裁判分析过程.keyword', '自定义_裁判文书_被告辩称段.keyword', '自定义_裁判文书_全文.keyword', '全文.案件基本情况.keyword', '自定义_裁判文书_原告诉称段.keyword'], '_source': {'全文': {'文首': {'文书制作单位': '法院', '法院文书种类': '裁判文书', '经办法院': '重庆市巫山县人民法院', '文书名称': '民事判决书', '案号': '（2017）渝0237民初1622号', '案件类别': '民事案件', '文书种类': '判决书', '审判程序': '一审案件', '案件类型': '民事一审案件'}, '当事人': '原告：重庆世法教育信息咨询有限公司，住所地重庆市渝北区回兴街道宝圣大道802号学林花园1幢5-3-2，统一社会信用代码91500112588919471J。 负责人：刘建云（主持工作）。 委托诉讼代理人：杜铁东，重庆升正律师事务所律师。 被告：宋万培，男，1985年7月21日出生，汉族，住重庆市巫山县。', '诉讼记录': ' 原告重庆世法教育信息咨询有限公司与被告宋万培不当得利纠纷、反诉原告宋万培与反诉被告重庆世法教育信息咨询有限公司赔偿损失纠纷一案，本院于2017年5月3日立案受理，依法由审判员尹文生独任审判，适用简易程序并于2017年6月5日公开开庭进行了审理。原告重庆世法教育信息咨询有限公司的委托诉讼代理人杜铁东、被告宋万培到庭参加诉讼。2017年6月8日，反诉原告宋万培向本院提出撤诉申请，要求撤回对反诉被告重庆世法教育信息咨询有限公司要求赔偿损失的诉讼，经本院审查，反诉原告宋万培的撤诉申请符合法律的规定，本院予以准许。本案现已审理终结。', '案件基本情况': ' 原告重庆世法教育信息咨询有限公司向本院提出诉讼请求：1、请求判令被告返还司考资料费、辅导费11639元；2、本案诉讼费由被告承担。 事实与理由，2016年3月30日，被告了解到厚大司考乃全国知名司考培训机构，于是找到原告了解相关情况。原告向被告明确了辅导师资、辅导课时、资料、教辅等服务，在报名时也明确告知厚大加盟面授分校，于是决定到原告处参加VIP协议班的辅导（辅导费16800元），当时被告说身上仅有5000元，剩下的11800元在一个月内交清。后原告立即安排其参加VIP的辅导培训，从2016年3月28日起开始利用周末及节假日进行远程投影教学及每周一、三、五晚上2-3小时面授辅导，详解各知识点，提前了解各科复习方法及重点考试范围，并对被告进行了相关考勤督促。期间原告一直催缴余费，被告以各种理由进行推脱，原告体谅其考试的艰辛，在苦苦哀求下答应其在面授上课（7月8日）之前交清余款。但被告仍以其老婆、小孩生病等为由拒不交款，直至2016年8月1日面授第一阶段结束前，原告终止其辅导培训资格。被告于当天就去渝北区公安分局诬告原告诈骗，后又去渝北区信访办举报，然后又去渝北区工商局举报。后原告向渝北区法院起诉撤销之诉，经渝北区法院［（2016）渝0112民初20810号］、重庆市第一中级法院判决撤销原、被告双方的辅导培训协议，但被告在原告处领取的资料及参加辅导培训属于不当得利，应予以返还。 被告在原告处领取了厚大讲义理论卷8本，价值465元，厚大讲义真题卷8本，价值202元；厚大民法考点集萃，价值38元；原告提供了4月1日至7月7日内部加密视频课程及内部绝密资料（厚大远程分校内部讲义），价值1680元；被告在原告处接受每周一、三、五晚上2小时的专辅21次，每次专辅费用200元，共计4200元；从7月8日至8月3日第一阶段面授学费为3970元，被告已上完第一个阶段24天课程中的22天，折合费用为3970÷24×22=3639元，以上合计10224元。 被告宋万培辩称，1、原告诉称事实和理由与客观事实不符，请求法院在查清事实的基础上依法驳回原告的诉讼请求。被告没有收到原告提供的司考资料、辅导等相关资料，本案原告重庆世法教育信息咨询有限公司的经营范围不包括办学相关方面的业务，该公司的实际经营负责人刘建云，杜铁东在该公司没有办学资质的许可情况下，私刻“厚大司法考试培训重庆分校”的公章，对外故意以“厚大司法考试培训重庆分校”的名义与被告签订合同，属于故意告知被告虚假情况，或者故意隐瞒真实情况，诱使被告作出错误的意思表示，这一行为属于欺诈行为，2017年1月11日重庆市渝北区人民法院判决在查明事实清楚、适用法律正确的基础上依法驳回了原告的诉讼请求，后原告于2017年3月7日向重庆市第一中级人民法院上诉，2017年4月13日重庆市第一中级人民法院驳回上诉，维持原判。原告2017年5月3日再次向巫山县人民法院以不当得利为由，无任何事实依据的情况下恶意缠诉，浪费国家审判资源，并给被告带来严重的经济损失，经预算被告自2016年3月30日至2016年10月1日期间因原告的欺诈行为导致被告直接经济损失长达6万余元左右，现被告向法庭提交的现有部分证据理应得到法院支持。2、没有合法根据，取得不当利益，造成他人损失的，应当将取得的不当利益返还受损失的人，本案中原告的欺诈行为导致被告经济严重受损，欺诈行为即不合法行为，根据《民法通则》之规定，法律只保护合法的利益，合法的行为取得的不当得利才受法律保护，以欺诈的行为非法获取利益，在无法律依据的情况下理应不受法律保护。3、原告向法庭提交的证据均涉嫌作假的嫌疑，被告也并没有收到原告的考试相关资料，同时我方保留追究其原告制作假证据的权利，退一步说即便原告提交的证据真实，也不能证明原告提供资料的实际价值，更没有相关物价部门对培训价格进行认定，对此原告应承担举证不能的后果。 经审理查明，2016年3月30日，原告重庆世法教育信息咨询有限公司以“厚大司法考试培训重庆分校”（甲方）的名义与被告宋万培（乙方）签订《厚大司考重庆分校VIP协议》。协议主要内容为：乙方参加甲方VIP协议班学习，并保证2016年如期参加国家统一司法考试；乙方报甲方VIP班，学费16000元。甲方安排课程包含2个阶段，第一阶段为周末远程课程（从3月中下旬至7月初）＋每周3次现场专辅课，收费8000元（听课费及辅导费）；第二阶段为暑假面授阶段（7月中旬至9月初）＋VIP资料＋上课期间现场专辅，收费8000元（全程班学费及其相关费用）；若乙方没有达到2016年合格分数线的，甲方退还8000元给乙方。该合同甲方落款处加盖了“厚大司法考试培训重庆分校”的印章。被告宋万培通过银联POS机给原告重庆世法教育信息咨询有限公司支付学费5000元。被告宋万培从2016年4月2日到7月4日，参加了原告组织的周末班视频课学习26天；从4月6日到6月22日，参加了原告组织的每周一、三、五晚上的专辅课21次；从7月9日到7月23日，参加了原告组织的面授课学习11天。 由于被告宋万培未能按照协议支付原告重庆世法教育信息咨询有限公司的培训余款，经催收后宋万培仍未能缴纳，原告重庆世法教育信息咨询有限公司在被告宋万培面授期间终止了原告的上课。被告宋万培遂向渝北区工商局、信访办等部门投诉原告欺诈，2016年10月12日又向重庆市渝北区人民法院提起诉讼，要求撤销双方签订的《厚大司考重庆分校VIP协议》，并返还学费5000元。重庆市渝北区人民法院经审理后，于2017年1月11日作出（2016）渝0112民初20810号民事判决书，判决：一、撤销宋万培与重庆世法教育信息咨询有限公司于2016年3月30日签订的《厚大司考重庆分校VIP协议》；二、重庆世法教育信息咨询有限公司于本判决生效之日起十日内返还宋万培学费5000元。重庆世法教育信息咨询有限公司不服该判决，向重庆市第一中级人民法院提起上诉，重庆市第一中级人民法院经审理后于2017年4月13日作出（2017）渝01民终2008号民事判决书，判决驳回上诉，维持原判。 上述事实，有《厚大司考重庆分校VIP协议》、《厚大司考项目合作协议》、《挂靠协议书》、《情况说明书》，VIP学员宋万培视频课签到表、宋万培晚上专辅签到表、宋万培面授签到表，2016年真题领取登记表、2016年内部讲义（白皮书）领取登记表、2016年（金）教材领取表，原、被告之间的微信聊天记录，招生简章，民法考点集粹，2016年国家考试《行政法授课精要》、《商经授课精要》、《三国授课精要》、《刑法授课精要》、《民法授课精要》、《民诉授课精要》、《理论法授课精要》、《刑诉授课精要》，《钟秀勇讲民法》、《刘凤科讲刑法》、《徐金桂讲行政》、《杨雄讲刑诉》、《郭翔讲民诉》、《宋光明讲理论》、《鄢梦萱讲商经》，《殷敏讲三国》，《厚大远程课堂讲义》（包括三国、民诉、刑法、民法2本、行政、理论、刑诉、商经）等书本的封面复印件以及部分书体的封底复印件，双方当事人的陈述在卷佐证，本案事实清楚。 ', '裁判分析过程': '本院认为，本案主要的争议焦点是：1、被告宋万培是否在原告重庆世法教育信息咨询有限公司领取了相应的培训资料和书籍。从原告在庭审中的举证，并结合被告的质证意见，原告在庭审中仅举示了教材和讲义领取登记表，登记表中虽然有宋万培的名字，但该名字都是原告在制作领取表时自行打印上去的，没有宋万培本人的签字，而且宋万培也否认在原告处领取了相应的资料。另原告举示的证据《民法授课精要》等书籍，原告仅提供了相应书籍正、底面的复印件，没有任何被告签字的证据，所以原告主张被告宋万培领取了《厚大讲义理论卷》、《厚大讲义真题卷》、《厚大民法考点集萃》等资料，没有充分的证据证实，因此原告要求被告宋万培返还的请求不符合法律的规定，本院不予支持。 2、被告宋万培是否参加了原告举办的司法考试视频、专辅、面授的学习。原告举示被告宋万培学习时的签到表，该表上签有“宋万培”的名字，虽然宋万培在庭审中否认是自己亲笔签名，但宋万培在法庭规定的鉴定期间内没有申请鉴定，视为放弃其权利，应当认可被告宋万培参加了原告组织的视频、专辅以及面授三种方式的学习，而且宋万培本人在法庭中也认可参加了部分学习，所以本院对原告主张的被告宋万培参加了三种方式的学习予以确认，具体学习的时间以原告举示的签到表中宋万培签字的为准。 3、被告宋万培参加原告组织的司考培训学习，是否属于不当得利，被告宋万培是否应该予以返还。依法律行为而取得的利益是合法的，正当的，当然不成立不当得利；但是若当事人所为的民事行为无效或者被撤销时，当事一方依据该行为所取得的利益，已无合法的原因，则可构成不当得利。原、被告双方签订的《厚大司考重庆分校VIP协议》因欺诈、合同行为被撤销而归于无效，所以被告宋万培在厚大司考重庆分校VIP班学习时所取得的财产无法律上的合法依据，构成不当得利，应当予以返还。但是，原告要求被告宋万培返还辅导费，该辅导费并非是原告交付给对方的财物及财物所产生的孳息，也不符合《合同法》中所规定的合同被撤销后所返还财产的范畴，故原告要求被告返还辅导费的请求，不符合法律的规定，本院不予支持。 综上所述，原告诉称被告领取的资料、书籍价值1705元，应由被告宋万培返还的诉讼请求，没有相应证据证实，本院不予支持；原告诉称被告宋万培参加了三种方式的学习，应当“返还”辅导费9519元，原告的请求不符合法律的规定，本院不予支持。被告宋万培的辩解理由符合法律的规定，本院予以采纳。经本院审判委员会讨论决定，依照《中华人民共和国民法通则》第九十二条，《中华人民共和国民事诉讼法》第六十四条第一款的规定，判决如下：', '判决结果': ' 驳回原告重庆世法教育信息咨询有限公司要求被告宋万培返还司考资料费、辅导费等11639元的诉讼请求。 本案案件受理费90元，减半收取45元，由原告重庆世法教育信息咨询有限公司负担。 如不服本判决，可在判决书送达之日起十五日内，向本院递交上诉状，并按对方当事人的人数提出副本，上诉于重庆市第二中级人民法院。同时，按照国务院《诉讼费用交纳办法》的规定交纳上诉案件受理费。递交上诉状并收到本院预交上诉费通知书后应当及时预交上诉案件受理费。未在本院预交上诉费通知书指定的期限内预交上诉案件受理费又未提出缓交、减交、免交申请的，按自动撤回上诉处理。', '文尾': ' 审判员尹文生 二〇一七年六月八日 书记员曾宪府 ', '立案日期': '2017年5月3日', '文书是否模糊': '否'}, '自定义_裁判文书_裁判分析过程': '本院认为，本案主要的争议焦点是：1、被告宋万培是否在原告重庆世法教育信息咨询有限公司领取了相应的培训资料和书籍。从原告在庭审中的举证，并结合被告的质证意见，原告在庭审中仅举示了教材和讲义领取登记表，登记表中虽然有宋万培的名字，但该名字都是原告在制作领取表时自行打印上去的，没有宋万培本人的签字，而且宋万培也否认在原告处领取了相应的资料。另原告举示的证据《民法授课精要》等书籍，原告仅提供了相应书籍正、底面的复印件，没有任何被告签字的证据，所以原告主张被告宋万培领取了《厚大讲义理论卷》、《厚大讲义真题卷》、《厚大民法考点集萃》等资料，没有充分的证据证实，因此原告要求被告宋万培返还的请求不符合法律的规定，本院不予支持。 2、被告宋万培是否参加了原告举办的司法考试视频、专辅、面授的学习。原告举示被告宋万培学习时的签到表，该表上签有“宋万培”的名字，虽然宋万培在庭审中否认是自己亲笔签名，但宋万培在法庭规定的鉴定期间内没有申请鉴定，视为放弃其权利，应当认可被告宋万培参加了原告组织的视频、专辅以及面授三种方式的学习，而且宋万培本人在法庭中也认可参加了部分学习，所以本院对原告主张的被告宋万培参加了三种方式的学习予以确认，具体学习的时间以原告举示的签到表中宋万培签字的为准。 3、被告宋万培参加原告组织的司考培训学习，是否属于不当得利，被告宋万培是否应该予以返还。依法律行为而取得的利益是合法的，正当的，当然不成立不当得利；但是若当事人所为的民事行为无效或者被撤销时，当事一方依据该行为所取得的利益，已无合法的原因，则可构成不当得利。原、被告双方签订的《厚大司考重庆分校VIP协议》因欺诈、合同行为被撤销而归于无效，所以被告宋万培在厚大司考重庆分校VIP班学习时所取得的财产无法律上的合法依据，构成不当得利，应当予以返还。但是，原告要求被告宋万培返还辅导费，该辅导费并非是原告交付给对方的财物及财物所产生的孳息，也不符合《合同法》中所规定的合同被撤销后所返还财产的范畴，故原告要求被告返还辅导费的请求，不符合法律的规定，本院不予支持。 综上所述，原告诉称被告领取的资料、书籍价值1705元，应由被告宋万培返还的诉讼请求，没有相应证据证实，本院不予支持；原告诉称被告宋万培参加了三种方式的学习，应当“返还”辅导费9519元，原告的请求不符合法律的规定，本院不予支持。被告宋万培的辩解理由符合法律的规定，本院予以采纳。经本院审判委员会讨论决定，依照《中华人民共和国民法通则》第九十二条，《中华人民共和国民事诉讼法》第六十四条第一款的规定，判决如下：', '自定义_裁判文书_原告诉称段': '原告重庆世法教育信息咨询有限公司向本院提出诉讼请求：1、请求判令被告返还司考资料费、辅导费11639元；2、本案诉讼费由被告承担。 事实与理由，2016年3月30日，被告了解到厚大司考乃全国知名司考培训机构，于是找到原告了解相关情况。原告向被告明确了辅导师资、辅导课时、资料、教辅等服务，在报名时也明确告知厚大加盟面授分校，于是决定到原告处参加VIP协议班的辅导（辅导费16800元），当时被告说身上仅有5000元，剩下的11800元在一个月内交清。后原告立即安排其参加VIP的辅导培训，从2016年3月28日起开始利用周末及节假日进行远程投影教学及每周一、三、五晚上2-3小时面授辅导，详解各知识点，提前了解各科复习方法及重点考试范围，并对被告进行了相关考勤督促。期间原告一直催缴余费，被告以各种理由进行推脱，原告体谅其考试的艰辛，在苦苦哀求下答应其在面授上课（7月8日）之前交清余款。但被告仍以其老婆、小孩生病等为由拒不交款，直至2016年8月1日面授第一阶段结束前，原告终止其辅导培训资格。被告于当天就去渝北区公安分局诬告原告诈骗，后又去渝北区信访办举报，然后又去渝北区工商局举报。后原告向渝北区法院起诉撤销之诉，经渝北区法院［（2016）渝0112民初20810号］、重庆市第一中级法院判决撤销原、被告双方的辅导培训协议，但被告在原告处领取的资料及参加辅导培训属于不当得利，应予以返还。 被告在原告处领取了厚大讲义理论卷8本，价值465元，厚大讲义真题卷8本，价值202元；厚大民法考点集萃，价值38元；原告提供了4月1日至7月7日内部加密视频课程及内部绝密资料（厚大远程分校内部讲义），价值1680元；被告在原告处接受每周一、三、五晚上2小时的专辅21次，每次专辅费用200元，共计4200元；从7月8日至8月3日第一阶段面授学费为3970元，被告已上完第一个阶段24天课程中的22天，折合费用为3970÷24×22=3639元，以上合计10224元。', '自定义_裁判文书_被告辩称段': '被告宋万培辩称，1、原告诉称事实和理由与客观事实不符，请求法院在查清事实的基础上依法驳回原告的诉讼请求。被告没有收到原告提供的司考资料、辅导等相关资料，本案原告重庆世法教育信息咨询有限公司的经营范围不包括办学相关方面的业务，该公司的实际经营负责人刘建云，杜铁东在该公司没有办学资质的许可情况下，私刻“厚大司法考试培训重庆分校”的公章，对外故意以“厚大司法考试培训重庆分校”的名义与被告签订合同，属于故意告知被告虚假情况，或者故意隐瞒真实情况，诱使被告作出错误的意思表示，这一行为属于欺诈行为，2017年1月11日重庆市渝北区人民法院判决在查明事实清楚、适用法律正确的基础上依法驳回了原告的诉讼请求，后原告于2017年3月7日向重庆市第一中级人民法院上诉，2017年4月13日重庆市第一中级人民法院驳回上诉，维持原判。原告2017年5月3日再次向巫山县人民法院以不当得利为由，无任何事实依据的情况下恶意缠诉，浪费国家审判资源，并给被告带来严重的经济损失，经预算被告自2016年3月30日至2016年10月1日期间因原告的欺诈行为导致被告直接经济损失长达6万余元左右，现被告向法庭提交的现有部分证据理应得到法院支持。2、没有合法根据，取得不当利益，造成他人损失的，应当将取得的不当利益返还受损失的人，本案中原告的欺诈行为导致被告经济严重受损，欺诈行为即不合法行为，根据《民法通则》之规定，法律只保护合法的利益，合法的行为取得的不当得利才受法律保护，以欺诈的行为非法获取利益，在无法律依据的情况下理应不受法律保护。3、原告向法庭提交的证据均涉嫌作假的嫌疑，被告也并没有收到原告的考试相关资料，同时我方保留追究其原告制作假证据的权利，退一步说即便原告提交的证据真实，也不能证明原告提供资料的实际价值，更没有相关物价部门对培训价格进行认定，对此原告应承担举证不能的后果。', '自定义_裁判文书_证据段': '上述事实，有《厚大司考重庆分校VIP协议》、《厚大司考项目合作协议》、《挂靠协议书》、《情况说明书》，VIP学员宋万培视频课签到表、宋万培晚上专辅签到表、宋万培面授签到表，2016年真题领取登记表、2016年内部讲义（白皮书）领取登记表、2016年（金）教材领取表，原、被告之间的微信聊天记录，招生简章，民法考点集粹，2016年国家考试《行政法授课精要》、《商经授课精要》、《三国授课精要》、《刑法授课精要》、《民法授课精要》、《民诉授课精要》、《理论法授课精要》、《刑诉授课精要》，《钟秀勇讲民法》、《刘凤科讲刑法》、《徐金桂讲行政》、《杨雄讲刑诉》、《郭翔讲民诉》、《宋光明讲理论》、《鄢梦萱讲商经》，《殷敏讲三国》，《厚大远程课堂讲义》（包括三国、民诉、刑法、民法2本、行政、理论、刑诉、商经）等书本的封面复印件以及部分书体的封底复印件，双方当事人的陈述在卷佐证，本案事实清楚。 ', '自定义_裁判文书_查明事实段': '经审理查明，2016年3月30日，原告重庆世法教育信息咨询有限公司以“厚大司法考试培训重庆分校”（甲方）的名义与被告宋万培（乙方）签订《厚大司考重庆分校VIP协议》。协议主要内容为：乙方参加甲方VIP协议班学习，并保证2016年如期参加国家统一司法考试；乙方报甲方VIP班，学费16000元。甲方安排课程包含2个阶段，第一阶段为周末远程课程（从3月中下旬至7月初）＋每周3次现场专辅课，收费8000元（听课费及辅导费）；第二阶段为暑假面授阶段（7月中旬至9月初）＋VIP资料＋上课期间现场专辅，收费8000元（全程班学费及其相关费用）；若乙方没有达到2016年合格分数线的，甲方退还8000元给乙方。该合同甲方落款处加盖了“厚大司法考试培训重庆分校”的印章。被告宋万培通过银联POS机给原告重庆世法教育信息咨询有限公司支付学费5000元。被告宋万培从2016年4月2日到7月4日，参加了原告组织的周末班视频课学习26天；从4月6日到6月22日，参加了原告组织的每周一、三、五晚上的专辅课21次；从7月9日到7月23日，参加了原告组织的面授课学习11天。 由于被告宋万培未能按照协议支付原告重庆世法教育信息咨询有限公司的培训余款，经催收后宋万培仍未能缴纳，原告重庆世法教育信息咨询有限公司在被告宋万培面授期间终止了原告的上课。被告宋万培遂向渝北区工商局、信访办等部门投诉原告欺诈，2016年10月12日又向重庆市渝北区人民法院提起诉讼，要求撤销双方签订的《厚大司考重庆分校VIP协议》，并返还学费5000元。重庆市渝北区人民法院经审理后，于2017年1月11日作出（2016）渝0112民初20810号民事判决书，判决：一、撤销宋万培与重庆世法教育信息咨询有限公司于2016年3月30日签订的《厚大司考重庆分校VIP协议》；二、重庆世法教育信息咨询有限公司于本判决生效之日起十日内返还宋万培学费5000元。重庆世法教育信息咨询有限公司不服该判决，向重庆市第一中级人民法院提起上诉，重庆市第一中级人民法院经审理后于2017年4月13日作出（2017）渝01民终2008号民事判决书，判决驳回上诉，维持原判。 ', '自定义_裁判文书_当事人': '原告：重庆世法教育信息咨询有限公司，住所地重庆市渝北区回兴街道宝圣大道802号学林花园1幢5-3-2，统一社会信用代码91500112588919471J。 负责人：刘建云（主持工作）。 委托诉讼代理人：杜铁东，重庆升正律师事务所律师。 被告：宋万培，男，1985年7月21日出生，汉族，住重庆市巫山县。', '自定义_裁判文书_判决结果': ' 驳回原告重庆世法教育信息咨询有限公司要求被告宋万培返还司考资料费、辅导费等11639元的诉讼请求。 本案案件受理费90元，减半收取45元，由原告重庆世法教育信息咨询有限公司负担。 如不服本判决，可在判决书送达之日起十五日内，向本院递交上诉状，并按对方当事人的人数提出副本，上诉于重庆市第二中级人民法院。同时，按照国务院《诉讼费用交纳办法》的规定交纳上诉案件受理费。递交上诉状并收到本院预交上诉费通知书后应当及时预交上诉案件受理费。未在本院预交上诉费通知书指定的期限内预交上诉案件受理费又未提出缓交、减交、免交申请的，按自动撤回上诉处理。', '自定义_裁判文书_全文': '重庆市巫山县人民法院 民事判决书 （2017）渝0237民初1622号 原告：重庆世法教育信息咨询有限公司，住所地重庆市渝北区回兴街道宝圣大道802号学林花园1幢5-3-2，统一社会信用代码91500112588919471J。 负责人：刘建云（主持工作）。 委托诉讼代理人：杜铁东，重庆升正律师事务所律师。 被告：宋万培，男，1985年7月21日出生，汉族，住重庆市巫山县。 原告重庆世法教育信息咨询有限公司与被告宋万培不当得利纠纷、反诉原告宋万培与反诉被告重庆世法教育信息咨询有限公司赔偿损失纠纷一案，本院于2017年5月3日立案受理，依法由审判员尹文生独任审判，适用简易程序并于2017年6月5日公开开庭进行了审理。原告重庆世法教育信息咨询有限公司的委托诉讼代理人杜铁东、被告宋万培到庭参加诉讼。2017年6月8日，反诉原告宋万培向本院提出撤诉申请，要求撤回对反诉被告重庆世法教育信息咨询有限公司要求赔偿损失的诉讼，经本院审查，反诉原告宋万培的撤诉申请符合法律的规定，本院予以准许。本案现已审理终结。 原告重庆世法教育信息咨询有限公司向本院提出诉讼请求：1、请求判令被告返还司考资料费、辅导费11639元；2、本案诉讼费由被告承担。 事实与理由，2016年3月30日，被告了解到厚大司考乃全国知名司考培训机构，于是找到原告了解相关情况。原告向被告明确了辅导师资、辅导课时、资料、教辅等服务，在报名时也明确告知厚大加盟面授分校，于是决定到原告处参加VIP协议班的辅导（辅导费16800元），当时被告说身上仅有5000元，剩下的11800元在一个月内交清。后原告立即安排其参加VIP的辅导培训，从2016年3月28日起开始利用周末及节假日进行远程投影教学及每周一、三、五晚上2-3小时面授辅导，详解各知识点，提前了解各科复习方法及重点考试范围，并对被告进行了相关考勤督促。期间原告一直催缴余费，被告以各种理由进行推脱，原告体谅其考试的艰辛，在苦苦哀求下答应其在面授上课（7月8日）之前交清余款。但被告仍以其老婆、小孩生病等为由拒不交款，直至2016年8月1日面授第一阶段结束前，原告终止其辅导培训资格。被告于当天就去渝北区公安分局诬告原告诈骗，后又去渝北区信访办举报，然后又去渝北区工商局举报。后原告向渝北区法院起诉撤销之诉，经渝北区法院［（2016）渝0112民初20810号］、重庆市第一中级法院判决撤销原、被告双方的辅导培训协议，但被告在原告处领取的资料及参加辅导培训属于不当得利，应予以返还。 被告在原告处领取了厚大讲义理论卷8本，价值465元，厚大讲义真题卷8本，价值202元；厚大民法考点集萃，价值38元；原告提供了4月1日至7月7日内部加密视频课程及内部绝密资料（厚大远程分校内部讲义），价值1680元；被告在原告处接受每周一、三、五晚上2小时的专辅21次，每次专辅费用200元，共计4200元；从7月8日至8月3日第一阶段面授学费为3970元，被告已上完第一个阶段24天课程中的22天，折合费用为3970÷24×22=3639元，以上合计10224元。 被告宋万培辩称，1、原告诉称事实和理由与客观事实不符，请求法院在查清事实的基础上依法驳回原告的诉讼请求。被告没有收到原告提供的司考资料、辅导等相关资料，本案原告重庆世法教育信息咨询有限公司的经营范围不包括办学相关方面的业务，该公司的实际经营负责人刘建云，杜铁东在该公司没有办学资质的许可情况下，私刻“厚大司法考试培训重庆分校”的公章，对外故意以“厚大司法考试培训重庆分校”的名义与被告签订合同，属于故意告知被告虚假情况，或者故意隐瞒真实情况，诱使被告作出错误的意思表示，这一行为属于欺诈行为，2017年1月11日重庆市渝北区人民法院判决在查明事实清楚、适用法律正确的基础上依法驳回了原告的诉讼请求，后原告于2017年3月7日向重庆市第一中级人民法院上诉，2017年4月13日重庆市第一中级人民法院驳回上诉，维持原判。原告2017年5月3日再次向巫山县人民法院以不当得利为由，无任何事实依据的情况下恶意缠诉，浪费国家审判资源，并给被告带来严重的经济损失，经预算被告自2016年3月30日至2016年10月1日期间因原告的欺诈行为导致被告直接经济损失长达6万余元左右，现被告向法庭提交的现有部分证据理应得到法院支持。2、没有合法根据，取得不当利益，造成他人损失的，应当将取得的不当利益返还受损失的人，本案中原告的欺诈行为导致被告经济严重受损，欺诈行为即不合法行为，根据《民法通则》之规定，法律只保护合法的利益，合法的行为取得的不当得利才受法律保护，以欺诈的行为非法获取利益，在无法律依据的情况下理应不受法律保护。3、原告向法庭提交的证据均涉嫌作假的嫌疑，被告也并没有收到原告的考试相关资料，同时我方保留追究其原告制作假证据的权利，退一步说即便原告提交的证据真实，也不能证明原告提供资料的实际价值，更没有相关物价部门对培训价格进行认定，对此原告应承担举证不能的后果。 经审理查明，2016年3月30日，原告重庆世法教育信息咨询有限公司以“厚大司法考试培训重庆分校”（甲方）的名义与被告宋万培（乙方）签订《厚大司考重庆分校VIP协议》。协议主要内容为：乙方参加甲方VIP协议班学习，并保证2016年如期参加国家统一司法考试；乙方报甲方VIP班，学费16000元。甲方安排课程包含2个阶段，第一阶段为周末远程课程（从3月中下旬至7月初）＋每周3次现场专辅课，收费8000元（听课费及辅导费）；第二阶段为暑假面授阶段（7月中旬至9月初）＋VIP资料＋上课期间现场专辅，收费8000元（全程班学费及其相关费用）；若乙方没有达到2016年合格分数线的，甲方退还8000元给乙方。该合同甲方落款处加盖了“厚大司法考试培训重庆分校”的印章。被告宋万培通过银联POS机给原告重庆世法教育信息咨询有限公司支付学费5000元。被告宋万培从2016年4月2日到7月4日，参加了原告组织的周末班视频课学习26天；从4月6日到6月22日，参加了原告组织的每周一、三、五晚上的专辅课21次；从7月9日到7月23日，参加了原告组织的面授课学习11天。 由于被告宋万培未能按照协议支付原告重庆世法教育信息咨询有限公司的培训余款，经催收后宋万培仍未能缴纳，原告重庆世法教育信息咨询有限公司在被告宋万培面授期间终止了原告的上课。被告宋万培遂向渝北区工商局、信访办等部门投诉原告欺诈，2016年10月12日又向重庆市渝北区人民法院提起诉讼，要求撤销双方签订的《厚大司考重庆分校VIP协议》，并返还学费5000元。重庆市渝北区人民法院经审理后，于2017年1月11日作出（2016）渝0112民初20810号民事判决书，判决：一、撤销宋万培与重庆世法教育信息咨询有限公司于2016年3月30日签订的《厚大司考重庆分校VIP协议》；二、重庆世法教育信息咨询有限公司于本判决生效之日起十日内返还宋万培学费5000元。重庆世法教育信息咨询有限公司不服该判决，向重庆市第一中级人民法院提起上诉，重庆市第一中级人民法院经审理后于2017年4月13日作出（2017）渝01民终2008号民事判决书，判决驳回上诉，维持原判。 上述事实，有《厚大司考重庆分校VIP协议》、《厚大司考项目合作协议》、《挂靠协议书》、《情况说明书》，VIP学员宋万培视频课签到表、宋万培晚上专辅签到表、宋万培面授签到表，2016年真题领取登记表、2016年内部讲义（白皮书）领取登记表、2016年（金）教材领取表，原、被告之间的微信聊天记录，招生简章，民法考点集粹，2016年国家考试《行政法授课精要》、《商经授课精要》、《三国授课精要》、《刑法授课精要》、《民法授课精要》、《民诉授课精要》、《理论法授课精要》、《刑诉授课精要》，《钟秀勇讲民法》、《刘凤科讲刑法》、《徐金桂讲行政》、《杨雄讲刑诉》、《郭翔讲民诉》、《宋光明讲理论》、《鄢梦萱讲商经》，《殷敏讲三国》，《厚大远程课堂讲义》（包括三国、民诉、刑法、民法2本、行政、理论、刑诉、商经）等书本的封面复印件以及部分书体的封底复印件，双方当事人的陈述在卷佐证，本案事实清楚。 本院认为，本案主要的争议焦点是：1、被告宋万培是否在原告重庆世法教育信息咨询有限公司领取了相应的培训资料和书籍。从原告在庭审中的举证，并结合被告的质证意见，原告在庭审中仅举示了教材和讲义领取登记表，登记表中虽然有宋万培的名字，但该名字都是原告在制作领取表时自行打印上去的，没有宋万培本人的签字，而且宋万培也否认在原告处领取了相应的资料。另原告举示的证据《民法授课精要》等书籍，原告仅提供了相应书籍正、底面的复印件，没有任何被告签字的证据，所以原告主张被告宋万培领取了《厚大讲义理论卷》、《厚大讲义真题卷》、《厚大民法考点集萃》等资料，没有充分的证据证实，因此原告要求被告宋万培返还的请求不符合法律的规定，本院不予支持。 2、被告宋万培是否参加了原告举办的司法考试视频、专辅、面授的学习。原告举示被告宋万培学习时的签到表，该表上签有“宋万培”的名字，虽然宋万培在庭审中否认是自己亲笔签名，但宋万培在法庭规定的鉴定期间内没有申请鉴定，视为放弃其权利，应当认可被告宋万培参加了原告组织的视频、专辅以及面授三种方式的学习，而且宋万培本人在法庭中也认可参加了部分学习，所以本院对原告主张的被告宋万培参加了三种方式的学习予以确认，具体学习的时间以原告举示的签到表中宋万培签字的为准。 3、被告宋万培参加原告组织的司考培训学习，是否属于不当得利，被告宋万培是否应该予以返还。依法律行为而取得的利益是合法的，正当的，当然不成立不当得利；但是若当事人所为的民事行为无效或者被撤销时，当事一方依据该行为所取得的利益，已无合法的原因，则可构成不当得利。原、被告双方签订的《厚大司考重庆分校VIP协议》因欺诈、合同行为被撤销而归于无效，所以被告宋万培在厚大司考重庆分校VIP班学习时所取得的财产无法律上的合法依据，构成不当得利，应当予以返还。但是，原告要求被告宋万培返还辅导费，该辅导费并非是原告交付给对方的财物及财物所产生的孳息，也不符合《合同法》中所规定的合同被撤销后所返还财产的范畴，故原告要求被告返还辅导费的请求，不符合法律的规定，本院不予支持。 综上所述，原告诉称被告领取的资料、书籍价值1705元，应由被告宋万培返还的诉讼请求，没有相应证据证实，本院不予支持；原告诉称被告宋万培参加了三种方式的学习，应当“返还”辅导费9519元，原告的请求不符合法律的规定，本院不予支持。被告宋万培的辩解理由符合法律的规定，本院予以采纳。经本院审判委员会讨论决定，依照《中华人民共和国民法通则》第九十二条，《中华人民共和国民事诉讼法》第六十四条第一款的规定，判决如下： 驳回原告重庆世法教育信息咨询有限公司要求被告宋万培返还司考资料费、辅导费等11639元的诉讼请求。 本案案件受理费90元，减半收取45元，由原告重庆世法教育信息咨询有限公司负担。 如不服本判决，可在判决书送达之日起十五日内，向本院递交上诉状，并按对方当事人的人数提出副本，上诉于重庆市第二中级人民法院。同时，按照国务院《诉讼费用交纳办法》的规定交纳上诉案件受理费。递交上诉状并收到本院预交上诉费通知书后应当及时预交上诉案件受理费。未在本院预交上诉费通知书指定的期限内预交上诉案件受理费又未提出缓交、减交、免交申请的，按自动撤回上诉处理。 审判员尹文生 二〇一七年六月八日 书记员曾宪府 ', '法条': ['《中华人民共和国民事诉讼法》第六十四条第一款', '《中华人民共和国民法通则》第九十二条'], '案例属性': {'案件类别': '民事案件', '文书种类': '判决书', '经办法院': '重庆市巫山县人民法院', '法官成员': ['尹文生', '曾宪府', '尹文生'], '案由': None}, 'vec': [0.20449463647463043, -0.3292495973943322, 0.03394746034086851, 0.03033556073566908, -0.3397015377448909, 0.3197344487872512, -0.44440222088796244, -0.17620560257714463, 0.2872356346591415, 0.3940666774222633, -0.22862554378525185, 0.12358232683021597, 0.09310785387133232, 0.05213668916947098, -0.08896285463268018, -0.060838731868239036, -0.012860076381015459, -0.14220220527487198, -0.15357525920956056, 0.1924978959246165, 0.05151350219006754, -0.170256388349281, -0.0751959567386888, -0.19557190983702458, -0.09868331170266487, 0.08089530183005116, 0.1739838192144741, 0.2571296842347341, -0.0010480259483826551, -0.1616210228271714, 0.035379188879533, -0.19186885104957788, 0.0325399595933467, -0.28446878362430017, 0.03887723249104667, 0.09131493632274842, -0.10057703553848037, 0.21442348502928998, 0.05666407424178144, -0.20366829420973157, -0.14198629295220283, -0.06318429645454303, 0.03346893958243889, -0.1362469353410649, 0.0052552831982371475, 0.19961017467967168, -0.20227928608762036, 0.18270191147769152, 0.3413642919901886, -0.10333424554704118, -0.1648520946369336, -0.22736890769262622, -0.2994135697064037, -0.11321604057321154, -0.29721670129806327, -0.03365680122738027, 0.14811598220793332, 0.4716627805789097, -0.07536960110971798, -0.5673498070384452, 0.14718519177847078, -0.13045456686098653, 0.2872341728308116, -0.04777007438439413, 0.13801069545410577, 0.011166230255231427, 0.3422432363663057, -0.17557862503897645, 0.09026328793692001, 0.15777398598819264, 0.09748458378807671, 0.1060137187380656, -0.0032723483613794823, -0.07400090181872722, -0.11334881144811723, 0.34210968923874596, -0.043190632900449874, -0.01458384431661937, -0.25335386498715434, 0.10106922825284691, 0.148912618461485, 0.05922552827051719, -0.3051643076881391, -0.04561551336704961, -0.136796613993198, -0.040648269957091324, -0.14248151770089734, -0.17617454485966177, -0.17322712498181345, -0.1458625934272452, -0.12210487668257665, -0.029763333675338847, -0.01674002380525819, 0.11524961961331827, -0.1741291343711194, -0.013530383907483547, -0.07067271422546817, 0.19033462747679802, 0.21424399136698355, -0.0974322763799573]}, 'highlight': {'法条': ['《<em>中华人民共和国</em><em>民事诉讼法</em>》<em>第六十</em><em>四条</em><em>第一款</em>', '《<em>中华人民共和国</em><em>民法通则</em>》<em>第九十</em><em>二条</em>']}}, {'_index': 'new-case-data', '_id': '18019', '_score': 11.397179, '_ignored': ['全文.判决结果.keyword', '自定义_裁判文书_裁判分析过程.keyword', '自定义_裁判文书_判决结果.keyword', '全文.裁判分析过程.keyword', '自定义_裁判文书_全文.keyword', '全文.案件基本情况.keyword'], '_source': {'全文': {'文首': {'文书制作单位': '法院', '法院文书种类': '裁判文书', '经办法院': '南京市秦淮区人民法院', '文书名称': '民事判决书', '案号': '（2013）秦民初字第909号', '案件类别': '民事案件', '文书种类': '判决书', '审判程序': '一审案件', '案件类型': '民事一审案件'}, '当事人': '原告郭伟，女，1964年12月13日生，汉族。 委托代理人熊勇强，江苏佳民律师事务所律师。 被告陈捷，男，1985年1月9日生，汉族。', '诉讼记录': ' 原告郭伟与被告陈捷民间借贷纠纷一案，原告郭伟于2013年5月2日向本院起诉，本院于同日立案受理，依法组成合议庭适用普通程序于2013年11月15日公开开庭进行了审理。原告郭伟的委托代理人熊勇强到庭参加诉讼。被告陈捷经本院合法传唤，无正当理由拒不到庭。本案现已审理终结。', '案件基本情况': ' 原告郭伟诉称，2012年9月，被告因资金周转需要，向原告借款1000000元，并出具借条一份，承诺于2013年3月10日归还。同年9月10日，原告通过中国工商银行转账940000元给被告，其余资金以现金形式借与被告。借款到期后，原告多次催要，被告至今分文未付。原告诉至法院，请求判令：被告立即归还原告借款1000000元并支付利息（自2013年3月11日起至判决确定的给付日止按银行同期贷款利率1.3倍计算）。 被告陈捷未作答辩，亦未提供证据。 经审理查明，被告于2012年9月10日向原告出具借条一份，载明：“今借郭伟人民币壹佰万元整（1000000／），定于2013年3月10日归还。”同日，原告通过中国工商银行转账给付被告940000元。 庭审中，原告陈述，原、被告通过亲戚介绍认识，被告在外放贷，需要资金；借款1000000元中940000元通过银行转账给付，另外60000元给付现金，但无证据证明；原、被告间仅存在本案这一笔的借款关系；借款期限届满后，被告分文未还，也不与原告见面。 以上事实，有原告陈述、借条、银行个人业务凭证予以证实。 ', '裁判分析过程': '本院认为，合法的借贷关系受法律保护。原、被告之间的借贷事实有原告陈述、借款合同、借条、银行个人结算业务申请书等证据证实，事实清楚、证据充分，本院予以确认。关于借款数额，本院认为，借据载明的绝大部分金额通过转账支付，出借人主张剩余部分系采用现金交付，但未提供相应证据证明的，对其主张不予支持。本案中，虽然借条上载明的借款数额为1000000元，但原告除转账给付被告940000元，其主张余60000元以现金方式给付被告，并无证据证明，故对该60000元部分本院不予支持，认定原、被告之间的借款数额为940000元。关于利息，原告主张按中国人民银行同期贷款利率1.3倍支付逾期利息的诉讼请求并不违反法律规定，本院予以支持，但应按本金940000元予以计算。被告陈捷经本院合法传唤无正当理由未到庭参加诉讼，应视为其放弃举证、质证的诉讼权利，并承担相应的法律后果。依照《中华人民共和国民法通则》第九十条、第一百一十二条，《中华人民共和国民事诉讼法》第六十四条第一款、第一百四十四条之规定，判决如下：', '判决结果': ' 被告陈捷于本判决生效之日起十日内归还原告郭伟借款940000元并支付逾期利息（自2013年3月11日起至判决给付之日止，按中国人民银行同期贷款利率1.3倍计算）。 如果未按本判决指定的期间履行给付金钱义务，应当按照《中华人民共和国民事诉讼法》第二百五十三条之规定，加倍支付迟延履行期间的债务利息。 案件受理费13800元、保全费5000元、公告费600元，合计19400元，由被告陈捷负担（被告陈捷应负担的诉讼费用，已由原告郭伟预交，被告陈捷在本判决生效之日起十日内一并将此款付给原告郭伟）。 如不服本判决，可在判决书送达之日起十五日内，向本院递交上诉状及副本，上诉于江苏省南京市中级人民法院，同时根据《诉讼费用交纳办法》的有关规定，向该院预交上诉案件受理费。（江苏省南京市中级人民法院开户行：农行南京市鼓楼支行，账号：10105901040001276）', '文尾': ' 审判长李娜 人民陪审员戴同秀 人民陪审员王龙芹 二〇一三年十一月十五日 见习书记员葛梦宇 ', '立案日期': '2013年5月2日', '文书是否模糊': '否'}, '自定义_裁判文书_裁判分析过程': '本院认为，合法的借贷关系受法律保护。原、被告之间的借贷事实有原告陈述、借款合同、借条、银行个人结算业务申请书等证据证实，事实清楚、证据充分，本院予以确认。关于借款数额，本院认为，借据载明的绝大部分金额通过转账支付，出借人主张剩余部分系采用现金交付，但未提供相应证据证明的，对其主张不予支持。本案中，虽然借条上载明的借款数额为1000000元，但原告除转账给付被告940000元，其主张余60000元以现金方式给付被告，并无证据证明，故对该60000元部分本院不予支持，认定原、被告之间的借款数额为940000元。关于利息，原告主张按中国人民银行同期贷款利率1.3倍支付逾期利息的诉讼请求并不违反法律规定，本院予以支持，但应按本金940000元予以计算。被告陈捷经本院合法传唤无正当理由未到庭参加诉讼，应视为其放弃举证、质证的诉讼权利，并承担相应的法律后果。依照《中华人民共和国民法通则》第九十条、第一百一十二条，《中华人民共和国民事诉讼法》第六十四条第一款、第一百四十四条之规定，判决如下：', '自定义_裁判文书_原告诉称段': '原告郭伟诉称，2012年9月，被告因资金周转需要，向原告借款1000000元，并出具借条一份，承诺于2013年3月10日归还。同年9月10日，原告通过中国工商银行转账940000元给被告，其余资金以现金形式借与被告。借款到期后，原告多次催要，被告至今分文未付。原告诉至法院，请求判令：被告立即归还原告借款1000000元并支付利息（自2013年3月11日起至判决确定的给付日止按银行同期贷款利率1.3倍计算）。', '自定义_裁判文书_被告辩称段': '被告陈捷未作答辩，亦未提供证据。', '自定义_裁判文书_证据段': '以上事实，有原告陈述、借条、银行个人业务凭证予以证实。 ', '自定义_裁判文书_查明事实段': '经审理查明，被告于2012年9月10日向原告出具借条一份，载明：“今借郭伟人民币壹佰万元整（1000000／），定于2013年3月10日归还。”同日，原告通过中国工商银行转账给付被告940000元。 庭审中，原告陈述，原、被告通过亲戚介绍认识，被告在外放贷，需要资金；借款1000000元中940000元通过银行转账给付，另外60000元给付现金，但无证据证明；原、被告间仅存在本案这一笔的借款关系；借款期限届满后，被告分文未还，也不与原告见面。 ', '自定义_裁判文书_当事人': '原告郭伟，女，1964年12月13日生，汉族。 委托代理人熊勇强，江苏佳民律师事务所律师。 被告陈捷，男，1985年1月9日生，汉族。', '自定义_裁判文书_判决结果': ' 被告陈捷于本判决生效之日起十日内归还原告郭伟借款940000元并支付逾期利息（自2013年3月11日起至判决给付之日止，按中国人民银行同期贷款利率1.3倍计算）。 如果未按本判决指定的期间履行给付金钱义务，应当按照《中华人民共和国民事诉讼法》第二百五十三条之规定，加倍支付迟延履行期间的债务利息。 案件受理费13800元、保全费5000元、公告费600元，合计19400元，由被告陈捷负担（被告陈捷应负担的诉讼费用，已由原告郭伟预交，被告陈捷在本判决生效之日起十日内一并将此款付给原告郭伟）。 如不服本判决，可在判决书送达之日起十五日内，向本院递交上诉状及副本，上诉于江苏省南京市中级人民法院，同时根据《诉讼费用交纳办法》的有关规定，向该院预交上诉案件受理费。（江苏省南京市中级人民法院开户行：农行南京市鼓楼支行，账号：10105901040001276）', '自定义_裁判文书_全文': '南京市秦淮区人民法院 民事判决书 （2013）秦民初字第909号 原告郭伟，女，1964年12月13日生，汉族。 委托代理人熊勇强，江苏佳民律师事务所律师。 被告陈捷，男，1985年1月9日生，汉族。 原告郭伟与被告陈捷民间借贷纠纷一案，原告郭伟于2013年5月2日向本院起诉，本院于同日立案受理，依法组成合议庭适用普通程序于2013年11月15日公开开庭进行了审理。原告郭伟的委托代理人熊勇强到庭参加诉讼。被告陈捷经本院合法传唤，无正当理由拒不到庭。本案现已审理终结。 原告郭伟诉称，2012年9月，被告因资金周转需要，向原告借款1000000元，并出具借条一份，承诺于2013年3月10日归还。同年9月10日，原告通过中国工商银行转账940000元给被告，其余资金以现金形式借与被告。借款到期后，原告多次催要，被告至今分文未付。原告诉至法院，请求判令：被告立即归还原告借款1000000元并支付利息（自2013年3月11日起至判决确定的给付日止按银行同期贷款利率1.3倍计算）。 被告陈捷未作答辩，亦未提供证据。 经审理查明，被告于2012年9月10日向原告出具借条一份，载明：“今借郭伟人民币壹佰万元整（1000000／），定于2013年3月10日归还。”同日，原告通过中国工商银行转账给付被告940000元。 庭审中，原告陈述，原、被告通过亲戚介绍认识，被告在外放贷，需要资金；借款1000000元中940000元通过银行转账给付，另外60000元给付现金，但无证据证明；原、被告间仅存在本案这一笔的借款关系；借款期限届满后，被告分文未还，也不与原告见面。 以上事实，有原告陈述、借条、银行个人业务凭证予以证实。 本院认为，合法的借贷关系受法律保护。原、被告之间的借贷事实有原告陈述、借款合同、借条、银行个人结算业务申请书等证据证实，事实清楚、证据充分，本院予以确认。关于借款数额，本院认为，借据载明的绝大部分金额通过转账支付，出借人主张剩余部分系采用现金交付，但未提供相应证据证明的，对其主张不予支持。本案中，虽然借条上载明的借款数额为1000000元，但原告除转账给付被告940000元，其主张余60000元以现金方式给付被告，并无证据证明，故对该60000元部分本院不予支持，认定原、被告之间的借款数额为940000元。关于利息，原告主张按中国人民银行同期贷款利率1.3倍支付逾期利息的诉讼请求并不违反法律规定，本院予以支持，但应按本金940000元予以计算。被告陈捷经本院合法传唤无正当理由未到庭参加诉讼，应视为其放弃举证、质证的诉讼权利，并承担相应的法律后果。依照《中华人民共和国民法通则》第九十条、第一百一十二条，《中华人民共和国民事诉讼法》第六十四条第一款、第一百四十四条之规定，判决如下： 被告陈捷于本判决生效之日起十日内归还原告郭伟借款940000元并支付逾期利息（自2013年3月11日起至判决给付之日止，按中国人民银行同期贷款利率1.3倍计算）。 如果未按本判决指定的期间履行给付金钱义务，应当按照《中华人民共和国民事诉讼法》第二百五十三条之规定，加倍支付迟延履行期间的债务利息。 案件受理费13800元、保全费5000元、公告费600元，合计19400元，由被告陈捷负担（被告陈捷应负担的诉讼费用，已由原告郭伟预交，被告陈捷在本判决生效之日起十日内一并将此款付给原告郭伟）。 如不服本判决，可在判决书送达之日起十五日内，向本院递交上诉状及副本，上诉于江苏省南京市中级人民法院，同时根据《诉讼费用交纳办法》的有关规定，向该院预交上诉案件受理费。（江苏省南京市中级人民法院开户行：农行南京市鼓楼支行，账号：10105901040001276） 审判长李娜 人民陪审员戴同秀 人民陪审员王龙芹 二〇一三年十一月十五日 见习书记员葛梦宇 ', '法条': ['《中华人民共和国民法通则》第一百一十二条', '《中华人民共和国民事诉讼法》第六十四条第一款', '《中华人民共和国民法通则》第九十条', '《中华人民共和国民事诉讼法》第一百四十四条'], '案例属性': {'案件类别': '民事案件', '文书种类': '判决书', '经办法院': '南京市秦淮区人民法院', '法官成员': ['李娜', '戴同秀', '王龙芹', '葛梦宇', '李娜'], '案由': '民间借贷纠纷'}, 'vec': [0.21503680098435068, -0.2592277896743498, 0.02475406679607076, 0.11132579931301384, -0.41427773373968857, 0.3365360522450889, -0.4279226442687416, -0.17887032564311964, 0.27393629634351435, 0.3314327404812357, -0.2563916950712881, 0.1486594207795504, 0.1079254680602201, 0.08308251127482354, -0.10577999261628782, -0.07856493430996411, -0.0677357330861689, -0.13884670136749117, -0.19839973662193516, 0.17552940870893818, 0.060696338716439716, -0.17528205446018638, -0.0015098236189790056, -0.1602843918663512, -0.1861523932034907, 0.04901200368283773, 0.18974211499789653, 0.20396023930959783, 0.055535421760295585, -0.23107558180916998, 0.021566879931337008, -0.13674488936140186, 0.0941527895911465, -0.24866027754398498, 0.05262780286195923, 0.14279746467122104, -0.0819248457413045, 0.25938888886390854, -0.06966540608732553, -0.28847471911842787, -0.10531934329347445, -0.11924444073380162, -0.034013967801345184, -0.08478281139324295, 0.031785553121939196, 0.3028491673806848, -0.22000857590090908, 0.14474649136246245, 0.31977650863769214, -0.15753437650766894, -0.21444368516196397, -0.21424480047103983, -0.39116778210994574, -0.08616064988660242, -0.33608654252136844, -0.09384910930708172, 0.16131779879940922, 0.4979916523225916, -0.08674883688191551, -0.544280677986502, 0.2538191259523516, -0.04321172984006152, 0.34862105326115167, -0.020962346285393972, 0.13844751279138556, 0.04945965517758512, 0.26107039863240317, -0.18658639302544006, 0.09009389834184396, 0.1836821514028826, 0.045661610044317555, 0.07933557541519505, -0.014433761384209683, -0.0886636317945077, -0.10067948282205291, 0.2741924425698614, 0.04810872585419734, -0.07205765547434513, -0.16234039605658343, 0.09625683448937876, 0.2472674141996312, 0.06731447882881851, -0.45174922814640045, 0.014662482482068471, -0.1612706860005957, -0.057773353455473284, -0.18009603273684663, -0.25173039719542256, -0.20254673249977295, -0.15514053957515267, -0.20918400617195512, -0.04288388987916087, -0.06311917044489625, 0.13929666964313567, -0.12473490126775374, 0.06894158730841159, 0.00923199091392832, 0.1743079367564474, 0.19765683342495632, 0.02260564191954822]}, 'highlight': {'法条': ['《<em>中华人民共和国</em><em>民法通则</em>》第一百一十<em>二条</em>', '《<em>中华人民共和国</em><em>民事诉讼法</em>》<em>第六十</em><em>四条</em><em>第一款</em>', '《<em>中华人民共和国</em><em>民法通则</em>》<em>第九十</em>条', '《<em>中华人民共和国</em><em>民事诉讼法</em>》第一百四十<em>四条</em>']}}, {'_index': 'new-case-data', '_id': '63276', '_score': 11.350511, '_ignored': ['自定义_裁判文书_证据段.keyword', '全文.附件.keyword', '自定义_裁判文书_查明事实段.keyword', '全文.判决结果.keyword', '自定义_裁判文书_裁判分析过程.keyword', '自定义_裁判文书_判决结果.keyword', '全文.裁判分析过程.keyword', '自定义_裁判文书_被告辩称段.keyword', '自定义_裁判文书_全文.keyword', '全文.案件基本情况.keyword', '自定义_裁判文书_原告诉称段.keyword'], '_source': {'全文': {'文首': {'文书制作单位': '法院', '法院文书种类': '裁判文书', '经办法院': '天津市宝坻区人民法院', '文书名称': '民事判决书', '案号': '（2016）津0115民初8642号', '案件类别': '民事案件', '文书种类': '判决书', '审判程序': '一审案件', '案件类型': '民事一审案件'}, '当事人': '原告：潘文英，女，1978年4月27日生，汉族，农民，住天津市宝坻区。 委托诉讼代理人：潘建波（原告之兄），1969年11月14日生，汉族，居民，住天津市宝坻区。 委托诉讼代理人：于世诚，天津文韬律师事务所律师。 被告：何雪梅，女，1975年6月1日生，汉族，居民，住天津市宝坻区。 委托诉讼代理人：张培尧，天津森宇律师事务所律师。 委托诉讼代理人：赵君君，天津森宇律师事务所律师。 被告：潘建涛，男，1976年3月25日生，汉族，居民，住天津市宝坻区。', '诉讼记录': ' 原告潘文英与被告何雪梅、潘建涛不当得利纠纷一案，本院于2016年10月12日立案受理后，依法适用简易程序，因案情复杂裁定转为普通程序，依法组成合议庭公开开庭进行了审理。原告委托诉讼代理人、被告何雪梅及其委托诉讼代理人张培尧、被告潘建涛到庭参加诉讼。本案现已审理终结。', '案件基本情况': ' 原告潘文英向本院提出诉讼请求：1、请求判令二被告返还原告垫付医疗费178361.57元，其中二被告各自返还50％即每人89180.78元；2、诉讼费由被告承担。事实和理由：二被告原系夫妻关系，原告系潘建涛的妹妹。2014年6月27日，潘建涛发生交通事故后昏迷不醒，起初何雪梅还能用夫妻共同生活期间的积蓄为潘建涛治病支付医疗费，从2014年11月初被告何雪梅即放弃对潘建涛的治疗不管不问，在潘建涛后续治疗期间原告与案外人潘建波、潘淑英各自筹措部分资金作为潘建涛的治疗费用。原告通过银行转账以及支付现金的方式陆续为潘建涛垫付医疗费178361.57元。何雪梅于2015年3月5日提起离婚诉讼要求与潘建涛离婚，因当时潘建涛昏迷不醒，离婚案件中止诉讼。另外何雪梅因涉嫌伪造公司、企业印章罪被公安宝坻分局取保候审。因潘建涛一直住院治疗，至2016年3月23日潘建涛能出庭应诉离婚案件才恢复审理。在离婚诉讼中法院以潘建涛清醒之后为原告及潘建波、潘淑英出具的350000元借条与三人垫付的医疗费201361.57元、护工费77100元、车费2900元、救护车费3070元，合计288147.37元有出入为由对该350000元夫妻共同债务未予处理，债权人可在主张权利时另行解决。在法院判决后潘建涛不服提出上诉，天津市第一中级人民法院认定原告垫付医疗费中13000元为夫妻共同债务，并判决由潘建涛偿还，何雪梅给付潘建涛6500元。夫妻之间有相互扶助的义务，被告何雪梅作为潘建涛的妻子，在潘建涛昏迷不醒期间拒绝支付医疗费，夫妻共同财产包括工资卡全部由何雪梅掌控，原告不得已为潘建涛垫付了部分医疗费，现何雪梅虽然与潘建涛已不是夫妻关系，但何雪梅有义务承担连带返还责任，故原告提起诉讼。 被告何雪梅辩称，原告诉讼请求应予驳回：第一、原告起诉案由为不当得利，而本案案情不符合不当得利构成要件，被告何雪梅并未从原告损失中获取利益，不具有返还不当得利的条件；2、潘建涛的收入和个人所得能够支付相关费用，通过社会保险医疗报销及机动车交通事故的赔付款足以支付就医费用，原告垫付费用没有依据和理由，也不需要原告垫付，故原告起诉无事实依据；3、被告何雪梅于2015年3月5日向宝坻区人民法院提起离婚诉讼，自此双方未在一起共同生活，双方的财产收入和支出各自独立支配，潘建涛有足够的财产支付医疗费用，何雪梅在此期间也产生了生活支出，生效的法律文书也说明了这一点，被告何雪梅无需承担此费用；4、原告与潘建涛系兄妹关系，即使存在垫付医疗费的事实也是基于血缘关系提供的帮助，应当认定为赠与为宜。综上，原告起诉何雪梅缺乏依据，应予驳回。 被告潘建涛承认原告全部诉讼请求。 当事人围绕诉讼请求提供了证据，本院组织当事人进行了质证，对当事人无异议的证据，本院予以确认并在卷佐证。诉讼中，双方对原告提供的以下证据存在异议：1、客户名称潘文英的银行卡明细查询单；2、住院病历、住院费用明细清单、医疗费票据（复印件）；3、（2015）宝民初字第1959号民事判决书、天津市第一中级人民法院（2016）津01民终4437号民事判决书，以上证据用以证明被告潘建涛自2015年1月2日至2月13日在天津医科大学总医院住院期间原告以银行卡转账的方式垫付医疗费13000元［卡号62×××33；2015.1.30消费5000元（转入天津医科大学总医院）、2015.2.4消费2000元（转入天津医科大学总医院）、2015.2.6ATM取款2500元、500元、2015.2.8消费3000元（转入天津医科大学总医院）］、该款已经天津市第一中级人民法院（2016）津01民终4437号民事判决确认为二被告夫妻共同债务，并作出处理；潘建涛于2015年3月31日至4月3日在天津医科大学总医院住院3天，支出医疗费551.15元，是原告以现金的方式垫付；潘建涛于2015年5月13日至6月18日在天津医科大学总医院住院36天，支出医疗费77233.48元为原告垫付，其中以银行卡转账的方式垫付58400元［卡号62×××33：2015.5.13消费1400元（转入天津医科大学总医院）、2015.5.21消费5000元（转入天津医科大学总医院）、2015.5.27消费35000元（转入天津医科大学总医院）2015.6.4消费7000元（转入天津医科大学总医院）、2015.6.7消费10000元（转入天津医科大学总医院）］，以现金的方式垫付18833.48元；潘建涛于2015年8月5日至9月23日在该医疗机构住院49天，支出医疗费6586.83元，由原告垫付，其中银行卡转账7000元，退还现金413.17元［卡号62×××33：2015.8.5消费5000元（转入天津医科大学总医院）、2015.8.27消费2000元（转入天津医科大学总医院）］；潘建涛于2015年10月26日至12月16日在该医疗机构住院51天，支出医疗费92381.69元为原告垫付，其中以银行卡垫付80000元［卡号62×××33：2015.10.26消费5000元（转入天津医科大学总医院）、2015.11.6消费15000元（转入天津医科大学总医院）、2015.11.7消费10000元（转入天津医科大学总医院）、2015.11.10消费5000元（转入天津医科大学总医院）、2015.11.11消费10000元（转入天津医科大学总医院）、2015.11.16消费5000元（转入天津医科大学总医院）；卡号43×××14：2015.11.5消费30000元（（转入天津医科大学总医院）］，现金垫付12381.69元。潘建涛非住院期间原告垫付天津医科大学总医院会诊费、宝坻区中医医院、宝坻区人民医院门诊医疗费合计1608.42元，以上合计191361.57元，扣除已经确认给付的13000元，余款178361.57元应由二被告各自支付50％。4、署名潘建涛的借条（复印件），用以证明潘建涛恢复意识后为原告及其他垫付人出具了借条350000元。被告何雪梅认为以上证据中银行转账数额与医疗费票据不符，对其真实性不予认可；医疗费票据、住院病历、住院费用明细清单与本案不具有关联性，且不能排除原告自身或其他人在该医疗机构就医原告转账支付医疗费，不能达到原告的证明目的；对借条的真实性、关联性均有异议，即使是真实的，也与本案诉请相互矛盾，金额亦不一致。被告潘建涛认可原告所提供证据。以上原告所提供证据中银行卡交易明细清单与潘建涛住院病历、住院费票据、住院费用明细清单能相互印证潘建涛在天津医科大学总医院住院治疗期间，潘文英以银行卡转账的方式为其垫付医疗费的事实，本院予以确认。被告何雪梅虽然否认银行卡交易清单的真实性，但未提供其他证据足以反驳，亦无其他证据足以证明在此期间银行卡转账款项系用于支付他人就医支出，故对何雪梅的抗辩意见本院不予采信。原告提供的潘建涛于2015年3月31日至4月3日在天津医科大学总医院住院3天，支出医疗费551.15元的住院病历、医疗费票据以及其他门诊医疗费票据只能证明潘建涛在此期间支出费用情况，不足以证明该费用支出为原告垫付，故对上述证据的证明力本院不予确认。对于署名潘建涛、金额350000元的借条与本案所涉垫付款金额不相一致，且潘建涛与原告系兄妹关系，被告何雪梅不予认可，故本院对其证明力不予确认。 被告何雪梅提供了如下证据：1、2015.1.2至2015.2.13潘建涛在天津医科大学总医院住院病历、2014.11.10至2014.12.23潘建涛在宝坻区人民医院住院医疗费票据（复印件），用以证明潘建涛在上述期间内住院是何雪梅为其办理的住院手续，支付的住院费用，进一步证明原告所述不属实。2、2105.5.13至2015.6.18潘建涛在天津医科大学总医院住院医疗费票据及“POS签购单”，用以证明潘建涛在2015.6.18出院结算退还3766.52元汇入了原告银行卡中。被告何雪梅申请本院调取潘建涛自2015年3月至今工资卡明细单及自2014年6月至今潘建涛在农业银行、建设银行所有银行卡及交易明细，用以证明潘建涛有相应存款，可用于支付医疗费用及相关支出，进而证明原告为潘建涛垫付医疗费缺乏事实依据。在双方离婚诉讼中，本院查询了潘建涛自2014.7.8至2016.3.10工资卡交易明细清单，显示截止至2016年3月10日余额8.96元。对此潘建涛称，自2015年3月何雪梅提起离婚诉讼后，其工资卡即被法院冻结，后解除冻结后由其姐潘淑英掌管，用于潘建涛生活支出。潘建涛承认在农业银行及建设银行有过银行卡，但否认卡内有存款。在双方离婚诉讼中均未提及潘建涛在农业银行及建设银行银行卡内有存款，且即使存在，亦与本案不具有关联性，故本院不予调取。对于“POS签购单”显示退还3766.52元于尾号“1033”银行卡问题，原告称不知情。经本院结合“POS签购单”记载内容与原告提供的62×××33号银行卡交易明细清单记载“2015-6-23消费退货3766.52”相互印证，足以证明潘建涛在天津医科大学总医院于2015.5.13至2015.6.18住院治疗结算时退款3766.52元汇入原告此银行卡内，对该证据的证明力本院予以确认。上述其余证据不足以证明被告何雪梅之抗辩意见，本院不予确认。 根据当事人陈述和经审查确认的证据，本院认定事实如下：二被告原系夫妻关系，原告系被告潘建涛之妹。2014年6月27日被告潘建涛因驾驶电动自行车发生交通事故受伤并住院治疗，其中2015年5月13日至6月18日在天津医科大学总医院住院36天，支出住院医疗费77233.48元；2015年8月5日至9月23日在该医疗机构住院49天，支出住院医疗费6586.83元；2015年10月26日至12月16日在该医疗机构住院51天，支出住院医疗费92381.69元。自2015年5月13日至2015年11月16日原告以银行卡转账的方式垫付医疗费合计145400元（其中62×××33号银行卡转账13笔，金额115400元，43×××14号银行卡转账1笔，金额30000元），其中2105.5.13至2015.6.18潘建涛住院治疗结算时退款3766.52元汇入原告62×××33号银行卡。原告承认2015年8月5日至9月23日潘建涛住院治疗结束，出院结算退现金413.17元由其领取，以上原告共计为被告潘建涛垫付医疗费合计141220.31元。 另查，2014年11月，潘建涛以案外人李福建、天津宝钟速达运输有限公司、天津市宝坻石桥工业园区管理委员会为被告、以机动车交通事故责任纠纷为由提起民事诉讼，要求上述被告赔偿其因此次交通事故造成的各项经济损失，经本院审理后依法作出（2014）宝民初字第7552号民事判决，确认潘建涛与宝钟速达运输有限公司的责任比例为60％：40％，经核算查明潘建涛自2014年6月27日至同年11月10日期间支出医疗费297281.48元，判决宝钟速达运输有限公司在交强险责任限额内赔偿潘建涛医疗费10000元、就医交通费3000元；其余截止到2014年11月10日的医疗费、住院伙食补助费5350元（住院107天）由宝钟速达运输有限公司承担40％，该判决已发生法律效力。 2015年3月5日被告何雪梅提起民事诉讼，要求与潘建涛离婚。2016年5月25日本院经审理后依法作出（2015）宝民初字第1959号民事判决，确认2015年3月5日之前被告何雪梅用夫妻共同财产支付潘建涛医疗费等费用，此后，双方各自财产收入未存放一起用于共同生活，均各自用于生活支出。截止2016年3月10日潘建涛名下工资余额8.96元，截止2106年3月13日何雪梅名下工资余额82.43元，双方均放弃分割，予以确认。对潘建涛出具的借条350000元因与其主张的夫妻共同债务288147.37元相互矛盾，不予处理，双方可待债权人主张权利时另行解决；对潘建涛所述夫妻共同债务288147.37元中医疗费201361.57元、护工费77100元、车费2900元、救护车费3070元，均系潘建涛后续治疗产生的费用，可待潘建涛后续治疗结束或评残结束，数额确定后另行解决。判决：一、准予原告何雪梅与被告潘建涛离婚；二、原、被告共同财产登记在被告潘建涛潘名下坐落于宝坻金色领地花园26-3-601楼房归被告潘建涛所有，剩余银行贷款52168.35元由被告潘建涛继续偿还，被告潘建涛给付原告何雪梅财产折价款375000元。三、原、被告共同财产登记在原告何雪梅名下长安福特翼虎越野车（车牌号京N×××××）归原告何雪梅所有，剩余银行贷款1077.44元由原告何雪梅继续偿还，原告何雪梅给付被告潘建涛财产折价款77500元。四、原告何雪梅给付被告潘建涛夫妻共同财产158414.97元的50％即79207.49元。五、被告潘建涛返还原告何雪梅偿还的车贷本息43109.76元的50％即21554.88元。六、原告何雪梅返还被告潘建涛用公积金偿还的楼房贷款50018.06元的50％即25009.03元。七、原告何雪梅给付潘建涛公积金补偿款4193.5元，被告潘建涛给付原告何雪梅公积金补偿款1358.45元。八、原告何雪梅返还被告潘建涛为何海购买宝坻望都楼2-3-402楼房出资143000元的50％即71500元。九、原告何雪梅给付被告潘建涛鉴定费2500元的50％即1250元。十、原、被告共同财产美的牌热水器1台、木制书柜1个、樱花牌抽油烟机1套、三星牌46寸液晶电视机1台、海信牌壁挂式空调1台、海尔牌全自动洗衣机1台归被告潘建涛所有。十一、原告何雪梅个人财产太空棉棉被1套、LG牌微波炉1台、组装电脑1台归被告潘建涛所有。十二、驳回原、被告其他诉讼请求。潘建涛不服提出上诉，经天津市第一中级人民法院审理后作出（2016）津01民终4437号民事判决，二审期间查明潘建涛因车祸住院治疗期间在天津医科大学总医院交付住院押金13000元为潘文英代为支付，认定该款为潘建涛、何雪梅夫妻共同债务，由二人共同偿还。判决：一、维持（2015）宝民初字第1959号民事判决第一、二、三、五、六、七、八、九、十、十一、十二项及案件受理费部分；二、撤销天津市宝坻区人民法院（2015）宝民初字第1959号民事判决第四项；三、本判决生效后十日内被上诉人何雪梅给付上诉人潘建涛夫妻共同财产214034.97（158414.97元-12000元＋92520元-24900元）的50％即107017.49元；四、本判决生效后十日内，被上诉人何雪梅给付上诉人潘建涛婚前公积金补偿款12000元；五、本判决生效后十日内，被上诉人何雪梅给付上诉人潘建涛6500元，对案外人潘文英的债务13000元由潘建涛偿还。该判决已经发生法律效力。 ', '裁判分析过程': '本院认为，本案的争议焦点主要为：1、本案所涉法律关系的性质；2、原告垫付医疗费是否属于二被告夫妻共同债务及如何承担。本院分别评述如下： 一、本案所涉法律关系的性质。原告以不当得利为由提起诉讼。根据我国“民法通则”第九十二条规定，没有合法根据，取得不当利益，造成他人损失的，应当将取得的不当利益返还受损失的人。由此可见，构成“不当得利”应符合下列条件：一是没有合法根据，使得一方获得利益；二是他方利益受损；三是获得利益与受到损失之间有因果关系。就本案来看，在被告潘建涛住院治疗期间，被告何雪梅提出离婚诉讼，自此各自掌管的财产由各自支配。原告与被告潘建涛虽系兄妹关系，但并无法定及约定义务，其基于亲情关系，为了使潘建涛能得到继续治疗垫付部分医疗费用，使自己受到了损害。被告潘建涛身体疾病得到了医治，却未向医疗机构支付医疗费，应属获取了利益，故双方之间构成不当得利。 二、原告所垫医疗费是否属于二被告夫妻共同债务及如何承担。我国“婚姻法”第四十一条规定，离婚时，原为夫妻共同生活所负的债务，应当共同偿还，共同财产不足清偿的，或财产归各自所有的，由双方协议清偿；协议不成时，由人民法院判决。本案中，原告为被告潘建涛垫付医疗费虽发生于二被告离婚诉讼过程中，但此期间二被告婚姻关系仍然存续，且潘建涛因交通事故受伤接受治疗自2014年6月至被告何雪梅于2015年3月5日提起离婚诉讼一直处于持续状态，故应属夫妻共同债务。在二被告离婚诉讼中，经法院判决双方对夫妻共同财产进行了分割，对夫妻共同债务确定待债权人主张另行解决，现原告请求二被告返还于法有据，本院予以支持。由于原告所垫付医疗费系因被告潘建涛发生交通事故产生，潘建涛尚未向案外侵权人主张权利，现二被告已解除婚姻关系，被告何雪梅承担后，可就该债权另行解决。 综上所述，依据《中华人民共和国民法通则》第九十二条，《中华人民共和国婚姻法》第四十一条，《中华人民共和国民事诉讼法》第六十四条第一款、《最高人民法院关于适用〈中华人民共和国民事诉讼法〉的解释》第九十条之规定，判决如下：', '判决结果': ' 一、被告潘建涛于判决生效后十五日内返还原告潘文英垫付医疗费70610.16元； 二、被告何雪梅返还原告潘文英为潘建涛垫付医疗费70610.16元，执行时间同上。 案件受理费3668元、保全费100元，合计3768元由二被告各自负担1884元，执行时间同上。 如不服本判决，可在判决书送达之日起十五日内，向本院递交上诉状，并按对方当事人的人数提出副本，上诉于天津市第一中级人民法院。（上诉应向天津市第一中级人民法院交纳上诉案件受理费，如在上诉期满后七日内未交纳上诉案件受理费或在上述期限内交纳后未将票据提交本院的，按不上诉处理。）', '文尾': ' 审判长白志远 审判员张凤霞 人民陪审员窦永兴 二〇一七年二月二十七日 书记员夏梦娇', '附件': ' 本案引用的法律条文 《中华人民共和国民法通则》第九十二条没有合法根据，取得不当利益，造成他人损失的，应当将取得的不当利益返还受损失的人。 《中华人民共和国婚姻法》第四十一条离婚时，原为夫妻共同生活所负的债务，应当共同偿还。共同财产不足清偿的，或财产归各自所有的，由双方协议清偿；协议不成时，由人民法院判决。 《中华人民共和国民事诉讼法》第六十四条第一款当事人对自己提出的主张，有责任提供证据。 《最高人民法院关于适用〈中华人民共和国民事诉讼法〉的解释》第九十条当事人对自己提出的诉讼请求所依据的事实或者反驳对方诉讼请求所依据的事实，应当提供证据加以证明，但法律另有规定的除外。 在作出判决前，当事人未能提供证据或者证据不足以证明其事实主张的，由负有举证证明责任的当事人承担不利的后果。 ', '立案日期': '2016年10月12日', '文书是否模糊': '否'}, '自定义_裁判文书_裁判分析过程': '本院认为，本案的争议焦点主要为：1、本案所涉法律关系的性质；2、原告垫付医疗费是否属于二被告夫妻共同债务及如何承担。本院分别评述如下： 一、本案所涉法律关系的性质。原告以不当得利为由提起诉讼。根据我国“民法通则”第九十二条规定，没有合法根据，取得不当利益，造成他人损失的，应当将取得的不当利益返还受损失的人。由此可见，构成“不当得利”应符合下列条件：一是没有合法根据，使得一方获得利益；二是他方利益受损；三是获得利益与受到损失之间有因果关系。就本案来看，在被告潘建涛住院治疗期间，被告何雪梅提出离婚诉讼，自此各自掌管的财产由各自支配。原告与被告潘建涛虽系兄妹关系，但并无法定及约定义务，其基于亲情关系，为了使潘建涛能得到继续治疗垫付部分医疗费用，使自己受到了损害。被告潘建涛身体疾病得到了医治，却未向医疗机构支付医疗费，应属获取了利益，故双方之间构成不当得利。 二、原告所垫医疗费是否属于二被告夫妻共同债务及如何承担。我国“婚姻法”第四十一条规定，离婚时，原为夫妻共同生活所负的债务，应当共同偿还，共同财产不足清偿的，或财产归各自所有的，由双方协议清偿；协议不成时，由人民法院判决。本案中，原告为被告潘建涛垫付医疗费虽发生于二被告离婚诉讼过程中，但此期间二被告婚姻关系仍然存续，且潘建涛因交通事故受伤接受治疗自2014年6月至被告何雪梅于2015年3月5日提起离婚诉讼一直处于持续状态，故应属夫妻共同债务。在二被告离婚诉讼中，经法院判决双方对夫妻共同财产进行了分割，对夫妻共同债务确定待债权人主张另行解决，现原告请求二被告返还于法有据，本院予以支持。由于原告所垫付医疗费系因被告潘建涛发生交通事故产生，潘建涛尚未向案外侵权人主张权利，现二被告已解除婚姻关系，被告何雪梅承担后，可就该债权另行解决。 综上所述，依据《中华人民共和国民法通则》第九十二条，《中华人民共和国婚姻法》第四十一条，《中华人民共和国民事诉讼法》第六十四条第一款、《最高人民法院关于适用〈中华人民共和国民事诉讼法〉的解释》第九十条之规定，判决如下：', '自定义_裁判文书_原告诉称段': '原告潘文英向本院提出诉讼请求：1、请求判令二被告返还原告垫付医疗费178361.57元，其中二被告各自返还50％即每人89180.78元；2、诉讼费由被告承担。事实和理由：二被告原系夫妻关系，原告系潘建涛的妹妹。2014年6月27日，潘建涛发生交通事故后昏迷不醒，起初何雪梅还能用夫妻共同生活期间的积蓄为潘建涛治病支付医疗费，从2014年11月初被告何雪梅即放弃对潘建涛的治疗不管不问，在潘建涛后续治疗期间原告与案外人潘建波、潘淑英各自筹措部分资金作为潘建涛的治疗费用。原告通过银行转账以及支付现金的方式陆续为潘建涛垫付医疗费178361.57元。何雪梅于2015年3月5日提起离婚诉讼要求与潘建涛离婚，因当时潘建涛昏迷不醒，离婚案件中止诉讼。另外何雪梅因涉嫌伪造公司、企业印章罪被公安宝坻分局取保候审。因潘建涛一直住院治疗，至2016年3月23日潘建涛能出庭应诉离婚案件才恢复审理。在离婚诉讼中法院以潘建涛清醒之后为原告及潘建波、潘淑英出具的350000元借条与三人垫付的医疗费201361.57元、护工费77100元、车费2900元、救护车费3070元，合计288147.37元有出入为由对该350000元夫妻共同债务未予处理，债权人可在主张权利时另行解决。在法院判决后潘建涛不服提出上诉，天津市第一中级人民法院认定原告垫付医疗费中13000元为夫妻共同债务，并判决由潘建涛偿还，何雪梅给付潘建涛6500元。夫妻之间有相互扶助的义务，被告何雪梅作为潘建涛的妻子，在潘建涛昏迷不醒期间拒绝支付医疗费，夫妻共同财产包括工资卡全部由何雪梅掌控，原告不得已为潘建涛垫付了部分医疗费，现何雪梅虽然与潘建涛已不是夫妻关系，但何雪梅有义务承担连带返还责任，故原告提起诉讼。', '自定义_裁判文书_被告辩称段': '被告何雪梅辩称，原告诉讼请求应予驳回：第一、原告起诉案由为不当得利，而本案案情不符合不当得利构成要件，被告何雪梅并未从原告损失中获取利益，不具有返还不当得利的条件；2、潘建涛的收入和个人所得能够支付相关费用，通过社会保险医疗报销及机动车交通事故的赔付款足以支付就医费用，原告垫付费用没有依据和理由，也不需要原告垫付，故原告起诉无事实依据；3、被告何雪梅于2015年3月5日向宝坻区人民法院提起离婚诉讼，自此双方未在一起共同生活，双方的财产收入和支出各自独立支配，潘建涛有足够的财产支付医疗费用，何雪梅在此期间也产生了生活支出，生效的法律文书也说明了这一点，被告何雪梅无需承担此费用；4、原告与潘建涛系兄妹关系，即使存在垫付医疗费的事实也是基于血缘关系提供的帮助，应当认定为赠与为宜。综上，原告起诉何雪梅缺乏依据，应予驳回。 被告潘建涛承认原告全部诉讼请求。 当事人围绕诉讼请求提供了证据，本院组织当事人进行了质证，对当事人无异议的证据，本院予以确认并在卷佐证。诉讼中，双方对原告提供的以下证据存在异议：1、客户名称潘文英的银行卡明细查询单；2、住院病历、住院费用明细清单、医疗费票据（复印件）；3、（2015）宝民初字第1959号民事判决书、天津市第一中级人民法院（2016）津01民终4437号民事判决书，以上证据用以证明被告潘建涛自2015年1月2日至2月13日在天津医科大学总医院住院期间原告以银行卡转账的方式垫付医疗费13000元［卡号62×××33；2015.1.30消费5000元（转入天津医科大学总医院）、2015.2.4消费2000元（转入天津医科大学总医院）、2015.2.6ATM取款2500元、500元、2015.2.8消费3000元（转入天津医科大学总医院）］、该款已经天津市第一中级人民法院（2016）津01民终4437号民事判决确认为二被告夫妻共同债务，并作出处理；潘建涛于2015年3月31日至4月3日在天津医科大学总医院住院3天，支出医疗费551.15元，是原告以现金的方式垫付；潘建涛于2015年5月13日至6月18日在天津医科大学总医院住院36天，支出医疗费77233.48元为原告垫付，其中以银行卡转账的方式垫付58400元［卡号62×××33：2015.5.13消费1400元（转入天津医科大学总医院）、2015.5.21消费5000元（转入天津医科大学总医院）、2015.5.27消费35000元（转入天津医科大学总医院）2015.6.4消费7000元（转入天津医科大学总医院）、2015.6.7消费10000元（转入天津医科大学总医院）］，以现金的方式垫付18833.48元；潘建涛于2015年8月5日至9月23日在该医疗机构住院49天，支出医疗费6586.83元，由原告垫付，其中银行卡转账7000元，退还现金413.17元［卡号62×××33：2015.8.5消费5000元（转入天津医科大学总医院）、2015.8.27消费2000元（转入天津医科大学总医院）］；潘建涛于2015年10月26日至12月16日在该医疗机构住院51天，支出医疗费92381.69元为原告垫付，其中以银行卡垫付80000元［卡号62×××33：2015.10.26消费5000元（转入天津医科大学总医院）、2015.11.6消费15000元（转入天津医科大学总医院）、2015.11.7消费10000元（转入天津医科大学总医院）、2015.11.10消费5000元（转入天津医科大学总医院）、2015.11.11消费10000元（转入天津医科大学总医院）、2015.11.16消费5000元（转入天津医科大学总医院）；卡号43×××14：2015.11.5消费30000元（（转入天津医科大学总医院）］，现金垫付12381.69元。潘建涛非住院期间原告垫付天津医科大学总医院会诊费、宝坻区中医医院、宝坻区人民医院门诊医疗费合计1608.42元，以上合计191361.57元，扣除已经确认给付的13000元，余款178361.57元应由二被告各自支付50％。4、署名潘建涛的借条（复印件），用以证明潘建涛恢复意识后为原告及其他垫付人出具了借条350000元。被告何雪梅认为以上证据中银行转账数额与医疗费票据不符，对其真实性不予认可；医疗费票据、住院病历、住院费用明细清单与本案不具有关联性，且不能排除原告自身或其他人在该医疗机构就医原告转账支付医疗费，不能达到原告的证明目的；对借条的真实性、关联性均有异议，即使是真实的，也与本案诉请相互矛盾，金额亦不一致。被告潘建涛认可原告所提供证据。以上原告所提供证据中银行卡交易明细清单与潘建涛住院病历、住院费票据、住院费用明细清单能相互印证潘建涛在天津医科大学总医院住院治疗期间，潘文英以银行卡转账的方式为其垫付医疗费的事实，本院予以确认。被告何雪梅虽然否认银行卡交易清单的真实性，但未提供其他证据足以反驳，亦无其他证据足以证明在此期间银行卡转账款项系用于支付他人就医支出，故对何雪梅的抗辩意见本院不予采信。原告提供的潘建涛于2015年3月31日至4月3日在天津医科大学总医院住院3天，支出医疗费551.15元的住院病历、医疗费票据以及其他门诊医疗费票据只能证明潘建涛在此期间支出费用情况，不足以证明该费用支出为原告垫付，故对上述证据的证明力本院不予确认。对于署名潘建涛、金额350000元的借条与本案所涉垫付款金额不相一致，且潘建涛与原告系兄妹关系，被告何雪梅不予认可，故本院对其证明力不予确认。 ', '自定义_裁判文书_证据段': '被告何雪梅提供了如下证据：1、2015.1.2至2015.2.13潘建涛在天津医科大学总医院住院病历、2014.11.10至2014.12.23潘建涛在宝坻区人民医院住院医疗费票据（复印件），用以证明潘建涛在上述期间内住院是何雪梅为其办理的住院手续，支付的住院费用，进一步证明原告所述不属实。2、2105.5.13至2015.6.18潘建涛在天津医科大学总医院住院医疗费票据及“POS签购单”，用以证明潘建涛在2015.6.18出院结算退还3766.52元汇入了原告银行卡中。被告何雪梅申请本院调取潘建涛自2015年3月至今工资卡明细单及自2014年6月至今潘建涛在农业银行、建设银行所有银行卡及交易明细，用以证明潘建涛有相应存款，可用于支付医疗费用及相关支出，进而证明原告为潘建涛垫付医疗费缺乏事实依据。在双方离婚诉讼中，本院查询了潘建涛自2014.7.8至2016.3.10工资卡交易明细清单，显示截止至2016年3月10日余额8.96元。对此潘建涛称，自2015年3月何雪梅提起离婚诉讼后，其工资卡即被法院冻结，后解除冻结后由其姐潘淑英掌管，用于潘建涛生活支出。潘建涛承认在农业银行及建设银行有过银行卡，但否认卡内有存款。在双方离婚诉讼中均未提及潘建涛在农业银行及建设银行银行卡内有存款，且即使存在，亦与本案不具有关联性，故本院不予调取。对于“POS签购单”显示退还3766.52元于尾号“1033”银行卡问题，原告称不知情。经本院结合“POS签购单”记载内容与原告提供的62×××33号银行卡交易明细清单记载“2015-6-23消费退货3766.52”相互印证，足以证明潘建涛在天津医科大学总医院于2015.5.13至2015.6.18住院治疗结算时退款3766.52元汇入原告此银行卡内，对该证据的证明力本院予以确认。上述其余证据不足以证明被告何雪梅之抗辩意见，本院不予确认。 ', '自定义_裁判文书_查明事实段': '根据当事人陈述和经审查确认的证据，本院认定事实如下：二被告原系夫妻关系，原告系被告潘建涛之妹。2014年6月27日被告潘建涛因驾驶电动自行车发生交通事故受伤并住院治疗，其中2015年5月13日至6月18日在天津医科大学总医院住院36天，支出住院医疗费77233.48元；2015年8月5日至9月23日在该医疗机构住院49天，支出住院医疗费6586.83元；2015年10月26日至12月16日在该医疗机构住院51天，支出住院医疗费92381.69元。自2015年5月13日至2015年11月16日原告以银行卡转账的方式垫付医疗费合计145400元（其中62×××33号银行卡转账13笔，金额115400元，43×××14号银行卡转账1笔，金额30000元），其中2105.5.13至2015.6.18潘建涛住院治疗结算时退款3766.52元汇入原告62×××33号银行卡。原告承认2015年8月5日至9月23日潘建涛住院治疗结束，出院结算退现金413.17元由其领取，以上原告共计为被告潘建涛垫付医疗费合计141220.31元。 另查，2014年11月，潘建涛以案外人李福建、天津宝钟速达运输有限公司、天津市宝坻石桥工业园区管理委员会为被告、以机动车交通事故责任纠纷为由提起民事诉讼，要求上述被告赔偿其因此次交通事故造成的各项经济损失，经本院审理后依法作出（2014）宝民初字第7552号民事判决，确认潘建涛与宝钟速达运输有限公司的责任比例为60％：40％，经核算查明潘建涛自2014年6月27日至同年11月10日期间支出医疗费297281.48元，判决宝钟速达运输有限公司在交强险责任限额内赔偿潘建涛医疗费10000元、就医交通费3000元；其余截止到2014年11月10日的医疗费、住院伙食补助费5350元（住院107天）由宝钟速达运输有限公司承担40％，该判决已发生法律效力。 2015年3月5日被告何雪梅提起民事诉讼，要求与潘建涛离婚。2016年5月25日本院经审理后依法作出（2015）宝民初字第1959号民事判决，确认2015年3月5日之前被告何雪梅用夫妻共同财产支付潘建涛医疗费等费用，此后，双方各自财产收入未存放一起用于共同生活，均各自用于生活支出。截止2016年3月10日潘建涛名下工资余额8.96元，截止2106年3月13日何雪梅名下工资余额82.43元，双方均放弃分割，予以确认。对潘建涛出具的借条350000元因与其主张的夫妻共同债务288147.37元相互矛盾，不予处理，双方可待债权人主张权利时另行解决；对潘建涛所述夫妻共同债务288147.37元中医疗费201361.57元、护工费77100元、车费2900元、救护车费3070元，均系潘建涛后续治疗产生的费用，可待潘建涛后续治疗结束或评残结束，数额确定后另行解决。判决：一、准予原告何雪梅与被告潘建涛离婚；二、原、被告共同财产登记在被告潘建涛潘名下坐落于宝坻金色领地花园26-3-601楼房归被告潘建涛所有，剩余银行贷款52168.35元由被告潘建涛继续偿还，被告潘建涛给付原告何雪梅财产折价款375000元。三、原、被告共同财产登记在原告何雪梅名下长安福特翼虎越野车（车牌号京N×××××）归原告何雪梅所有，剩余银行贷款1077.44元由原告何雪梅继续偿还，原告何雪梅给付被告潘建涛财产折价款77500元。四、原告何雪梅给付被告潘建涛夫妻共同财产158414.97元的50％即79207.49元。五、被告潘建涛返还原告何雪梅偿还的车贷本息43109.76元的50％即21554.88元。六、原告何雪梅返还被告潘建涛用公积金偿还的楼房贷款50018.06元的50％即25009.03元。七、原告何雪梅给付潘建涛公积金补偿款4193.5元，被告潘建涛给付原告何雪梅公积金补偿款1358.45元。八、原告何雪梅返还被告潘建涛为何海购买宝坻望都楼2-3-402楼房出资143000元的50％即71500元。九、原告何雪梅给付被告潘建涛鉴定费2500元的50％即1250元。十、原、被告共同财产美的牌热水器1台、木制书柜1个、樱花牌抽油烟机1套、三星牌46寸液晶电视机1台、海信牌壁挂式空调1台、海尔牌全自动洗衣机1台归被告潘建涛所有。十一、原告何雪梅个人财产太空棉棉被1套、LG牌微波炉1台、组装电脑1台归被告潘建涛所有。十二、驳回原、被告其他诉讼请求。潘建涛不服提出上诉，经天津市第一中级人民法院审理后作出（2016）津01民终4437号民事判决，二审期间查明潘建涛因车祸住院治疗期间在天津医科大学总医院交付住院押金13000元为潘文英代为支付，认定该款为潘建涛、何雪梅夫妻共同债务，由二人共同偿还。判决：一、维持（2015）宝民初字第1959号民事判决第一、二、三、五、六、七、八、九、十、十一、十二项及案件受理费部分；二、撤销天津市宝坻区人民法院（2015）宝民初字第1959号民事判决第四项；三、本判决生效后十日内被上诉人何雪梅给付上诉人潘建涛夫妻共同财产214034.97（158414.97元-12000元＋92520元-24900元）的50％即107017.49元；四、本判决生效后十日内，被上诉人何雪梅给付上诉人潘建涛婚前公积金补偿款12000元；五、本判决生效后十日内，被上诉人何雪梅给付上诉人潘建涛6500元，对案外人潘文英的债务13000元由潘建涛偿还。该判决已经发生法律效力。', '自定义_裁判文书_当事人': '原告：潘文英，女，1978年4月27日生，汉族，农民，住天津市宝坻区。 委托诉讼代理人：潘建波（原告之兄），1969年11月14日生，汉族，居民，住天津市宝坻区。 委托诉讼代理人：于世诚，天津文韬律师事务所律师。 被告：何雪梅，女，1975年6月1日生，汉族，居民，住天津市宝坻区。 委托诉讼代理人：张培尧，天津森宇律师事务所律师。 委托诉讼代理人：赵君君，天津森宇律师事务所律师。 被告：潘建涛，男，1976年3月25日生，汉族，居民，住天津市宝坻区。', '自定义_裁判文书_判决结果': ' 一、被告潘建涛于判决生效后十五日内返还原告潘文英垫付医疗费70610.16元； 二、被告何雪梅返还原告潘文英为潘建涛垫付医疗费70610.16元，执行时间同上。 案件受理费3668元、保全费100元，合计3768元由二被告各自负担1884元，执行时间同上。 如不服本判决，可在判决书送达之日起十五日内，向本院递交上诉状，并按对方当事人的人数提出副本，上诉于天津市第一中级人民法院。（上诉应向天津市第一中级人民法院交纳上诉案件受理费，如在上诉期满后七日内未交纳上诉案件受理费或在上述期限内交纳后未将票据提交本院的，按不上诉处理。）', '自定义_裁判文书_全文': '天津市宝坻区人民法院 民事判决书 （2016）津0115民初8642号 原告：潘文英，女，1978年4月27日生，汉族，农民，住天津市宝坻区。 委托诉讼代理人：潘建波（原告之兄），1969年11月14日生，汉族，居民，住天津市宝坻区。 委托诉讼代理人：于世诚，天津文韬律师事务所律师。 被告：何雪梅，女，1975年6月1日生，汉族，居民，住天津市宝坻区。 委托诉讼代理人：张培尧，天津森宇律师事务所律师。 委托诉讼代理人：赵君君，天津森宇律师事务所律师。 被告：潘建涛，男，1976年3月25日生，汉族，居民，住天津市宝坻区。 原告潘文英与被告何雪梅、潘建涛不当得利纠纷一案，本院于2016年10月12日立案受理后，依法适用简易程序，因案情复杂裁定转为普通程序，依法组成合议庭公开开庭进行了审理。原告委托诉讼代理人、被告何雪梅及其委托诉讼代理人张培尧、被告潘建涛到庭参加诉讼。本案现已审理终结。 原告潘文英向本院提出诉讼请求：1、请求判令二被告返还原告垫付医疗费178361.57元，其中二被告各自返还50％即每人89180.78元；2、诉讼费由被告承担。事实和理由：二被告原系夫妻关系，原告系潘建涛的妹妹。2014年6月27日，潘建涛发生交通事故后昏迷不醒，起初何雪梅还能用夫妻共同生活期间的积蓄为潘建涛治病支付医疗费，从2014年11月初被告何雪梅即放弃对潘建涛的治疗不管不问，在潘建涛后续治疗期间原告与案外人潘建波、潘淑英各自筹措部分资金作为潘建涛的治疗费用。原告通过银行转账以及支付现金的方式陆续为潘建涛垫付医疗费178361.57元。何雪梅于2015年3月5日提起离婚诉讼要求与潘建涛离婚，因当时潘建涛昏迷不醒，离婚案件中止诉讼。另外何雪梅因涉嫌伪造公司、企业印章罪被公安宝坻分局取保候审。因潘建涛一直住院治疗，至2016年3月23日潘建涛能出庭应诉离婚案件才恢复审理。在离婚诉讼中法院以潘建涛清醒之后为原告及潘建波、潘淑英出具的350000元借条与三人垫付的医疗费201361.57元、护工费77100元、车费2900元、救护车费3070元，合计288147.37元有出入为由对该350000元夫妻共同债务未予处理，债权人可在主张权利时另行解决。在法院判决后潘建涛不服提出上诉，天津市第一中级人民法院认定原告垫付医疗费中13000元为夫妻共同债务，并判决由潘建涛偿还，何雪梅给付潘建涛6500元。夫妻之间有相互扶助的义务，被告何雪梅作为潘建涛的妻子，在潘建涛昏迷不醒期间拒绝支付医疗费，夫妻共同财产包括工资卡全部由何雪梅掌控，原告不得已为潘建涛垫付了部分医疗费，现何雪梅虽然与潘建涛已不是夫妻关系，但何雪梅有义务承担连带返还责任，故原告提起诉讼。 被告何雪梅辩称，原告诉讼请求应予驳回：第一、原告起诉案由为不当得利，而本案案情不符合不当得利构成要件，被告何雪梅并未从原告损失中获取利益，不具有返还不当得利的条件；2、潘建涛的收入和个人所得能够支付相关费用，通过社会保险医疗报销及机动车交通事故的赔付款足以支付就医费用，原告垫付费用没有依据和理由，也不需要原告垫付，故原告起诉无事实依据；3、被告何雪梅于2015年3月5日向宝坻区人民法院提起离婚诉讼，自此双方未在一起共同生活，双方的财产收入和支出各自独立支配，潘建涛有足够的财产支付医疗费用，何雪梅在此期间也产生了生活支出，生效的法律文书也说明了这一点，被告何雪梅无需承担此费用；4、原告与潘建涛系兄妹关系，即使存在垫付医疗费的事实也是基于血缘关系提供的帮助，应当认定为赠与为宜。综上，原告起诉何雪梅缺乏依据，应予驳回。 被告潘建涛承认原告全部诉讼请求。 当事人围绕诉讼请求提供了证据，本院组织当事人进行了质证，对当事人无异议的证据，本院予以确认并在卷佐证。诉讼中，双方对原告提供的以下证据存在异议：1、客户名称潘文英的银行卡明细查询单；2、住院病历、住院费用明细清单、医疗费票据（复印件）；3、（2015）宝民初字第1959号民事判决书、天津市第一中级人民法院（2016）津01民终4437号民事判决书，以上证据用以证明被告潘建涛自2015年1月2日至2月13日在天津医科大学总医院住院期间原告以银行卡转账的方式垫付医疗费13000元［卡号62×××33；2015.1.30消费5000元（转入天津医科大学总医院）、2015.2.4消费2000元（转入天津医科大学总医院）、2015.2.6ATM取款2500元、500元、2015.2.8消费3000元（转入天津医科大学总医院）］、该款已经天津市第一中级人民法院（2016）津01民终4437号民事判决确认为二被告夫妻共同债务，并作出处理；潘建涛于2015年3月31日至4月3日在天津医科大学总医院住院3天，支出医疗费551.15元，是原告以现金的方式垫付；潘建涛于2015年5月13日至6月18日在天津医科大学总医院住院36天，支出医疗费77233.48元为原告垫付，其中以银行卡转账的方式垫付58400元［卡号62×××33：2015.5.13消费1400元（转入天津医科大学总医院）、2015.5.21消费5000元（转入天津医科大学总医院）、2015.5.27消费35000元（转入天津医科大学总医院）2015.6.4消费7000元（转入天津医科大学总医院）、2015.6.7消费10000元（转入天津医科大学总医院）］，以现金的方式垫付18833.48元；潘建涛于2015年8月5日至9月23日在该医疗机构住院49天，支出医疗费6586.83元，由原告垫付，其中银行卡转账7000元，退还现金413.17元［卡号62×××33：2015.8.5消费5000元（转入天津医科大学总医院）、2015.8.27消费2000元（转入天津医科大学总医院）］；潘建涛于2015年10月26日至12月16日在该医疗机构住院51天，支出医疗费92381.69元为原告垫付，其中以银行卡垫付80000元［卡号62×××33：2015.10.26消费5000元（转入天津医科大学总医院）、2015.11.6消费15000元（转入天津医科大学总医院）、2015.11.7消费10000元（转入天津医科大学总医院）、2015.11.10消费5000元（转入天津医科大学总医院）、2015.11.11消费10000元（转入天津医科大学总医院）、2015.11.16消费5000元（转入天津医科大学总医院）；卡号43×××14：2015.11.5消费30000元（（转入天津医科大学总医院）］，现金垫付12381.69元。潘建涛非住院期间原告垫付天津医科大学总医院会诊费、宝坻区中医医院、宝坻区人民医院门诊医疗费合计1608.42元，以上合计191361.57元，扣除已经确认给付的13000元，余款178361.57元应由二被告各自支付50％。4、署名潘建涛的借条（复印件），用以证明潘建涛恢复意识后为原告及其他垫付人出具了借条350000元。被告何雪梅认为以上证据中银行转账数额与医疗费票据不符，对其真实性不予认可；医疗费票据、住院病历、住院费用明细清单与本案不具有关联性，且不能排除原告自身或其他人在该医疗机构就医原告转账支付医疗费，不能达到原告的证明目的；对借条的真实性、关联性均有异议，即使是真实的，也与本案诉请相互矛盾，金额亦不一致。被告潘建涛认可原告所提供证据。以上原告所提供证据中银行卡交易明细清单与潘建涛住院病历、住院费票据、住院费用明细清单能相互印证潘建涛在天津医科大学总医院住院治疗期间，潘文英以银行卡转账的方式为其垫付医疗费的事实，本院予以确认。被告何雪梅虽然否认银行卡交易清单的真实性，但未提供其他证据足以反驳，亦无其他证据足以证明在此期间银行卡转账款项系用于支付他人就医支出，故对何雪梅的抗辩意见本院不予采信。原告提供的潘建涛于2015年3月31日至4月3日在天津医科大学总医院住院3天，支出医疗费551.15元的住院病历、医疗费票据以及其他门诊医疗费票据只能证明潘建涛在此期间支出费用情况，不足以证明该费用支出为原告垫付，故对上述证据的证明力本院不予确认。对于署名潘建涛、金额350000元的借条与本案所涉垫付款金额不相一致，且潘建涛与原告系兄妹关系，被告何雪梅不予认可，故本院对其证明力不予确认。 被告何雪梅提供了如下证据：1、2015.1.2至2015.2.13潘建涛在天津医科大学总医院住院病历、2014.11.10至2014.12.23潘建涛在宝坻区人民医院住院医疗费票据（复印件），用以证明潘建涛在上述期间内住院是何雪梅为其办理的住院手续，支付的住院费用，进一步证明原告所述不属实。2、2105.5.13至2015.6.18潘建涛在天津医科大学总医院住院医疗费票据及“POS签购单”，用以证明潘建涛在2015.6.18出院结算退还3766.52元汇入了原告银行卡中。被告何雪梅申请本院调取潘建涛自2015年3月至今工资卡明细单及自2014年6月至今潘建涛在农业银行、建设银行所有银行卡及交易明细，用以证明潘建涛有相应存款，可用于支付医疗费用及相关支出，进而证明原告为潘建涛垫付医疗费缺乏事实依据。在双方离婚诉讼中，本院查询了潘建涛自2014.7.8至2016.3.10工资卡交易明细清单，显示截止至2016年3月10日余额8.96元。对此潘建涛称，自2015年3月何雪梅提起离婚诉讼后，其工资卡即被法院冻结，后解除冻结后由其姐潘淑英掌管，用于潘建涛生活支出。潘建涛承认在农业银行及建设银行有过银行卡，但否认卡内有存款。在双方离婚诉讼中均未提及潘建涛在农业银行及建设银行银行卡内有存款，且即使存在，亦与本案不具有关联性，故本院不予调取。对于“POS签购单”显示退还3766.52元于尾号“1033”银行卡问题，原告称不知情。经本院结合“POS签购单”记载内容与原告提供的62×××33号银行卡交易明细清单记载“2015-6-23消费退货3766.52”相互印证，足以证明潘建涛在天津医科大学总医院于2015.5.13至2015.6.18住院治疗结算时退款3766.52元汇入原告此银行卡内，对该证据的证明力本院予以确认。上述其余证据不足以证明被告何雪梅之抗辩意见，本院不予确认。 根据当事人陈述和经审查确认的证据，本院认定事实如下：二被告原系夫妻关系，原告系被告潘建涛之妹。2014年6月27日被告潘建涛因驾驶电动自行车发生交通事故受伤并住院治疗，其中2015年5月13日至6月18日在天津医科大学总医院住院36天，支出住院医疗费77233.48元；2015年8月5日至9月23日在该医疗机构住院49天，支出住院医疗费6586.83元；2015年10月26日至12月16日在该医疗机构住院51天，支出住院医疗费92381.69元。自2015年5月13日至2015年11月16日原告以银行卡转账的方式垫付医疗费合计145400元（其中62×××33号银行卡转账13笔，金额115400元，43×××14号银行卡转账1笔，金额30000元），其中2105.5.13至2015.6.18潘建涛住院治疗结算时退款3766.52元汇入原告62×××33号银行卡。原告承认2015年8月5日至9月23日潘建涛住院治疗结束，出院结算退现金413.17元由其领取，以上原告共计为被告潘建涛垫付医疗费合计141220.31元。 另查，2014年11月，潘建涛以案外人李福建、天津宝钟速达运输有限公司、天津市宝坻石桥工业园区管理委员会为被告、以机动车交通事故责任纠纷为由提起民事诉讼，要求上述被告赔偿其因此次交通事故造成的各项经济损失，经本院审理后依法作出（2014）宝民初字第7552号民事判决，确认潘建涛与宝钟速达运输有限公司的责任比例为60％：40％，经核算查明潘建涛自2014年6月27日至同年11月10日期间支出医疗费297281.48元，判决宝钟速达运输有限公司在交强险责任限额内赔偿潘建涛医疗费10000元、就医交通费3000元；其余截止到2014年11月10日的医疗费、住院伙食补助费5350元（住院107天）由宝钟速达运输有限公司承担40％，该判决已发生法律效力。 2015年3月5日被告何雪梅提起民事诉讼，要求与潘建涛离婚。2016年5月25日本院经审理后依法作出（2015）宝民初字第1959号民事判决，确认2015年3月5日之前被告何雪梅用夫妻共同财产支付潘建涛医疗费等费用，此后，双方各自财产收入未存放一起用于共同生活，均各自用于生活支出。截止2016年3月10日潘建涛名下工资余额8.96元，截止2106年3月13日何雪梅名下工资余额82.43元，双方均放弃分割，予以确认。对潘建涛出具的借条350000元因与其主张的夫妻共同债务288147.37元相互矛盾，不予处理，双方可待债权人主张权利时另行解决；对潘建涛所述夫妻共同债务288147.37元中医疗费201361.57元、护工费77100元、车费2900元、救护车费3070元，均系潘建涛后续治疗产生的费用，可待潘建涛后续治疗结束或评残结束，数额确定后另行解决。判决：一、准予原告何雪梅与被告潘建涛离婚；二、原、被告共同财产登记在被告潘建涛潘名下坐落于宝坻金色领地花园26-3-601楼房归被告潘建涛所有，剩余银行贷款52168.35元由被告潘建涛继续偿还，被告潘建涛给付原告何雪梅财产折价款375000元。三、原、被告共同财产登记在原告何雪梅名下长安福特翼虎越野车（车牌号京N×××××）归原告何雪梅所有，剩余银行贷款1077.44元由原告何雪梅继续偿还，原告何雪梅给付被告潘建涛财产折价款77500元。四、原告何雪梅给付被告潘建涛夫妻共同财产158414.97元的50％即79207.49元。五、被告潘建涛返还原告何雪梅偿还的车贷本息43109.76元的50％即21554.88元。六、原告何雪梅返还被告潘建涛用公积金偿还的楼房贷款50018.06元的50％即25009.03元。七、原告何雪梅给付潘建涛公积金补偿款4193.5元，被告潘建涛给付原告何雪梅公积金补偿款1358.45元。八、原告何雪梅返还被告潘建涛为何海购买宝坻望都楼2-3-402楼房出资143000元的50％即71500元。九、原告何雪梅给付被告潘建涛鉴定费2500元的50％即1250元。十、原、被告共同财产美的牌热水器1台、木制书柜1个、樱花牌抽油烟机1套、三星牌46寸液晶电视机1台、海信牌壁挂式空调1台、海尔牌全自动洗衣机1台归被告潘建涛所有。十一、原告何雪梅个人财产太空棉棉被1套、LG牌微波炉1台、组装电脑1台归被告潘建涛所有。十二、驳回原、被告其他诉讼请求。潘建涛不服提出上诉，经天津市第一中级人民法院审理后作出（2016）津01民终4437号民事判决，二审期间查明潘建涛因车祸住院治疗期间在天津医科大学总医院交付住院押金13000元为潘文英代为支付，认定该款为潘建涛、何雪梅夫妻共同债务，由二人共同偿还。判决：一、维持（2015）宝民初字第1959号民事判决第一、二、三、五、六、七、八、九、十、十一、十二项及案件受理费部分；二、撤销天津市宝坻区人民法院（2015）宝民初字第1959号民事判决第四项；三、本判决生效后十日内被上诉人何雪梅给付上诉人潘建涛夫妻共同财产214034.97（158414.97元-12000元＋92520元-24900元）的50％即107017.49元；四、本判决生效后十日内，被上诉人何雪梅给付上诉人潘建涛婚前公积金补偿款12000元；五、本判决生效后十日内，被上诉人何雪梅给付上诉人潘建涛6500元，对案外人潘文英的债务13000元由潘建涛偿还。该判决已经发生法律效力。 本院认为，本案的争议焦点主要为：1、本案所涉法律关系的性质；2、原告垫付医疗费是否属于二被告夫妻共同债务及如何承担。本院分别评述如下： 一、本案所涉法律关系的性质。原告以不当得利为由提起诉讼。根据我国“民法通则”第九十二条规定，没有合法根据，取得不当利益，造成他人损失的，应当将取得的不当利益返还受损失的人。由此可见，构成“不当得利”应符合下列条件：一是没有合法根据，使得一方获得利益；二是他方利益受损；三是获得利益与受到损失之间有因果关系。就本案来看，在被告潘建涛住院治疗期间，被告何雪梅提出离婚诉讼，自此各自掌管的财产由各自支配。原告与被告潘建涛虽系兄妹关系，但并无法定及约定义务，其基于亲情关系，为了使潘建涛能得到继续治疗垫付部分医疗费用，使自己受到了损害。被告潘建涛身体疾病得到了医治，却未向医疗机构支付医疗费，应属获取了利益，故双方之间构成不当得利。 二、原告所垫医疗费是否属于二被告夫妻共同债务及如何承担。我国“婚姻法”第四十一条规定，离婚时，原为夫妻共同生活所负的债务，应当共同偿还，共同财产不足清偿的，或财产归各自所有的，由双方协议清偿；协议不成时，由人民法院判决。本案中，原告为被告潘建涛垫付医疗费虽发生于二被告离婚诉讼过程中，但此期间二被告婚姻关系仍然存续，且潘建涛因交通事故受伤接受治疗自2014年6月至被告何雪梅于2015年3月5日提起离婚诉讼一直处于持续状态，故应属夫妻共同债务。在二被告离婚诉讼中，经法院判决双方对夫妻共同财产进行了分割，对夫妻共同债务确定待债权人主张另行解决，现原告请求二被告返还于法有据，本院予以支持。由于原告所垫付医疗费系因被告潘建涛发生交通事故产生，潘建涛尚未向案外侵权人主张权利，现二被告已解除婚姻关系，被告何雪梅承担后，可就该债权另行解决。 综上所述，依据《中华人民共和国民法通则》第九十二条，《中华人民共和国婚姻法》第四十一条，《中华人民共和国民事诉讼法》第六十四条第一款、《最高人民法院关于适用〈中华人民共和国民事诉讼法〉的解释》第九十条之规定，判决如下： 一、被告潘建涛于判决生效后十五日内返还原告潘文英垫付医疗费70610.16元； 二、被告何雪梅返还原告潘文英为潘建涛垫付医疗费70610.16元，执行时间同上。 案件受理费3668元、保全费100元，合计3768元由二被告各自负担1884元，执行时间同上。 如不服本判决，可在判决书送达之日起十五日内，向本院递交上诉状，并按对方当事人的人数提出副本，上诉于天津市第一中级人民法院。（上诉应向天津市第一中级人民法院交纳上诉案件受理费，如在上诉期满后七日内未交纳上诉案件受理费或在上述期限内交纳后未将票据提交本院的，按不上诉处理。） 审判长白志远 审判员张凤霞 人民陪审员窦永兴 二〇一七年二月二十七日 书记员夏梦娇 本案引用的法律条文 《中华人民共和国民法通则》第九十二条没有合法根据，取得不当利益，造成他人损失的，应当将取得的不当利益返还受损失的人。 《中华人民共和国婚姻法》第四十一条离婚时，原为夫妻共同生活所负的债务，应当共同偿还。共同财产不足清偿的，或财产归各自所有的，由双方协议清偿；协议不成时，由人民法院判决。 《中华人民共和国民事诉讼法》第六十四条第一款当事人对自己提出的主张，有责任提供证据。 《最高人民法院关于适用〈中华人民共和国民事诉讼法〉的解释》第九十条当事人对自己提出的诉讼请求所依据的事实或者反驳对方诉讼请求所依据的事实，应当提供证据加以证明，但法律另有规定的除外。 在作出判决前，当事人未能提供证据或者证据不足以证明其事实主张的，由负有举证证明责任的当事人承担不利的后果。 ', '法条': ['《中华人民共和国民法通则》第九十二条', '《中华人民共和国民事诉讼法》第六十四条第一款', '《中华人民共和国婚姻法》第四十一条', '《中华人民共和国民法通则》第九十二条', '《最高人民法院关于适用〈中华人民共和国民事诉讼法〉的解释》第九十条', '《中华人民共和国民事诉讼法》第一百七十条第一款第（一）项'], '案例属性': {'案件类别': '民事案件', '文书种类': '判决书', '经办法院': '天津市宝坻区人民法院', '法官成员': ['白志远', '张凤霞', '窦永兴', '夏梦娇', '白志远', '张凤霞'], '案由': '不当得利纠纷'}, 'vec': [0.21113334504849066, -0.2737876614480654, 0.06793230882526552, 0.14647752692201074, -0.36636887988342687, 0.30996906165540455, -0.43572504988272104, -0.16195097152119514, 0.24696219133119174, 0.32020587107313897, -0.20310290104773437, 0.1817420100105032, 0.12780583046037775, 0.12954369474517188, -0.07266369025376425, -0.046165423312716856, -0.0438345073284955, -0.14714342451371593, -0.16412711537805916, 0.19170380093401881, 0.07455664278090295, -0.17992366267653526, -0.0880072196286157, -0.2006100818802894, -0.11133935308495992, 0.10688293186655004, 0.18682888807540912, 0.18502188870978012, 0.014904414598837198, -0.18174969461820234, 0.012677618364661374, -0.12764733888756777, 0.10376361057291097, -0.23932979648339867, 0.05271611416395047, 0.14600350995291128, -0.13579870587710333, 0.26584650079061833, -0.01751449157559575, -0.2052905722420252, -0.07863257945793337, -0.1466890003460077, 0.03927136272596521, -0.12719700604350065, 0.026066275939322772, 0.33057663524293185, -0.22045794408811065, 0.15667589976633897, 0.2501322087184801, -0.12738086112403052, -0.18040968228836485, -0.18499102140021637, -0.2982269546511827, -0.09856317821775383, -0.2892944540587993, -0.07206689610799531, 0.15189304798717282, 0.45880137340974714, -0.042587496852929854, -0.48939838093254556, 0.1936642013363003, -0.06146227537790863, 0.2969904536826827, -0.040149063200026355, 0.13526957124269132, 0.06934888940165766, 0.255860339255805, -0.1699496350653656, 0.10697334424745228, 0.18104450550043746, 0.05037867510812409, 0.11829412371727582, 0.04431772564422773, -0.027413381831269186, -0.08108251234031325, 0.2848285760372206, 0.012898176562106352, -0.06552165378040324, -0.11212385105399139, 0.12330861267930893, 0.19542818022789976, 0.08060142882312049, -0.3700495839546661, -0.01931764710648695, -0.14626807836182865, -0.08458735087066496, -0.1441259233920823, -0.23147413429441388, -0.18968879298575225, -0.12947299413629304, -0.17932180137405443, -0.03634322306065558, -0.04610170247193827, 0.10330782042812278, -0.13291894680353744, 0.05391471417216441, -0.03132378861469642, 0.10909010357401418, 0.17943116806008685, -0.02803015655495804]}, 'highlight': {'法条': ['《<em>中华人民共和国</em><em>民法通则</em>》<em>第九十</em><em>二条</em>', '《<em>中华人民共和国</em><em>民事诉讼法</em>》<em>第六十</em><em>四条</em><em>第一款</em>', '《<em>中华人民共和国</em><em>民法通则</em>》<em>第九十</em><em>二条</em>', '《最高人民法院关于适用〈<em>中华人民共和国</em><em>民事诉讼法</em>〉的解释》<em>第九十</em>条', '《<em>中华人民共和国</em><em>民事诉讼法</em>》第一百七十条<em>第一款</em>第（一）项']}}, {'_index': 'new-case-data', '_id': '23929', '_score': 11.332823, '_ignored': ['自定义_裁判文书_证据段.keyword', '全文.附件.keyword', '自定义_裁判文书_查明事实段.keyword', '自定义_裁判文书_裁判分析过程.keyword', '全文.裁判分析过程.keyword', '自定义_裁判文书_被告辩称段.keyword', '自定义_裁判文书_全文.keyword', '全文.案件基本情况.keyword', '自定义_裁判文书_原告诉称段.keyword'], '_source': {'全文': {'文首': {'文书制作单位': '法院', '法院文书种类': '裁判文书', '经办法院': '湖南省洪江市人民法院', '文书名称': '民事判决书', '案号': '（2014）洪法民一初字第645号', '案件类别': '民事案件', '文书种类': '判决书', '审判程序': '一审案件', '案件类型': '民事一审案件'}, '当事人': '原告杨某柏，男。 被告肖某云（曾用名某梅），女。 委托代理人贺余良，洪江市江洲法律服务所法律工作者。', '诉讼记录': ' 本院于2014年12月3日立案受理了原告杨某柏诉被告肖某云不当得利纠纷一案后，依法组成由审判员段柳媛担任审判长，与人民陪审员张师清、易彦芸参加的合议庭于2015年1月22日、5月25日不公开开庭进行了审理。书记员杨彬彬担任本案记录。原告杨某柏，被告肖某云及其委托代理人贺余良到庭参加诉讼。本案现已审理终结。', '案件基本情况': ' 原告杨某柏诉称：2008年3月初，被告以隐瞒其搞传销的真相，编造做服装生意的假象，先套取原告女儿杨某琳的电话，再将杨某琳从杭州一家企业诈骗至天津传销组织进行拘禁，编造杨某琳去北京与被告一起做服装生意需要20000元资金进货的假象。在原告不知情且联系不上杨某琳的情况下，2008年4月23日，原告只好按照被告提供的账号及名字向肖某云卡中打入20000元。2008年7月16日，该传销组织遭到当地政府打击，杨某琳才被解救出来回到杭州，因被告没有逃跑的路费，就又编造服装被没收，杨某琳没有路费回家的假象，向原告骗取了500元跑路费。在被告上述非法传销、对杨某琳非法拘禁并对原告实施诈骗的行为败露后，2008年9月，原告就上述情况向洪江市公安局报案，但被告伪造证据、指使他人作假证，导致公安局未予立案。鉴于被告采取种种欺骗手段骗取了原告20500元，故请求法院判令被告返还原告20500元及利息14350元、汇款手续费50元、车旅费583元，合计35483元，本案诉讼费及出庭作证人员车旅费由被告承担。 原告杨某柏为证明自己的主张，向本院提交了如下证据： 1、原告的身份证复印件及被告的户籍证明各1份，拟证明原、被告的身份情况； 2、杨学海、杨学忠共同出具的证明1份，拟证明被告搞传销的情况； 3、邮政储蓄银行汇款收据、中国农业银行存款业务回单各1份，拟证明被告骗取原告现金的情况； 4、原告进行申诉的情况说明1份，拟证明公安机关对原告控告被告诈骗罪不予立案的情况； 5、洪公复字［2011］A001号洪江市公安局复议决定书1份，拟证明公安机关对原告控告被告诈骗案不立案，原告向上级机关复议的情况； 6、关于请求上级部门责成洪江市公安局对肖某云诈骗及组织传销人员冲击国家机关案等两项案情立案予以查处的情况报告复印件1份，拟证明杨某琳请求上级部门责成公安局对肖某云诈骗及组织传销人员冲击国家机关予以查处的情况； 7、杨某琳出具的证明、杨松柏、丁求勇共同出具的证明、韩旭出具的证明、杨颖及陈乾共同出具的证明各1份，拟证明被告搞传销的情况； 8、来往车费发票共计583元，拟证明原告往返黔城公、检、法等部门申诉花费车旅费的情况； 9、怀化市房地产转让申请表、商品房买卖合同、怀化市房地产转让过户单及怀化市房地产交易所缴费通知单复印件各1份，拟证明原告是卖房而不是被告所陈述的买房的情况； 10、怀化鹤洲法律服务所法律工作者刘文吉对某梅、彭则妹、肖春霞所作的调查笔录复印件各1份，拟证明原告与被告并无同居关系； 11、原告写给被告信的底稿一份，拟证明原告要求被告还钱的情况。 被告肖某云辩称：原、被告于2001年相识，双方有多年恋爱关系，因原告的插足才导致被告离婚。2003年被告与丈夫离婚后，便与原告在怀化市公路局附近租房同居，后原告也与妻子离婚，离婚后原告告知其养女杨某琳，被告是杨某琳的亲生母亲，后三人共同生活。原、被告同居至2006年时，在怀化鹤城区红星路购置了一套二手房用于结婚，因原告离婚后经济条件有限，便向被告借款30000元，但原告不同意在房产证上登记双方的名字，导致双方关系恶化，原告给被告转账打款，实际是被告做生意缺乏资金，要求原告所偿还的借款。2007年下半年，原告担心被告变心分手，主动要杨某琳到被告身边，想以此拴住被告。事实的真相是，被告看透了原告的本质，于2008年下半年正式与原告提出分手，但原告不同意分手，多次利用手里的打款单从2008年9月开始到公安局控告被告，公安局查明事实真相后，对原告的无理控告不予立案，但原告心有不甘，多年来希望通过无理控告和诉讼来影响被告的生活。被告不仅没有欠原告债务及侵占原告财产，相反，原告至今尚欠被告10000元债务未还，被告保留要求原告偿还借款及赔偿名誉损失的权利，同时请求法院判决驳回原告的诉讼请求。 被告肖某云为支持其答辩主张，向本院提交如下证据： 1、原告写给被告的信1份，拟证明原、被告曾经是多年的男女朋友关系，被告出资给原告买房，原告想要和被告和好的情况； 2、公安机关对杨某琳所作的询问笔录1份，拟证明杨某琳所陈述的事实与原告在诉状中所陈述的事实互相矛盾，原告在起诉状中所述的事实与实际情况不符； 3、公安机关对肖某云所作的询问笔录1份，拟证明原、被告曾经有多年恋爱及同居关系，原告破坏被告和前夫家庭，双方同居期间被告借款给原告买房，被告与原告无债务关系，原、被告恋爱交往期间的情况； 4、公安机关对肖菊梅所作的询问笔录1份，拟证明被告的姐姐肖菊梅认识原告，当时原告准备与被告结婚要买房，肖菊梅借了3万元钱给肖某云买房； 5、公安机关对肖宪成所作的询问笔录1份，拟证明肖宪云是羊皮洞村的村支书，被告的户口从嫁入地牵回了洪江市塘湾乡羊皮洞村，听说原告与被告因买房，有感情纠葛； 6、公安机关对张湘成所作的询问笔录1份，拟证明原、被告于2002年左右在怀化市鹤城区三仙桥租了证人张湘成的房子； 7、迁户报告1份，拟证明原告的老家在洪江市群峰乡，原告想把被告的户口迁到原告老家洪江市群峰乡的情况； 8、原告杨某柏写的日记一本及原告赠送给被告的照片两张，拟证明原告与被告自2001年开始认识恋爱，双方有多年的感情纠葛的情况。 以上原、被告所提交的证据，经当庭举证、质证，被告对原告提交的证据发表如下质证意见：对1号证据无异议；对2号证据的真实性、合法性、关联性均有异议，认为被告是否参与传销应该以公安机关及法院的相关处理结果为依据，证人未出庭作证，且无身份证明证实证人身份，证人出具的证明不能作为认定事实的依据，证言与本案无关联性；对3号证据有异议，被告未骗取原告的钱，真实情况是原告还被告的钱，因双方有多年恋爱同居关系，长期有经济上的往来；对4号证据有异议，该证据是原告的个人陈述，不属于证据，公安机关不予立案，恰恰证明了被告并没有骗取原告的钱；对5号证据有异议，不能证明原告的证明目的，反而进一步说明了被告并没有向原告诈骗的事实；对6号证据有异议，该证据是原告女儿杨某琳的个人陈述，不具备真实性，不能作为认定案件事实的依据，且无其他证据予以佐证；对7号证据有异议，杨某琳的陈述自相矛盾，证人未出庭作证且无身份证明，与本案无关联性，对所有的证人证言都不予认可；对8号证据有异议，发票均系原告去公安机关控告被告花费的车费，与本案无关联性；对9号证据的真实性、关联性均有异议，证据超过举证期限提交，且没有加盖房管局公章，该房是原告买进后再卖出的；对10号证据有异议，该笔录是原告与前妻起诉离婚时，原告为证明自己与被告无婚外情关系，对婚姻无过错，指使证人出具的证言，目的就是想在离婚时对自己分割财产有利；对11号证据的真实性有异议，真实的信件在公安局，该份信件是原告自己后来写的。 原告对被告提交的证据发表如下质证意见：对1号证据的真实性没有异议，对证明目的不予认可；对2号证据有异议，杨某琳是怕公安机关知道其在传销组织加入的时间太长而找麻烦，才把时间讲短的；对3、4、6号证据的真实性有异议；对5号证据中迁户口的事实没有异议，对证人听说的情况有异议；对7号证据有异议，原告并不知情；对8号证据的真实性没异议，但对证明目的有异议，这是原告阅读报刊、杂志后摘抄下来的短文片段，照片不是原告送给被告的，是被告自己取走的。 经开庭审理，本院审核，对原告提交的证据做如下认证：1号证据，系有关机关出具的有效身份资料且双方均无异议，本院予以确认；2号证据未提供证人身份信息，证人无正当理由未出庭作证，且该证据拟证明被告存在传销违法犯罪事实又经原告举报控告后，有关机关未予确认，故该证据本院不予采信；3号证据，系银行出具的存、汇款回单，被告对收到该款亦予以认可，本院对该证据证明的原告打款、被告收款这一事实予以确认；4、6号证据，对原告向有关机关控告被告犯诈骗罪的情况，被告答辩中亦认可，本院予以确认；5号证据，系公安机关出具的生效法律文书，本院予以确认；7号证据证人无正当理由未出庭作证，拟证明被告存在传销违法犯罪事实经原告举报控告后，有关机关又未予确认，故该证据本院不予采信；8、9号证据无法查明证据与原告拟证明事实的关联性，本院不予采信；10号证据被告提出异议，原告无其他证据相佐证，本院不予采信；11号证据原告称系自己重新书写的手抄件，不符合证据的法定形式，被告提出异议，又无当时的原件相核对，对该证据本院不予采信。 对被告提交的证据做如下认证：1、8号证据，原告对其真实性无异议，本院对该两份证据的真实性予以确认；2-6号证据均系公安机关的询问笔录，对能够相互佐证，证明本案相关事实的部分，本院予以采信，其余部分不予采信；7号证据，原告对其中迁户口的内容没有异议，对该部分内容，本院予以确认。 本院根据确认的证据及庭审调查核实的情况，查明以下案件事实：原告于2008年4月23日、7月18日分别向被告账户汇款20000元、500元，汇款时原告之女杨某琳和被告一同在外。后原告以被告存在传销及诈骗违法犯罪事实为由向洪江市公安局举报控告，洪江市公安局决定不予立案，原告不服向洪江市公安局申请复议，2011年9月13日洪江市公安局作出洪公复字［2011］A001号复议决定书认为“杨某柏控告肖某云诈骗一案，没有证据证明存在犯罪事实，根据《中华人民共和国刑事诉讼法》第八十六条之规定，决定不予立案”。原告仍不服，多次向公安、检察等机关反映要求洪江市公安局对被告进行立案查处，并追究被告刑事责任，但未果。为此，原告诉诸本院以被告采取种种欺骗手段将其小孩诱骗至传销组织中进行拘禁，又利用原告小孩的名义两次骗取不义之财20500元为由，请求法院判令被告返还非法所得，即要求被告返还原告现金20500元及经济损失14350元（利息）、汇款手续费50元、车旅费583元，合计35483元。 另查明：原、被告曾有多年恋爱关系，均陈述对方曾向自己借款。原告向本院提交的《报案后公安机关不予立案以及我多次进行申诉的有关情况说明》（即原告提交的第4号证据）中称“万般无奈下，我只好放弃原来的刑事主张改为民事诉讼”，本案审理过程中，经释明原告选择主张不当得利法律关系。 ', '裁判分析过程': '本院认为，原告自主选择不当得利法律关系，向被告主张不当得利之债，本案应定性为不当得利纠纷。本案原告诉称之所以打款给被告是基于其女儿与被告一起做服装生意需要资金，在与女儿联系不上的情况下才给被告账号打款的，也就是说，原告对被告给付该款是欲通过被告账户将该款转交女儿并共同做生意，即当时的给付行为存在合同上和法律上的原因，该给付行为自主、主动且目的明确。后原告认为被告系从事传销而诈骗向公安等机关进行检举控告，但公安机关以没有证据证明被告存在犯罪事实不予立案，即被告取得该款的行为并未被依法认定为违法犯罪。原告在刑事控告未达目的的情况下选择主张不当得利之债，根据《中华人民共和国民法通则》第九十二条“没有合法根据，取得不当利益，造成他人损失的，应当将取得的不当利益返还受损失的人”的规定，不当得利是指没有合法根据而获得利益并使他人利益受损失的事实，其构成要件为：没有合法根据；一方受损；他方受益；一方受损与他方受益存在因果关系。所谓没有合法根据是指当事人取得利益并继续保有利益欠缺正当性或法律根据。根据原告的主张，被告不当得利是因其欺诈所致，但原告现有证据不足以证明被告取得该利益的原因属违法犯罪而无效，在法定期限内原告又未依法行使撤销权，原告诉称的给付原因的合法性并未被否定。另，原、被告曾存在恋爱关系，双方均称对方曾向自己借款，双方有经济上的往来，而该款系原告主动给付，给付数额、给付对象明确、具体，在给付时原告所称的给付基础行为亦明确，原告在控告被告违法犯罪未果的情况下主张被告收取该款不具有合法根据或事后丧失合法性并非单纯的消极事实，原告作为自己财产权转移、变动的控制者，应当有义务、有能力对被告就该利益的取得和是否有权保有承担举证责任，现原告未提供充分证据证明被告取得该款没有合法根据或者事后丧失合法性，欠缺不当得利的法定构成要件，不足以认定被告接受和取得原告的给付构成不当得利，其应承担举证不能的不利后果。 同时，原告诉讼中始终认为被告存在传销和诈骗的犯罪事实，并曾长时间向公安等机关检举控告，要求追究被告的刑事责任，后其在“万般无奈下，我只好放弃原来的刑事主张而改为民事诉讼”而选择民事诉讼途径主张“请求法院判令被告返还非法所得”的，而不当得利是一项基于法律规定而独立的法律制度，有着严格的构成要件和适用范围，其不应成为当事人在其他法律关系中因缺少证据或非被告原因不达目的时的请求权基础，且本案中原告坚持认为被告存在犯罪事实并在未依法丧失救济途径的情况下主张不当得利，背离不当得利制度的固有功能和立法本意，依法应不予支持。 综上所述，原告主张被告不当得利证据不足，且主张与法不符，故对原告要求被告返还现金20500元并赔偿利息损失14350元、汇款手续费50元、车旅费583元，共计35483元及要求被告承担出庭证人车旅费的诉讼请求本院不予支持。据此，依照《中华人民共和国民法通则》第九十二条、《中华人民共和国民事诉讼法》第六十四条第一款、《最高人民法院关于适用〈中华人民共和国民事诉讼法〉的解释》第九十条之规定，判决如下：', '判决结果': ' 驳回原告杨某柏的诉讼请求。 本案案件受理费687元，由原告杨某柏负担。 如不服本判决，可在本判决书送达之日起15日内向本院递交上诉状，并按对方当事人的人数提出副本，上诉于湖南省怀化市中级人民法院。', '文尾': ' 审判长段柳媛 人民陪审员张师清 人民陪审员易彦芸 二〇一五年五月二十九日 书记员杨彬彬', '附件': ' 附法律条文： 1、《中华人民共和国民法通则》 第九十二条没有合法根据，取得不当利益，造成他人损失的，应当将取得的不当利益返还受损失的人。 2、《中华人民共和国民事诉讼法》 第六十四条当事人对自己提出的主张，有责任提供证据。 当事人及其诉讼代理人因客观原因不能自行收集的证据，或者人民法院认为审理案件需要的证据，人民法院应当调查收集。 人民法院应当按照法定程序，全面地、客观地审查核实证据。 3、《最高人民法院关于适用〈中华人民共和国民事诉讼法〉的解释》 第九十条当事人对自己提出的诉讼请求所依据的事实或者反驳对方诉讼请求所依据的事实，应当提供证据加以证明，但法律另有规定的除外。 在作出判决前，当事人未能提供证据或者证据不足以证明其事实主张的，由负有举证证明责任的当事人承担不利的后果。 ', '立案日期': '2014年12月3日', '文书是否模糊': '是'}, '自定义_裁判文书_裁判分析过程': '本院认为，原告自主选择不当得利法律关系，向被告主张不当得利之债，本案应定性为不当得利纠纷。本案原告诉称之所以打款给被告是基于其女儿与被告一起做服装生意需要资金，在与女儿联系不上的情况下才给被告账号打款的，也就是说，原告对被告给付该款是欲通过被告账户将该款转交女儿并共同做生意，即当时的给付行为存在合同上和法律上的原因，该给付行为自主、主动且目的明确。后原告认为被告系从事传销而诈骗向公安等机关进行检举控告，但公安机关以没有证据证明被告存在犯罪事实不予立案，即被告取得该款的行为并未被依法认定为违法犯罪。原告在刑事控告未达目的的情况下选择主张不当得利之债，根据《中华人民共和国民法通则》第九十二条“没有合法根据，取得不当利益，造成他人损失的，应当将取得的不当利益返还受损失的人”的规定，不当得利是指没有合法根据而获得利益并使他人利益受损失的事实，其构成要件为：没有合法根据；一方受损；他方受益；一方受损与他方受益存在因果关系。所谓没有合法根据是指当事人取得利益并继续保有利益欠缺正当性或法律根据。根据原告的主张，被告不当得利是因其欺诈所致，但原告现有证据不足以证明被告取得该利益的原因属违法犯罪而无效，在法定期限内原告又未依法行使撤销权，原告诉称的给付原因的合法性并未被否定。另，原、被告曾存在恋爱关系，双方均称对方曾向自己借款，双方有经济上的往来，而该款系原告主动给付，给付数额、给付对象明确、具体，在给付时原告所称的给付基础行为亦明确，原告在控告被告违法犯罪未果的情况下主张被告收取该款不具有合法根据或事后丧失合法性并非单纯的消极事实，原告作为自己财产权转移、变动的控制者，应当有义务、有能力对被告就该利益的取得和是否有权保有承担举证责任，现原告未提供充分证据证明被告取得该款没有合法根据或者事后丧失合法性，欠缺不当得利的法定构成要件，不足以认定被告接受和取得原告的给付构成不当得利，其应承担举证不能的不利后果。 同时，原告诉讼中始终认为被告存在传销和诈骗的犯罪事实，并曾长时间向公安等机关检举控告，要求追究被告的刑事责任，后其在“万般无奈下，我只好放弃原来的刑事主张而改为民事诉讼”而选择民事诉讼途径主张“请求法院判令被告返还非法所得”的，而不当得利是一项基于法律规定而独立的法律制度，有着严格的构成要件和适用范围，其不应成为当事人在其他法律关系中因缺少证据或非被告原因不达目的时的请求权基础，且本案中原告坚持认为被告存在犯罪事实并在未依法丧失救济途径的情况下主张不当得利，背离不当得利制度的固有功能和立法本意，依法应不予支持。 综上所述，原告主张被告不当得利证据不足，且主张与法不符，故对原告要求被告返还现金20500元并赔偿利息损失14350元、汇款手续费50元、车旅费583元，共计35483元及要求被告承担出庭证人车旅费的诉讼请求本院不予支持。据此，依照《中华人民共和国民法通则》第九十二条、《中华人民共和国民事诉讼法》第六十四条第一款、《最高人民法院关于适用〈中华人民共和国民事诉讼法〉的解释》第九十条之规定，判决如下：', '自定义_裁判文书_原告诉称段': '原告杨某柏诉称：2008年3月初，被告以隐瞒其搞传销的真相，编造做服装生意的假象，先套取原告女儿杨某琳的电话，再将杨某琳从杭州一家企业诈骗至天津传销组织进行拘禁，编造杨某琳去北京与被告一起做服装生意需要20000元资金进货的假象。在原告不知情且联系不上杨某琳的情况下，2008年4月23日，原告只好按照被告提供的账号及名字向肖某云卡中打入20000元。2008年7月16日，该传销组织遭到当地政府打击，杨某琳才被解救出来回到杭州，因被告没有逃跑的路费，就又编造服装被没收，杨某琳没有路费回家的假象，向原告骗取了500元跑路费。在被告上述非法传销、对杨某琳非法拘禁并对原告实施诈骗的行为败露后，2008年9月，原告就上述情况向洪江市公安局报案，但被告伪造证据、指使他人作假证，导致公安局未予立案。鉴于被告采取种种欺骗手段骗取了原告20500元，故请求法院判令被告返还原告20500元及利息14350元、汇款手续费50元、车旅费583元，合计35483元，本案诉讼费及出庭作证人员车旅费由被告承担。 ', '自定义_裁判文书_被告辩称段': '被告肖某云辩称：原、被告于2001年相识，双方有多年恋爱关系，因原告的插足才导致被告离婚。2003年被告与丈夫离婚后，便与原告在怀化市公路局附近租房同居，后原告也与妻子离婚，离婚后原告告知其养女杨某琳，被告是杨某琳的亲生母亲，后三人共同生活。原、被告同居至2006年时，在怀化鹤城区红星路购置了一套二手房用于结婚，因原告离婚后经济条件有限，便向被告借款30000元，但原告不同意在房产证上登记双方的名字，导致双方关系恶化，原告给被告转账打款，实际是被告做生意缺乏资金，要求原告所偿还的借款。2007年下半年，原告担心被告变心分手，主动要杨某琳到被告身边，想以此拴住被告。事实的真相是，被告看透了原告的本质，于2008年下半年正式与原告提出分手，但原告不同意分手，多次利用手里的打款单从2008年9月开始到公安局控告被告，公安局查明事实真相后，对原告的无理控告不予立案，但原告心有不甘，多年来希望通过无理控告和诉讼来影响被告的生活。被告不仅没有欠原告债务及侵占原告财产，相反，原告至今尚欠被告10000元债务未还，被告保留要求原告偿还借款及赔偿名誉损失的权利，同时请求法院判决驳回原告的诉讼请求。 ', '自定义_裁判文书_证据段': '原告杨某柏为证明自己的主张，向本院提交了如下证据： 1、原告的身份证复印件及被告的户籍证明各1份，拟证明原、被告的身份情况； 2、杨学海、杨学忠共同出具的证明1份，拟证明被告搞传销的情况； 3、邮政储蓄银行汇款收据、中国农业银行存款业务回单各1份，拟证明被告骗取原告现金的情况； 4、原告进行申诉的情况说明1份，拟证明公安机关对原告控告被告诈骗罪不予立案的情况； 5、洪公复字［2011］A001号洪江市公安局复议决定书1份，拟证明公安机关对原告控告被告诈骗案不立案，原告向上级机关复议的情况； 6、关于请求上级部门责成洪江市公安局对肖某云诈骗及组织传销人员冲击国家机关案等两项案情立案予以查处的情况报告复印件1份，拟证明杨某琳请求上级部门责成公安局对肖某云诈骗及组织传销人员冲击国家机关予以查处的情况； 7、杨某琳出具的证明、杨松柏、丁求勇共同出具的证明、韩旭出具的证明、杨颖及陈乾共同出具的证明各1份，拟证明被告搞传销的情况； 8、来往车费发票共计583元，拟证明原告往返黔城公、检、法等部门申诉花费车旅费的情况； 9、怀化市房地产转让申请表、商品房买卖合同、怀化市房地产转让过户单及怀化市房地产交易所缴费通知单复印件各1份，拟证明原告是卖房而不是被告所陈述的买房的情况； 10、怀化鹤洲法律服务所法律工作者刘文吉对某梅、彭则妹、肖春霞所作的调查笔录复印件各1份，拟证明原告与被告并无同居关系； 11、原告写给被告信的底稿一份，拟证明原告要求被告还钱的情况。 被告肖某云为支持其答辩主张，向本院提交如下证据： 1、原告写给被告的信1份，拟证明原、被告曾经是多年的男女朋友关系，被告出资给原告买房，原告想要和被告和好的情况； 2、公安机关对杨某琳所作的询问笔录1份，拟证明杨某琳所陈述的事实与原告在诉状中所陈述的事实互相矛盾，原告在起诉状中所述的事实与实际情况不符； 3、公安机关对肖某云所作的询问笔录1份，拟证明原、被告曾经有多年恋爱及同居关系，原告破坏被告和前夫家庭，双方同居期间被告借款给原告买房，被告与原告无债务关系，原、被告恋爱交往期间的情况； 4、公安机关对肖菊梅所作的询问笔录1份，拟证明被告的姐姐肖菊梅认识原告，当时原告准备与被告结婚要买房，肖菊梅借了3万元钱给肖某云买房； 5、公安机关对肖宪成所作的询问笔录1份，拟证明肖宪云是羊皮洞村的村支书，被告的户口从嫁入地牵回了洪江市塘湾乡羊皮洞村，听说原告与被告因买房，有感情纠葛； 6、公安机关对张湘成所作的询问笔录1份，拟证明原、被告于2002年左右在怀化市鹤城区三仙桥租了证人张湘成的房子； 7、迁户报告1份，拟证明原告的老家在洪江市群峰乡，原告想把被告的户口迁到原告老家洪江市群峰乡的情况； 8、原告杨某柏写的日记一本及原告赠送给被告的照片两张，拟证明原告与被告自2001年开始认识恋爱，双方有多年的感情纠葛的情况。 以上原、被告所提交的证据，经当庭举证、质证，被告对原告提交的证据发表如下质证意见：对1号证据无异议；对2号证据的真实性、合法性、关联性均有异议，认为被告是否参与传销应该以公安机关及法院的相关处理结果为依据，证人未出庭作证，且无身份证明证实证人身份，证人出具的证明不能作为认定事实的依据，证言与本案无关联性；对3号证据有异议，被告未骗取原告的钱，真实情况是原告还被告的钱，因双方有多年恋爱同居关系，长期有经济上的往来；对4号证据有异议，该证据是原告的个人陈述，不属于证据，公安机关不予立案，恰恰证明了被告并没有骗取原告的钱；对5号证据有异议，不能证明原告的证明目的，反而进一步说明了被告并没有向原告诈骗的事实；对6号证据有异议，该证据是原告女儿杨某琳的个人陈述，不具备真实性，不能作为认定案件事实的依据，且无其他证据予以佐证；对7号证据有异议，杨某琳的陈述自相矛盾，证人未出庭作证且无身份证明，与本案无关联性，对所有的证人证言都不予认可；对8号证据有异议，发票均系原告去公安机关控告被告花费的车费，与本案无关联性；对9号证据的真实性、关联性均有异议，证据超过举证期限提交，且没有加盖房管局公章，该房是原告买进后再卖出的；对10号证据有异议，该笔录是原告与前妻起诉离婚时，原告为证明自己与被告无婚外情关系，对婚姻无过错，指使证人出具的证言，目的就是想在离婚时对自己分割财产有利；对11号证据的真实性有异议，真实的信件在公安局，该份信件是原告自己后来写的。 原告对被告提交的证据发表如下质证意见：对1号证据的真实性没有异议，对证明目的不予认可；对2号证据有异议，杨某琳是怕公安机关知道其在传销组织加入的时间太长而找麻烦，才把时间讲短的；对3、4、6号证据的真实性有异议；对5号证据中迁户口的事实没有异议，对证人听说的情况有异议；对7号证据有异议，原告并不知情；对8号证据的真实性没异议，但对证明目的有异议，这是原告阅读报刊、杂志后摘抄下来的短文片段，照片不是原告送给被告的，是被告自己取走的。 经开庭审理，本院审核，对原告提交的证据做如下认证：1号证据，系有关机关出具的有效身份资料且双方均无异议，本院予以确认；2号证据未提供证人身份信息，证人无正当理由未出庭作证，且该证据拟证明被告存在传销违法犯罪事实又经原告举报控告后，有关机关未予确认，故该证据本院不予采信；3号证据，系银行出具的存、汇款回单，被告对收到该款亦予以认可，本院对该证据证明的原告打款、被告收款这一事实予以确认；4、6号证据，对原告向有关机关控告被告犯诈骗罪的情况，被告答辩中亦认可，本院予以确认；5号证据，系公安机关出具的生效法律文书，本院予以确认；7号证据证人无正当理由未出庭作证，拟证明被告存在传销违法犯罪事实经原告举报控告后，有关机关又未予确认，故该证据本院不予采信；8、9号证据无法查明证据与原告拟证明事实的关联性，本院不予采信；10号证据被告提出异议，原告无其他证据相佐证，本院不予采信；11号证据原告称系自己重新书写的手抄件，不符合证据的法定形式，被告提出异议，又无当时的原件相核对，对该证据本院不予采信。 对被告提交的证据做如下认证：1、8号证据，原告对其真实性无异议，本院对该两份证据的真实性予以确认；2-6号证据均系公安机关的询问笔录，对能够相互佐证，证明本案相关事实的部分，本院予以采信，其余部分不予采信；7号证据，原告对其中迁户口的内容没有异议，对该部分内容，本院予以确认。 ', '自定义_裁判文书_查明事实段': '本院根据确认的证据及庭审调查核实的情况，查明以下案件事实：原告于2008年4月23日、7月18日分别向被告账户汇款20000元、500元，汇款时原告之女杨某琳和被告一同在外。后原告以被告存在传销及诈骗违法犯罪事实为由向洪江市公安局举报控告，洪江市公安局决定不予立案，原告不服向洪江市公安局申请复议，2011年9月13日洪江市公安局作出洪公复字［2011］A001号复议决定书认为“杨某柏控告肖某云诈骗一案，没有证据证明存在犯罪事实，根据《中华人民共和国刑事诉讼法》第八十六条之规定，决定不予立案”。原告仍不服，多次向公安、检察等机关反映要求洪江市公安局对被告进行立案查处，并追究被告刑事责任，但未果。为此，原告诉诸本院以被告采取种种欺骗手段将其小孩诱骗至传销组织中进行拘禁，又利用原告小孩的名义两次骗取不义之财20500元为由，请求法院判令被告返还非法所得，即要求被告返还原告现金20500元及经济损失14350元（利息）、汇款手续费50元、车旅费583元，合计35483元。 另查明：原、被告曾有多年恋爱关系，均陈述对方曾向自己借款。原告向本院提交的《报案后公安机关不予立案以及我多次进行申诉的有关情况说明》（即原告提交的第4号证据）中称“万般无奈下，我只好放弃原来的刑事主张改为民事诉讼”，本案审理过程中，经释明原告选择主张不当得利法律关系。', '自定义_裁判文书_当事人': '原告杨某柏，男。 被告肖某云（曾用名某梅），女。 委托代理人贺余良，洪江市江洲法律服务所法律工作者。', '自定义_裁判文书_判决结果': ' 驳回原告杨某柏的诉讼请求。 本案案件受理费687元，由原告杨某柏负担。 如不服本判决，可在本判决书送达之日起15日内向本院递交上诉状，并按对方当事人的人数提出副本，上诉于湖南省怀化市中级人民法院。', '自定义_裁判文书_全文': '湖南省洪江市人民法院 民事判决书 （2014）洪法民一初字第645号 原告杨某柏，男。 被告肖某云（曾用名某梅），女。 委托代理人贺余良，洪江市江洲法律服务所法律工作者。 本院于2014年12月3日立案受理了原告杨某柏诉被告肖某云不当得利纠纷一案后，依法组成由审判员段柳媛担任审判长，与人民陪审员张师清、易彦芸参加的合议庭于2015年1月22日、5月25日不公开开庭进行了审理。书记员杨彬彬担任本案记录。原告杨某柏，被告肖某云及其委托代理人贺余良到庭参加诉讼。本案现已审理终结。 原告杨某柏诉称：2008年3月初，被告以隐瞒其搞传销的真相，编造做服装生意的假象，先套取原告女儿杨某琳的电话，再将杨某琳从杭州一家企业诈骗至天津传销组织进行拘禁，编造杨某琳去北京与被告一起做服装生意需要20000元资金进货的假象。在原告不知情且联系不上杨某琳的情况下，2008年4月23日，原告只好按照被告提供的账号及名字向肖某云卡中打入20000元。2008年7月16日，该传销组织遭到当地政府打击，杨某琳才被解救出来回到杭州，因被告没有逃跑的路费，就又编造服装被没收，杨某琳没有路费回家的假象，向原告骗取了500元跑路费。在被告上述非法传销、对杨某琳非法拘禁并对原告实施诈骗的行为败露后，2008年9月，原告就上述情况向洪江市公安局报案，但被告伪造证据、指使他人作假证，导致公安局未予立案。鉴于被告采取种种欺骗手段骗取了原告20500元，故请求法院判令被告返还原告20500元及利息14350元、汇款手续费50元、车旅费583元，合计35483元，本案诉讼费及出庭作证人员车旅费由被告承担。 原告杨某柏为证明自己的主张，向本院提交了如下证据： 1、原告的身份证复印件及被告的户籍证明各1份，拟证明原、被告的身份情况； 2、杨学海、杨学忠共同出具的证明1份，拟证明被告搞传销的情况； 3、邮政储蓄银行汇款收据、中国农业银行存款业务回单各1份，拟证明被告骗取原告现金的情况； 4、原告进行申诉的情况说明1份，拟证明公安机关对原告控告被告诈骗罪不予立案的情况； 5、洪公复字［2011］A001号洪江市公安局复议决定书1份，拟证明公安机关对原告控告被告诈骗案不立案，原告向上级机关复议的情况； 6、关于请求上级部门责成洪江市公安局对肖某云诈骗及组织传销人员冲击国家机关案等两项案情立案予以查处的情况报告复印件1份，拟证明杨某琳请求上级部门责成公安局对肖某云诈骗及组织传销人员冲击国家机关予以查处的情况； 7、杨某琳出具的证明、杨松柏、丁求勇共同出具的证明、韩旭出具的证明、杨颖及陈乾共同出具的证明各1份，拟证明被告搞传销的情况； 8、来往车费发票共计583元，拟证明原告往返黔城公、检、法等部门申诉花费车旅费的情况； 9、怀化市房地产转让申请表、商品房买卖合同、怀化市房地产转让过户单及怀化市房地产交易所缴费通知单复印件各1份，拟证明原告是卖房而不是被告所陈述的买房的情况； 10、怀化鹤洲法律服务所法律工作者刘文吉对某梅、彭则妹、肖春霞所作的调查笔录复印件各1份，拟证明原告与被告并无同居关系； 11、原告写给被告信的底稿一份，拟证明原告要求被告还钱的情况。 被告肖某云辩称：原、被告于2001年相识，双方有多年恋爱关系，因原告的插足才导致被告离婚。2003年被告与丈夫离婚后，便与原告在怀化市公路局附近租房同居，后原告也与妻子离婚，离婚后原告告知其养女杨某琳，被告是杨某琳的亲生母亲，后三人共同生活。原、被告同居至2006年时，在怀化鹤城区红星路购置了一套二手房用于结婚，因原告离婚后经济条件有限，便向被告借款30000元，但原告不同意在房产证上登记双方的名字，导致双方关系恶化，原告给被告转账打款，实际是被告做生意缺乏资金，要求原告所偿还的借款。2007年下半年，原告担心被告变心分手，主动要杨某琳到被告身边，想以此拴住被告。事实的真相是，被告看透了原告的本质，于2008年下半年正式与原告提出分手，但原告不同意分手，多次利用手里的打款单从2008年9月开始到公安局控告被告，公安局查明事实真相后，对原告的无理控告不予立案，但原告心有不甘，多年来希望通过无理控告和诉讼来影响被告的生活。被告不仅没有欠原告债务及侵占原告财产，相反，原告至今尚欠被告10000元债务未还，被告保留要求原告偿还借款及赔偿名誉损失的权利，同时请求法院判决驳回原告的诉讼请求。 被告肖某云为支持其答辩主张，向本院提交如下证据： 1、原告写给被告的信1份，拟证明原、被告曾经是多年的男女朋友关系，被告出资给原告买房，原告想要和被告和好的情况； 2、公安机关对杨某琳所作的询问笔录1份，拟证明杨某琳所陈述的事实与原告在诉状中所陈述的事实互相矛盾，原告在起诉状中所述的事实与实际情况不符； 3、公安机关对肖某云所作的询问笔录1份，拟证明原、被告曾经有多年恋爱及同居关系，原告破坏被告和前夫家庭，双方同居期间被告借款给原告买房，被告与原告无债务关系，原、被告恋爱交往期间的情况； 4、公安机关对肖菊梅所作的询问笔录1份，拟证明被告的姐姐肖菊梅认识原告，当时原告准备与被告结婚要买房，肖菊梅借了3万元钱给肖某云买房； 5、公安机关对肖宪成所作的询问笔录1份，拟证明肖宪云是羊皮洞村的村支书，被告的户口从嫁入地牵回了洪江市塘湾乡羊皮洞村，听说原告与被告因买房，有感情纠葛； 6、公安机关对张湘成所作的询问笔录1份，拟证明原、被告于2002年左右在怀化市鹤城区三仙桥租了证人张湘成的房子； 7、迁户报告1份，拟证明原告的老家在洪江市群峰乡，原告想把被告的户口迁到原告老家洪江市群峰乡的情况； 8、原告杨某柏写的日记一本及原告赠送给被告的照片两张，拟证明原告与被告自2001年开始认识恋爱，双方有多年的感情纠葛的情况。 以上原、被告所提交的证据，经当庭举证、质证，被告对原告提交的证据发表如下质证意见：对1号证据无异议；对2号证据的真实性、合法性、关联性均有异议，认为被告是否参与传销应该以公安机关及法院的相关处理结果为依据，证人未出庭作证，且无身份证明证实证人身份，证人出具的证明不能作为认定事实的依据，证言与本案无关联性；对3号证据有异议，被告未骗取原告的钱，真实情况是原告还被告的钱，因双方有多年恋爱同居关系，长期有经济上的往来；对4号证据有异议，该证据是原告的个人陈述，不属于证据，公安机关不予立案，恰恰证明了被告并没有骗取原告的钱；对5号证据有异议，不能证明原告的证明目的，反而进一步说明了被告并没有向原告诈骗的事实；对6号证据有异议，该证据是原告女儿杨某琳的个人陈述，不具备真实性，不能作为认定案件事实的依据，且无其他证据予以佐证；对7号证据有异议，杨某琳的陈述自相矛盾，证人未出庭作证且无身份证明，与本案无关联性，对所有的证人证言都不予认可；对8号证据有异议，发票均系原告去公安机关控告被告花费的车费，与本案无关联性；对9号证据的真实性、关联性均有异议，证据超过举证期限提交，且没有加盖房管局公章，该房是原告买进后再卖出的；对10号证据有异议，该笔录是原告与前妻起诉离婚时，原告为证明自己与被告无婚外情关系，对婚姻无过错，指使证人出具的证言，目的就是想在离婚时对自己分割财产有利；对11号证据的真实性有异议，真实的信件在公安局，该份信件是原告自己后来写的。 原告对被告提交的证据发表如下质证意见：对1号证据的真实性没有异议，对证明目的不予认可；对2号证据有异议，杨某琳是怕公安机关知道其在传销组织加入的时间太长而找麻烦，才把时间讲短的；对3、4、6号证据的真实性有异议；对5号证据中迁户口的事实没有异议，对证人听说的情况有异议；对7号证据有异议，原告并不知情；对8号证据的真实性没异议，但对证明目的有异议，这是原告阅读报刊、杂志后摘抄下来的短文片段，照片不是原告送给被告的，是被告自己取走的。 经开庭审理，本院审核，对原告提交的证据做如下认证：1号证据，系有关机关出具的有效身份资料且双方均无异议，本院予以确认；2号证据未提供证人身份信息，证人无正当理由未出庭作证，且该证据拟证明被告存在传销违法犯罪事实又经原告举报控告后，有关机关未予确认，故该证据本院不予采信；3号证据，系银行出具的存、汇款回单，被告对收到该款亦予以认可，本院对该证据证明的原告打款、被告收款这一事实予以确认；4、6号证据，对原告向有关机关控告被告犯诈骗罪的情况，被告答辩中亦认可，本院予以确认；5号证据，系公安机关出具的生效法律文书，本院予以确认；7号证据证人无正当理由未出庭作证，拟证明被告存在传销违法犯罪事实经原告举报控告后，有关机关又未予确认，故该证据本院不予采信；8、9号证据无法查明证据与原告拟证明事实的关联性，本院不予采信；10号证据被告提出异议，原告无其他证据相佐证，本院不予采信；11号证据原告称系自己重新书写的手抄件，不符合证据的法定形式，被告提出异议，又无当时的原件相核对，对该证据本院不予采信。 对被告提交的证据做如下认证：1、8号证据，原告对其真实性无异议，本院对该两份证据的真实性予以确认；2-6号证据均系公安机关的询问笔录，对能够相互佐证，证明本案相关事实的部分，本院予以采信，其余部分不予采信；7号证据，原告对其中迁户口的内容没有异议，对该部分内容，本院予以确认。 本院根据确认的证据及庭审调查核实的情况，查明以下案件事实：原告于2008年4月23日、7月18日分别向被告账户汇款20000元、500元，汇款时原告之女杨某琳和被告一同在外。后原告以被告存在传销及诈骗违法犯罪事实为由向洪江市公安局举报控告，洪江市公安局决定不予立案，原告不服向洪江市公安局申请复议，2011年9月13日洪江市公安局作出洪公复字［2011］A001号复议决定书认为“杨某柏控告肖某云诈骗一案，没有证据证明存在犯罪事实，根据《中华人民共和国刑事诉讼法》第八十六条之规定，决定不予立案”。原告仍不服，多次向公安、检察等机关反映要求洪江市公安局对被告进行立案查处，并追究被告刑事责任，但未果。为此，原告诉诸本院以被告采取种种欺骗手段将其小孩诱骗至传销组织中进行拘禁，又利用原告小孩的名义两次骗取不义之财20500元为由，请求法院判令被告返还非法所得，即要求被告返还原告现金20500元及经济损失14350元（利息）、汇款手续费50元、车旅费583元，合计35483元。 另查明：原、被告曾有多年恋爱关系，均陈述对方曾向自己借款。原告向本院提交的《报案后公安机关不予立案以及我多次进行申诉的有关情况说明》（即原告提交的第4号证据）中称“万般无奈下，我只好放弃原来的刑事主张改为民事诉讼”，本案审理过程中，经释明原告选择主张不当得利法律关系。 本院认为，原告自主选择不当得利法律关系，向被告主张不当得利之债，本案应定性为不当得利纠纷。本案原告诉称之所以打款给被告是基于其女儿与被告一起做服装生意需要资金，在与女儿联系不上的情况下才给被告账号打款的，也就是说，原告对被告给付该款是欲通过被告账户将该款转交女儿并共同做生意，即当时的给付行为存在合同上和法律上的原因，该给付行为自主、主动且目的明确。后原告认为被告系从事传销而诈骗向公安等机关进行检举控告，但公安机关以没有证据证明被告存在犯罪事实不予立案，即被告取得该款的行为并未被依法认定为违法犯罪。原告在刑事控告未达目的的情况下选择主张不当得利之债，根据《中华人民共和国民法通则》第九十二条“没有合法根据，取得不当利益，造成他人损失的，应当将取得的不当利益返还受损失的人”的规定，不当得利是指没有合法根据而获得利益并使他人利益受损失的事实，其构成要件为：没有合法根据；一方受损；他方受益；一方受损与他方受益存在因果关系。所谓没有合法根据是指当事人取得利益并继续保有利益欠缺正当性或法律根据。根据原告的主张，被告不当得利是因其欺诈所致，但原告现有证据不足以证明被告取得该利益的原因属违法犯罪而无效，在法定期限内原告又未依法行使撤销权，原告诉称的给付原因的合法性并未被否定。另，原、被告曾存在恋爱关系，双方均称对方曾向自己借款，双方有经济上的往来，而该款系原告主动给付，给付数额、给付对象明确、具体，在给付时原告所称的给付基础行为亦明确，原告在控告被告违法犯罪未果的情况下主张被告收取该款不具有合法根据或事后丧失合法性并非单纯的消极事实，原告作为自己财产权转移、变动的控制者，应当有义务、有能力对被告就该利益的取得和是否有权保有承担举证责任，现原告未提供充分证据证明被告取得该款没有合法根据或者事后丧失合法性，欠缺不当得利的法定构成要件，不足以认定被告接受和取得原告的给付构成不当得利，其应承担举证不能的不利后果。 同时，原告诉讼中始终认为被告存在传销和诈骗的犯罪事实，并曾长时间向公安等机关检举控告，要求追究被告的刑事责任，后其在“万般无奈下，我只好放弃原来的刑事主张而改为民事诉讼”而选择民事诉讼途径主张“请求法院判令被告返还非法所得”的，而不当得利是一项基于法律规定而独立的法律制度，有着严格的构成要件和适用范围，其不应成为当事人在其他法律关系中因缺少证据或非被告原因不达目的时的请求权基础，且本案中原告坚持认为被告存在犯罪事实并在未依法丧失救济途径的情况下主张不当得利，背离不当得利制度的固有功能和立法本意，依法应不予支持。 综上所述，原告主张被告不当得利证据不足，且主张与法不符，故对原告要求被告返还现金20500元并赔偿利息损失14350元、汇款手续费50元、车旅费583元，共计35483元及要求被告承担出庭证人车旅费的诉讼请求本院不予支持。据此，依照《中华人民共和国民法通则》第九十二条、《中华人民共和国民事诉讼法》第六十四条第一款、《最高人民法院关于适用〈中华人民共和国民事诉讼法〉的解释》第九十条之规定，判决如下： 驳回原告杨某柏的诉讼请求。 本案案件受理费687元，由原告杨某柏负担。 如不服本判决，可在本判决书送达之日起15日内向本院递交上诉状，并按对方当事人的人数提出副本，上诉于湖南省怀化市中级人民法院。 审判长段柳媛 人民陪审员张师清 人民陪审员易彦芸 二〇一五年五月二十九日 书记员杨彬彬 附法律条文： 1、《中华人民共和国民法通则》 第九十二条没有合法根据，取得不当利益，造成他人损失的，应当将取得的不当利益返还受损失的人。 2、《中华人民共和国民事诉讼法》 第六十四条当事人对自己提出的主张，有责任提供证据。 当事人及其诉讼代理人因客观原因不能自行收集的证据，或者人民法院认为审理案件需要的证据，人民法院应当调查收集。 人民法院应当按照法定程序，全面地、客观地审查核实证据。 3、《最高人民法院关于适用〈中华人民共和国民事诉讼法〉的解释》 第九十条当事人对自己提出的诉讼请求所依据的事实或者反驳对方诉讼请求所依据的事实，应当提供证据加以证明，但法律另有规定的除外。 在作出判决前，当事人未能提供证据或者证据不足以证明其事实主张的，由负有举证证明责任的当事人承担不利的后果。 ', '法条': ['《中华人民共和国民事诉讼法》第六十四条第一款', '《中华人民共和国民法通则》第九十二条', '《最高人民法院关于适用〈中华人民共和国民事诉讼法〉的解释》第九十条'], '案例属性': {'案件类别': '民事案件', '文书种类': '判决书', '经办法院': '湖南省洪江市人民法院', '法官成员': ['段柳媛', '张师清', '易彦芸', '杨彬彬', '段柳媛'], '案由': '不当得利纠纷'}, 'vec': [0.2601893813208472, -0.2809550760998294, -0.01950470782548469, -0.010272138881892188, -0.42730374077535926, 0.374278782999459, -0.3635502776276539, -0.1478449749758248, 0.22815050455359986, 0.4635155841629635, -0.19297915615933398, 0.15485428489293743, 0.06093956348994894, 0.02727176237906185, -0.16222398879070873, -0.09366195507921726, -0.05830453342266406, -0.18531057419919994, -0.20630627019707662, 0.19535313875400026, 0.04123024607610422, -0.17703208308786653, -0.05711703140629228, -0.1877476019249883, -0.15015079146423257, 0.04279524726769426, 0.18395883411432604, 0.19107732504462543, -0.037982475318248846, -0.16298196030766296, 0.06352504660947533, -0.14861044414371158, 0.07069918660249168, -0.28505742222298797, 0.04338188128120056, 0.1613153039363003, -0.010945765423627166, 0.2149687642000082, -0.023575640722185407, -0.2580099407596529, -0.054454201542177165, -0.09730256454144004, -0.05290969053965621, -0.17494192847260376, 0.03628412500776434, 0.3210883578698289, -0.11098669735785999, 0.18305644820350433, 0.34237412336361656, -0.16821323576446987, -0.21229917310829732, -0.19330143310316897, -0.40403969204839324, -0.12188799764206878, -0.31618618781765256, -0.1591448912330506, 0.21290717339320958, 0.4345053670526815, -0.07076061507963803, -0.5256922024938221, 0.22400567365447413, -0.11841531534836049, 0.33004877139475575, -0.09980100298008025, 0.09656314501280497, -0.022189806186797303, 0.2281119489557087, -0.16702586807300848, 0.1643937350639413, 0.18752376028922768, 0.10011710549546116, 0.07748066010805492, 0.04446935478045118, -0.12422833111333072, -0.08093325532364291, 0.31219854825475635, 0.012363365541201907, -0.15842918308862292, -0.17588036313037775, 0.08259458683769717, 0.2968043092254067, 0.11912287274385011, -0.37093296716782126, -0.0030326731423814743, -0.2194492815085698, -0.055815106887453225, -0.1327715077076342, -0.21726114535884308, -0.21115336811181293, -0.19115777209751333, -0.2092266804768797, 0.008449967994231217, -0.06669035572677363, 0.14038428306386483, -0.18142962982725774, 0.048003255898954864, 0.031615167900695074, 0.20767009188871202, 0.12706656542794842, -0.08969624652371415]}, 'highlight': {'法条': ['《<em>中华人民共和国</em><em>民事诉讼法</em>》<em>第六十</em><em>四条</em><em>第一款</em>', '《<em>中华人民共和国</em><em>民法通则</em>》<em>第九十</em><em>二条</em>', '《最高人民法院关于适用〈<em>中华人民共和国</em><em>民事诉讼法</em>〉的解释》<em>第九十</em>条']}}, {'_index': 'new-case-data', '_id': '16538', '_score': 11.213238, '_ignored': ['自定义_裁判文书_证据段.keyword', '自定义_裁判文书_查明事实段.keyword', '自定义_裁判文书_裁判分析过程.keyword', '全文.裁判分析过程.keyword', '自定义_裁判文书_被告辩称段.keyword', '自定义_裁判文书_全文.keyword', '全文.案件基本情况.keyword', '自定义_裁判文书_原告诉称段.keyword'], '_source': {'全文': {'文首': {'文书制作单位': '法院', '法院文书种类': '裁判文书', '经办法院': '苏州市姑苏区人民法院', '文书名称': '民事判决书', '案号': '（2014）姑苏民一初字第00767号', '案件类别': '民事案件', '文书种类': '判决书', '审判程序': '一审案件', '案件类型': '民事一审案件'}, '当事人': '原告周淑敏。 委托代理人陈黎，江苏正欣律师事务所律师。 委托代理人程超，江苏正欣律师事务所律师。 被告赵歌。 委托代理人刘晓炯，江苏颐华律师事务所律师。 委托代理人陈晓。', '诉讼记录': ' 原告周淑敏诉被告赵歌不当得利纠纷一案，本院于2014年6月25日立案受理后，依法由代理审判员耿杰圣适用简易程序，于2014年7月31日公开开庭进行了审理。后因案情复杂依法组成合议庭，由审判员吴倩担任审判长，代理审判员耿杰圣主审、人民陪审员黄俭参加合议，于2014年11月28日公开开庭进行了审理。原告周淑敏、被告赵歌的委托代理人刘晓炯到庭参加了二次庭审，原告周淑敏的委托代理人陈黎、被告赵歌到庭参加了第一次庭审，原告周淑敏的委托代理人程超到庭参加了第二次庭审。本案现已审理终结。', '案件基本情况': ' 原告周淑敏诉称：2011年年初，案外人刘XX对原告说，苏州市吴中区金联农村小额贷款有限公司（以下简称“金联公司”）有意投资淑贝诺音乐坊并成立公司，为此金联公司需要在淑贝诺音乐坊的个体业主周淑敏的银行账户上过账50万元。2011年6月18日，金联公司与原告订立了最高额借款合同一份，同月23日，金联公司在原告的银行卡里存入50万元，随即金联公司的员工赵歌通过银行本票背书方式取走了该50万元。2011年12月22日，被告赵歌又存入原告银行账户50万元，该50万元转入至金联公司，后金联公司再次在原告的银行卡里存入50万元，被告又取走了该50万元。2012年12月25日，金联公司向苏州市吴中区人民法院起诉原告，请求法院判决原告归还金联公司与原告于2011年12月22日产生的借款50万元。赵歌在该案审理中陈述其在2011年6月23日从原告处取得的50万元中有部分款项系原告归还被告的借款，另一部分款项已全部转入至刘XX的银行账户内。后苏州市吴中区人民法院作出判决，判令原告归还金联公司借款50万元。现因原、被告之间不存在借贷关系，被告于2011年6月23日取得原告50万元属于不当得利，故请求法院依法判令被告返还原告不当得利50万元；诉讼费用由被告承担。 被告赵歌辩称：1、原、被告之间存在资金拆借关系。原告于2011年6月23日向被告支付的50万元，并非为了偿还金联公司的贷款，是为了偿还其向被告的借款28万元，扣除约定利息1680元，被告已将余额218320元退还原告指定的刘XX的银行账户，故被告不存在获取50万元不当得利的问题。2、当时原告向被告借款时，其与刘XX一直以夫妻身份出面，且原告当时与他人存在债权债务诉讼纠纷，故原告指示我将该28万元借款支付至刘XX的银行账户内。3、退一步讲，如存在不当得利之说，因原告主张权利的时间为2014年5月4日，其主张的时间已超出了二年的法定诉讼时效期间。综上，请求法院驳回原告的全部诉讼请求。 经审理查明：2008年5月29日，案外人刘XX从中国银行股份有限公司苏州相城支行借款307000元，用于支付购买坐落于苏州市相城区XX花园XX幢XXX室房屋的房款，其中借款期限为20年分240期按月偿还本息，还款账号48×××84为指定扣款账号。分别拥有该处房屋99％份额和1％份额的产权人周淑敏和刘XX以该房屋的产权为上述借款提供抵押担保，并于当日在苏州市相城区房管部门办理了他项权登记手续，设定抵押期间为2008年5月29日至2028年5月29日。 2011年6月18日，原告周淑敏与金联公司签订最高额借款合同一份，约定金联公司向原告周淑敏提供最高贷款余额不超过60万元的贷款，期限为2011年6月20日至2013年6月20日止。同日，原告周淑敏、案外人刘XX与金联公司签订最高额抵押合同，约定周淑敏与刘XX将二人按份共有的前述房屋及土地使用权为周淑敏的上述最高额借款合同中的借款提供抵押担保，抵押物作价金额为744800元，抵押权利价值为60万元。 2011年6月20日，原告作为债务人与被告作为债权人签订（2011）第（0620）号借款合同一份，约定被告出借原告借款28万元，利率为0.15％／天，借款期限为2011年6月20日至2011年6月23日，借款用途仅限于用于原告个人流动资金周转。该份合同内容共二页并记载在一张纸的正反两面上。同日，刘XX与被告签订（2011）第（0620）号保证合同一份，约定刘XX为原告的上述28万元借款向被告提供连带责任保证。当日，原告与刘XX向被告出具名为“家庭财产承担连带清偿责任承诺书”一份，载明：因周淑敏（借款人）向赵歌借款人民币贰拾捌万元整，期限至2011年6月23日，借款合同编号为（2011）第（0620）号，为保障赵歌（债权人）利益，现我们夫妻愿以家庭财产（包括个人所有、夫妻共有、家庭共有财产）对该笔借款承担连带担保保证责任。后被告于同日向开户行中国银行、户名为刘XX、银行账号为54×××69的银行账户内转账28万元，上述账户收到该28万元后当即向刘XX的还贷账号48×××84转账276703.3元，自此刘XX向中国银行股份有限公司苏州相城支行的借款307000元的本息全部归还完毕，后刘XX与原告于当日前往苏州市相城区房管部门为苏州市相城区XX花园XX幢XXX室房屋办理了相应的抵押注销登记手续，同时又为上述房屋办理了抵押权人为金联公司、抵押金额为60万元、抵押期限为2011年6月20日至2013年6月20日、他项权证号为苏房相城他字第XXX号的他项权登记手续。 2011年6月23日，周淑敏向金联公司出具借款借据载明贷款金额为50万元、月利率为1.7％，到期日期为2011年12月22日。金联公司当日通过浦东发展银行向周淑敏支付50万元，周淑敏同日将该50万元通过浦东发展银行背书给付给赵歌。赵歌的账号为62×××68的中国工商银行账户于当日15时17分47秒收到上述50万元，后赵歌通过该账户于同日15时22分40秒向户名为刘XX、账号为62×××20的银行账户转账218320元。 另查明，赵歌于2011年12月22日通过银行转账给付周淑敏50万元，周淑敏于同日归还金联公司50万元。上述借款归还后，周淑敏当日再次向金联公司借款50万元，到期日期为2012年6月21日，金联公司同日通过银行再次向周淑敏支付50万元，周淑敏收到该款项后通过银行转账给付赵歌50万元。 又查明，苏州市吴中区人民法院于2012年12月25日受理了金联公司诉周淑敏、苏州XX机电设备有限公司、刘XX借款合同纠纷一案，刘XX以朋友身份代理周淑敏参加了该案诉讼，其中金联公司诉称其与周淑敏在2011年6月18日签订了前述的《最高额借款合同》后，于2011年12月22日向周淑敏发放贷款50万元，借款期限为2011年12月22日至2012年6月21日，因该贷款已到期，故请求法院依法判令周淑敏归还50万元借款本金及相应利息等。周淑敏在该案中辩称，其共向金联公司分两次各借款50万元，第一次50万元的借款时间为2011年6月23日，同日通过金联公司的员工赵歌已全部归还；第二次50万元的借款时间为2011年12月22日，同日也全部归还了金联公司。2013年6月20日，该法院作出（2013）吴度商初字第0003号民事判决书，判令周淑敏归还金联公司于2011年12月22日向其发放的贷款50万元及相应利息等。后周淑敏就该案向苏州市中级人民法院申请再审，苏州市中级人民法院于2014年3月17日作出（2013）苏中商申字第029号民事裁定书，裁定驳回周淑敏的再审申请。 再查明，赵歌系金联公司的客户经理，其否认原告于2011年6月23日以银行本票方式向其支付的50万元是为了偿还金联公司同日向原告发放的贷款，金联公司对其陈述亦不持异议。 庭审中，原告陈述：1、原告与刘XX原系男女朋友关系。2、2011年6月18日，原告与刘XX一起前往金联公司办理最高额借款和最高额抵押等相关事务，金联公司的员工钱XX让我在多份相关材料的最后落款处签了字，我仅去过金联公司这一次。3、2011年6月23日，原告与刘XX一起前往苏州市相城区房管部门为二人共有的苏州市相城区XX花园XX幢XXX室房屋办理抵押金额为307000元的他项权证注销手续和抵押金额为60万元的他项权证登记手续，当时刘XX给我讲，上述房屋的307000元贷款全部还清后才能进行下一步事项，所以我才在相关房屋的办理材料上签了字。4、2011年6月23日，我先在浦东发展银行开立了一个银行账户，金联公司于当日向该账户内转账50万元，我遂以银行本票形式在银行向被告支付50万元，当时被告陪我一同在银行办理了相关转账手续，我还在银行的取款机处查询了我的银行卡中已划走了50万元，被告亦确认收到该50万元后，我们二人就一起离开银行了。5、2010年左右，我作为被告在苏州工业园区人民法院有一个涉诉案件，最后法院判决我支付该案的原告2万元，后我不服该案的一审判决上诉至苏州市中级人民法院，该中级人民法院于2011年5月31日作出终审判决，判决驳回上诉，维持原判。基于上述情况，当时我的银行卡里没有放钱。 上述事实，有原告提供的（2013）吴度商初字第0003号民事起诉状、询问笔录、民事判决书，（2013）苏中商申字第029号民事裁定书，最高额借款合同、最高额抵押合同、借款借据、银行进账单、银行对账单、本票申请书、银行业务回单、银行现金存款凭证、银行个人业务凭证，被告提供借款合同、保证合同、家庭财产承担连带清偿责任承诺书、银行历史交易明细清单、个人一手住房贷款合同、个人贷款抵押合同、个人业务交易单、还款通知书、贷款还款凭证、情况说明、最高额借款合同、最高额抵押合同、房屋登记申请书及当事人的陈述等证据在案证实。 ', '裁判分析过程': '本院认为，向人民法院请求保护民事权利的诉讼时效期间为二年，法律另有规定的除外；诉讼时效期间从知道或者应当知道权利被侵害时起计算。苏州市吴中区人民法院于2013年6月20日作出案号为（2013）吴度商初字第0003号的民事判决书，其中明确原告于2011年6月23日支付被告的50万元并不是用于归还金联公司的50万元借款，原告自此才知道自己的权利被侵害，诉讼时效应当自上述判决生效之日起计算，故其在本案中主张不当得利返还请求权的诉讼时效并未超过二年的法定诉讼时效期间。 所谓不当得利，是指没有合法根据取得利益而使他人损失的法律事实。得利人取得利益没有合法根据是不当得利构成的实质性条件。本案中，原告以银行本票方式向被告支付50万元，原告述称被告系金联公司的员工，给付原因是为了归还当日金联公司向其发放的50万元贷款，因金联公司和被告均否认被告收取该款项系履行职务行为，故认为被告取得该款项没有法律根据，应当予以返还；但被告对该款项的给付原因另作解释，称原、被告之间存在民间借贷基础法律关系，原告向被告借款28万元用于归还原告与刘XX二人共有的前述房屋的前期贷款，后原告向金联公司借款50万元并于当日全额支付给被告归还28万元借款，被告扣除约定利息1680元，余额218320元已退还原告指定的刘XX的银行账户内，综上，原、被告对给付款项有无合法根据各执一词。本院认为，原告、刘XX二人先与金联公司签订最高额抵押合同并约定将二人共有的前述房屋为原告的60万元最高额借款提供抵押担保，后原告为了注销该房屋前期贷款的他项权证并办理前述抵押担保的登记手续，与被告签订借款合同约定由被告出借28万元借款给原告，尽管被告将合同约定的28万元转账至刘XX的银行账户内，但是基于原告与刘XX原系男女朋友关系并共同前往被告处办理了相关的借款和保证手续、二人按份共有前述房屋并同时以夫妻名义向被告出具家庭财产承担连带清偿责任承诺书、原告在借款当时也有其他作为被告的涉诉纠纷，借款转账至刘XX银行账户内的该28万元中的276703.3元实际偿还了前述房屋的全部前期贷款，后二人又共同前往房产部门办理了前期贷款的他项权证注销手续和涉案最高额抵押合同中约定的权利价值为60万元、抵押权人为金联公司的抵押权登记手续等等一系列事实，可以认定原告是通过刘XX的银行账户来收取该28万元借款的，被告依约向原告履行了交付借款的义务。之后被告收到原告以银行本票形式转账的50万元，其扣除了28万元借款本金和约定利息，应视为原告依约履行了相应还款义务，同时被告将余额218320元转账至刘XX银行账户内，也应视为将余额直接返还了原告，被告并未获取其他款项，如原告认为自己的合法权益受到了损害，可另案起诉刘XX。综上，原、被告之间发生的50万元的给付原因是基于双方之间存在一定民间借贷基础法律关系的，并非没有合法根据。当事人应当根据该款项流转的真实原因，即双方间的基础法律关系来主张权利，原告的主张不符合不当得利的法律构成要件，故对于原告基于不当得利请求权要求被告返还50万元的诉讼请求，本院不予支持。据此，根据《中华人民共和国民法通则》第九十二条、《中华人民共和国民事诉讼法》第六十四条第一款、最高人民法院《关于民事诉讼证据的若干规定》第二条之规定，判决如下：', '判决结果': ' 驳回原告周淑敏的全部诉讼请求。 案件受理费8800元，由原告周淑敏负担。 如不服本判决，可在判决书送达之日起十五日内，向本院递交上诉状，并按对方当事人人数提出副本，上诉于江苏省苏州市中级人民法院，同时向该院（开户行：农业银行苏州工业园区支行营业部，账号：10×××99）预交上诉案件受理费。', '文尾': ' 审判长吴倩 代理审判员耿杰圣 人民陪审员黄俭 二〇一四年十二月十七日 书记员郭婷婷 ', '立案日期': '2014年6月25日', '文书是否模糊': '否'}, '自定义_裁判文书_裁判分析过程': '本院认为，向人民法院请求保护民事权利的诉讼时效期间为二年，法律另有规定的除外；诉讼时效期间从知道或者应当知道权利被侵害时起计算。苏州市吴中区人民法院于2013年6月20日作出案号为（2013）吴度商初字第0003号的民事判决书，其中明确原告于2011年6月23日支付被告的50万元并不是用于归还金联公司的50万元借款，原告自此才知道自己的权利被侵害，诉讼时效应当自上述判决生效之日起计算，故其在本案中主张不当得利返还请求权的诉讼时效并未超过二年的法定诉讼时效期间。 所谓不当得利，是指没有合法根据取得利益而使他人损失的法律事实。得利人取得利益没有合法根据是不当得利构成的实质性条件。本案中，原告以银行本票方式向被告支付50万元，原告述称被告系金联公司的员工，给付原因是为了归还当日金联公司向其发放的50万元贷款，因金联公司和被告均否认被告收取该款项系履行职务行为，故认为被告取得该款项没有法律根据，应当予以返还；但被告对该款项的给付原因另作解释，称原、被告之间存在民间借贷基础法律关系，原告向被告借款28万元用于归还原告与刘XX二人共有的前述房屋的前期贷款，后原告向金联公司借款50万元并于当日全额支付给被告归还28万元借款，被告扣除约定利息1680元，余额218320元已退还原告指定的刘XX的银行账户内，综上，原、被告对给付款项有无合法根据各执一词。本院认为，原告、刘XX二人先与金联公司签订最高额抵押合同并约定将二人共有的前述房屋为原告的60万元最高额借款提供抵押担保，后原告为了注销该房屋前期贷款的他项权证并办理前述抵押担保的登记手续，与被告签订借款合同约定由被告出借28万元借款给原告，尽管被告将合同约定的28万元转账至刘XX的银行账户内，但是基于原告与刘XX原系男女朋友关系并共同前往被告处办理了相关的借款和保证手续、二人按份共有前述房屋并同时以夫妻名义向被告出具家庭财产承担连带清偿责任承诺书、原告在借款当时也有其他作为被告的涉诉纠纷，借款转账至刘XX银行账户内的该28万元中的276703.3元实际偿还了前述房屋的全部前期贷款，后二人又共同前往房产部门办理了前期贷款的他项权证注销手续和涉案最高额抵押合同中约定的权利价值为60万元、抵押权人为金联公司的抵押权登记手续等等一系列事实，可以认定原告是通过刘XX的银行账户来收取该28万元借款的，被告依约向原告履行了交付借款的义务。之后被告收到原告以银行本票形式转账的50万元，其扣除了28万元借款本金和约定利息，应视为原告依约履行了相应还款义务，同时被告将余额218320元转账至刘XX银行账户内，也应视为将余额直接返还了原告，被告并未获取其他款项，如原告认为自己的合法权益受到了损害，可另案起诉刘XX。综上，原、被告之间发生的50万元的给付原因是基于双方之间存在一定民间借贷基础法律关系的，并非没有合法根据。当事人应当根据该款项流转的真实原因，即双方间的基础法律关系来主张权利，原告的主张不符合不当得利的法律构成要件，故对于原告基于不当得利请求权要求被告返还50万元的诉讼请求，本院不予支持。据此，根据《中华人民共和国民法通则》第九十二条、《中华人民共和国民事诉讼法》第六十四条第一款、最高人民法院《关于民事诉讼证据的若干规定》第二条之规定，判决如下：', '自定义_裁判文书_原告诉称段': '原告周淑敏诉称：2011年年初，案外人刘XX对原告说，苏州市吴中区金联农村小额贷款有限公司（以下简称“金联公司”）有意投资淑贝诺音乐坊并成立公司，为此金联公司需要在淑贝诺音乐坊的个体业主周淑敏的银行账户上过账50万元。2011年6月18日，金联公司与原告订立了最高额借款合同一份，同月23日，金联公司在原告的银行卡里存入50万元，随即金联公司的员工赵歌通过银行本票背书方式取走了该50万元。2011年12月22日，被告赵歌又存入原告银行账户50万元，该50万元转入至金联公司，后金联公司再次在原告的银行卡里存入50万元，被告又取走了该50万元。2012年12月25日，金联公司向苏州市吴中区人民法院起诉原告，请求法院判决原告归还金联公司与原告于2011年12月22日产生的借款50万元。赵歌在该案审理中陈述其在2011年6月23日从原告处取得的50万元中有部分款项系原告归还被告的借款，另一部分款项已全部转入至刘XX的银行账户内。后苏州市吴中区人民法院作出判决，判令原告归还金联公司借款50万元。现因原、被告之间不存在借贷关系，被告于2011年6月23日取得原告50万元属于不当得利，故请求法院依法判令被告返还原告不当得利50万元；诉讼费用由被告承担。', '自定义_裁判文书_被告辩称段': '被告赵歌辩称：1、原、被告之间存在资金拆借关系。原告于2011年6月23日向被告支付的50万元，并非为了偿还金联公司的贷款，是为了偿还其向被告的借款28万元，扣除约定利息1680元，被告已将余额218320元退还原告指定的刘XX的银行账户，故被告不存在获取50万元不当得利的问题。2、当时原告向被告借款时，其与刘XX一直以夫妻身份出面，且原告当时与他人存在债权债务诉讼纠纷，故原告指示我将该28万元借款支付至刘XX的银行账户内。3、退一步讲，如存在不当得利之说，因原告主张权利的时间为2014年5月4日，其主张的时间已超出了二年的法定诉讼时效期间。综上，请求法院驳回原告的全部诉讼请求。', '自定义_裁判文书_证据段': '上述事实，有原告提供的（2013）吴度商初字第0003号民事起诉状、询问笔录、民事判决书，（2013）苏中商申字第029号民事裁定书，最高额借款合同、最高额抵押合同、借款借据、银行进账单、银行对账单、本票申请书、银行业务回单、银行现金存款凭证、银行个人业务凭证，被告提供借款合同、保证合同、家庭财产承担连带清偿责任承诺书、银行历史交易明细清单、个人一手住房贷款合同、个人贷款抵押合同、个人业务交易单、还款通知书、贷款还款凭证、情况说明、最高额借款合同、最高额抵押合同、房屋登记申请书及当事人的陈述等证据在案证实。 ', '自定义_裁判文书_查明事实段': '经审理查明：2008年5月29日，案外人刘XX从中国银行股份有限公司苏州相城支行借款307000元，用于支付购买坐落于苏州市相城区XX花园XX幢XXX室房屋的房款，其中借款期限为20年分240期按月偿还本息，还款账号48×××84为指定扣款账号。分别拥有该处房屋99％份额和1％份额的产权人周淑敏和刘XX以该房屋的产权为上述借款提供抵押担保，并于当日在苏州市相城区房管部门办理了他项权登记手续，设定抵押期间为2008年5月29日至2028年5月29日。 2011年6月18日，原告周淑敏与金联公司签订最高额借款合同一份，约定金联公司向原告周淑敏提供最高贷款余额不超过60万元的贷款，期限为2011年6月20日至2013年6月20日止。同日，原告周淑敏、案外人刘XX与金联公司签订最高额抵押合同，约定周淑敏与刘XX将二人按份共有的前述房屋及土地使用权为周淑敏的上述最高额借款合同中的借款提供抵押担保，抵押物作价金额为744800元，抵押权利价值为60万元。 2011年6月20日，原告作为债务人与被告作为债权人签订（2011）第（0620）号借款合同一份，约定被告出借原告借款28万元，利率为0.15％／天，借款期限为2011年6月20日至2011年6月23日，借款用途仅限于用于原告个人流动资金周转。该份合同内容共二页并记载在一张纸的正反两面上。同日，刘XX与被告签订（2011）第（0620）号保证合同一份，约定刘XX为原告的上述28万元借款向被告提供连带责任保证。当日，原告与刘XX向被告出具名为“家庭财产承担连带清偿责任承诺书”一份，载明：因周淑敏（借款人）向赵歌借款人民币贰拾捌万元整，期限至2011年6月23日，借款合同编号为（2011）第（0620）号，为保障赵歌（债权人）利益，现我们夫妻愿以家庭财产（包括个人所有、夫妻共有、家庭共有财产）对该笔借款承担连带担保保证责任。后被告于同日向开户行中国银行、户名为刘XX、银行账号为54×××69的银行账户内转账28万元，上述账户收到该28万元后当即向刘XX的还贷账号48×××84转账276703.3元，自此刘XX向中国银行股份有限公司苏州相城支行的借款307000元的本息全部归还完毕，后刘XX与原告于当日前往苏州市相城区房管部门为苏州市相城区XX花园XX幢XXX室房屋办理了相应的抵押注销登记手续，同时又为上述房屋办理了抵押权人为金联公司、抵押金额为60万元、抵押期限为2011年6月20日至2013年6月20日、他项权证号为苏房相城他字第XXX号的他项权登记手续。 2011年6月23日，周淑敏向金联公司出具借款借据载明贷款金额为50万元、月利率为1.7％，到期日期为2011年12月22日。金联公司当日通过浦东发展银行向周淑敏支付50万元，周淑敏同日将该50万元通过浦东发展银行背书给付给赵歌。赵歌的账号为62×××68的中国工商银行账户于当日15时17分47秒收到上述50万元，后赵歌通过该账户于同日15时22分40秒向户名为刘XX、账号为62×××20的银行账户转账218320元。 另查明，赵歌于2011年12月22日通过银行转账给付周淑敏50万元，周淑敏于同日归还金联公司50万元。上述借款归还后，周淑敏当日再次向金联公司借款50万元，到期日期为2012年6月21日，金联公司同日通过银行再次向周淑敏支付50万元，周淑敏收到该款项后通过银行转账给付赵歌50万元。 又查明，苏州市吴中区人民法院于2012年12月25日受理了金联公司诉周淑敏、苏州XX机电设备有限公司、刘XX借款合同纠纷一案，刘XX以朋友身份代理周淑敏参加了该案诉讼，其中金联公司诉称其与周淑敏在2011年6月18日签订了前述的《最高额借款合同》后，于2011年12月22日向周淑敏发放贷款50万元，借款期限为2011年12月22日至2012年6月21日，因该贷款已到期，故请求法院依法判令周淑敏归还50万元借款本金及相应利息等。周淑敏在该案中辩称，其共向金联公司分两次各借款50万元，第一次50万元的借款时间为2011年6月23日，同日通过金联公司的员工赵歌已全部归还；第二次50万元的借款时间为2011年12月22日，同日也全部归还了金联公司。2013年6月20日，该法院作出（2013）吴度商初字第0003号民事判决书，判令周淑敏归还金联公司于2011年12月22日向其发放的贷款50万元及相应利息等。后周淑敏就该案向苏州市中级人民法院申请再审，苏州市中级人民法院于2014年3月17日作出（2013）苏中商申字第029号民事裁定书，裁定驳回周淑敏的再审申请。 再查明，赵歌系金联公司的客户经理，其否认原告于2011年6月23日以银行本票方式向其支付的50万元是为了偿还金联公司同日向原告发放的贷款，金联公司对其陈述亦不持异议。 庭审中，原告陈述：1、原告与刘XX原系男女朋友关系。2、2011年6月18日，原告与刘XX一起前往金联公司办理最高额借款和最高额抵押等相关事务，金联公司的员工钱XX让我在多份相关材料的最后落款处签了字，我仅去过金联公司这一次。3、2011年6月23日，原告与刘XX一起前往苏州市相城区房管部门为二人共有的苏州市相城区XX花园XX幢XXX室房屋办理抵押金额为307000元的他项权证注销手续和抵押金额为60万元的他项权证登记手续，当时刘XX给我讲，上述房屋的307000元贷款全部还清后才能进行下一步事项，所以我才在相关房屋的办理材料上签了字。4、2011年6月23日，我先在浦东发展银行开立了一个银行账户，金联公司于当日向该账户内转账50万元，我遂以银行本票形式在银行向被告支付50万元，当时被告陪我一同在银行办理了相关转账手续，我还在银行的取款机处查询了我的银行卡中已划走了50万元，被告亦确认收到该50万元后，我们二人就一起离开银行了。5、2010年左右，我作为被告在苏州工业园区人民法院有一个涉诉案件，最后法院判决我支付该案的原告2万元，后我不服该案的一审判决上诉至苏州市中级人民法院，该中级人民法院于2011年5月31日作出终审判决，判决驳回上诉，维持原判。基于上述情况，当时我的银行卡里没有放钱。 ', '自定义_裁判文书_当事人': '原告周淑敏。 委托代理人陈黎，江苏正欣律师事务所律师。 委托代理人程超，江苏正欣律师事务所律师。 被告赵歌。 委托代理人刘晓炯，江苏颐华律师事务所律师。 委托代理人陈晓。', '自定义_裁判文书_判决结果': ' 驳回原告周淑敏的全部诉讼请求。 案件受理费8800元，由原告周淑敏负担。 如不服本判决，可在判决书送达之日起十五日内，向本院递交上诉状，并按对方当事人人数提出副本，上诉于江苏省苏州市中级人民法院，同时向该院（开户行：农业银行苏州工业园区支行营业部，账号：10×××99）预交上诉案件受理费。', '自定义_裁判文书_全文': '苏州市姑苏区人民法院 民事判决书 （2014）姑苏民一初字第00767号 原告周淑敏。 委托代理人陈黎，江苏正欣律师事务所律师。 委托代理人程超，江苏正欣律师事务所律师。 被告赵歌。 委托代理人刘晓炯，江苏颐华律师事务所律师。 委托代理人陈晓。 原告周淑敏诉被告赵歌不当得利纠纷一案，本院于2014年6月25日立案受理后，依法由代理审判员耿杰圣适用简易程序，于2014年7月31日公开开庭进行了审理。后因案情复杂依法组成合议庭，由审判员吴倩担任审判长，代理审判员耿杰圣主审、人民陪审员黄俭参加合议，于2014年11月28日公开开庭进行了审理。原告周淑敏、被告赵歌的委托代理人刘晓炯到庭参加了二次庭审，原告周淑敏的委托代理人陈黎、被告赵歌到庭参加了第一次庭审，原告周淑敏的委托代理人程超到庭参加了第二次庭审。本案现已审理终结。 原告周淑敏诉称：2011年年初，案外人刘XX对原告说，苏州市吴中区金联农村小额贷款有限公司（以下简称“金联公司”）有意投资淑贝诺音乐坊并成立公司，为此金联公司需要在淑贝诺音乐坊的个体业主周淑敏的银行账户上过账50万元。2011年6月18日，金联公司与原告订立了最高额借款合同一份，同月23日，金联公司在原告的银行卡里存入50万元，随即金联公司的员工赵歌通过银行本票背书方式取走了该50万元。2011年12月22日，被告赵歌又存入原告银行账户50万元，该50万元转入至金联公司，后金联公司再次在原告的银行卡里存入50万元，被告又取走了该50万元。2012年12月25日，金联公司向苏州市吴中区人民法院起诉原告，请求法院判决原告归还金联公司与原告于2011年12月22日产生的借款50万元。赵歌在该案审理中陈述其在2011年6月23日从原告处取得的50万元中有部分款项系原告归还被告的借款，另一部分款项已全部转入至刘XX的银行账户内。后苏州市吴中区人民法院作出判决，判令原告归还金联公司借款50万元。现因原、被告之间不存在借贷关系，被告于2011年6月23日取得原告50万元属于不当得利，故请求法院依法判令被告返还原告不当得利50万元；诉讼费用由被告承担。 被告赵歌辩称：1、原、被告之间存在资金拆借关系。原告于2011年6月23日向被告支付的50万元，并非为了偿还金联公司的贷款，是为了偿还其向被告的借款28万元，扣除约定利息1680元，被告已将余额218320元退还原告指定的刘XX的银行账户，故被告不存在获取50万元不当得利的问题。2、当时原告向被告借款时，其与刘XX一直以夫妻身份出面，且原告当时与他人存在债权债务诉讼纠纷，故原告指示我将该28万元借款支付至刘XX的银行账户内。3、退一步讲，如存在不当得利之说，因原告主张权利的时间为2014年5月4日，其主张的时间已超出了二年的法定诉讼时效期间。综上，请求法院驳回原告的全部诉讼请求。 经审理查明：2008年5月29日，案外人刘XX从中国银行股份有限公司苏州相城支行借款307000元，用于支付购买坐落于苏州市相城区XX花园XX幢XXX室房屋的房款，其中借款期限为20年分240期按月偿还本息，还款账号48×××84为指定扣款账号。分别拥有该处房屋99％份额和1％份额的产权人周淑敏和刘XX以该房屋的产权为上述借款提供抵押担保，并于当日在苏州市相城区房管部门办理了他项权登记手续，设定抵押期间为2008年5月29日至2028年5月29日。 2011年6月18日，原告周淑敏与金联公司签订最高额借款合同一份，约定金联公司向原告周淑敏提供最高贷款余额不超过60万元的贷款，期限为2011年6月20日至2013年6月20日止。同日，原告周淑敏、案外人刘XX与金联公司签订最高额抵押合同，约定周淑敏与刘XX将二人按份共有的前述房屋及土地使用权为周淑敏的上述最高额借款合同中的借款提供抵押担保，抵押物作价金额为744800元，抵押权利价值为60万元。 2011年6月20日，原告作为债务人与被告作为债权人签订（2011）第（0620）号借款合同一份，约定被告出借原告借款28万元，利率为0.15％／天，借款期限为2011年6月20日至2011年6月23日，借款用途仅限于用于原告个人流动资金周转。该份合同内容共二页并记载在一张纸的正反两面上。同日，刘XX与被告签订（2011）第（0620）号保证合同一份，约定刘XX为原告的上述28万元借款向被告提供连带责任保证。当日，原告与刘XX向被告出具名为“家庭财产承担连带清偿责任承诺书”一份，载明：因周淑敏（借款人）向赵歌借款人民币贰拾捌万元整，期限至2011年6月23日，借款合同编号为（2011）第（0620）号，为保障赵歌（债权人）利益，现我们夫妻愿以家庭财产（包括个人所有、夫妻共有、家庭共有财产）对该笔借款承担连带担保保证责任。后被告于同日向开户行中国银行、户名为刘XX、银行账号为54×××69的银行账户内转账28万元，上述账户收到该28万元后当即向刘XX的还贷账号48×××84转账276703.3元，自此刘XX向中国银行股份有限公司苏州相城支行的借款307000元的本息全部归还完毕，后刘XX与原告于当日前往苏州市相城区房管部门为苏州市相城区XX花园XX幢XXX室房屋办理了相应的抵押注销登记手续，同时又为上述房屋办理了抵押权人为金联公司、抵押金额为60万元、抵押期限为2011年6月20日至2013年6月20日、他项权证号为苏房相城他字第XXX号的他项权登记手续。 2011年6月23日，周淑敏向金联公司出具借款借据载明贷款金额为50万元、月利率为1.7％，到期日期为2011年12月22日。金联公司当日通过浦东发展银行向周淑敏支付50万元，周淑敏同日将该50万元通过浦东发展银行背书给付给赵歌。赵歌的账号为62×××68的中国工商银行账户于当日15时17分47秒收到上述50万元，后赵歌通过该账户于同日15时22分40秒向户名为刘XX、账号为62×××20的银行账户转账218320元。 另查明，赵歌于2011年12月22日通过银行转账给付周淑敏50万元，周淑敏于同日归还金联公司50万元。上述借款归还后，周淑敏当日再次向金联公司借款50万元，到期日期为2012年6月21日，金联公司同日通过银行再次向周淑敏支付50万元，周淑敏收到该款项后通过银行转账给付赵歌50万元。 又查明，苏州市吴中区人民法院于2012年12月25日受理了金联公司诉周淑敏、苏州XX机电设备有限公司、刘XX借款合同纠纷一案，刘XX以朋友身份代理周淑敏参加了该案诉讼，其中金联公司诉称其与周淑敏在2011年6月18日签订了前述的《最高额借款合同》后，于2011年12月22日向周淑敏发放贷款50万元，借款期限为2011年12月22日至2012年6月21日，因该贷款已到期，故请求法院依法判令周淑敏归还50万元借款本金及相应利息等。周淑敏在该案中辩称，其共向金联公司分两次各借款50万元，第一次50万元的借款时间为2011年6月23日，同日通过金联公司的员工赵歌已全部归还；第二次50万元的借款时间为2011年12月22日，同日也全部归还了金联公司。2013年6月20日，该法院作出（2013）吴度商初字第0003号民事判决书，判令周淑敏归还金联公司于2011年12月22日向其发放的贷款50万元及相应利息等。后周淑敏就该案向苏州市中级人民法院申请再审，苏州市中级人民法院于2014年3月17日作出（2013）苏中商申字第029号民事裁定书，裁定驳回周淑敏的再审申请。 再查明，赵歌系金联公司的客户经理，其否认原告于2011年6月23日以银行本票方式向其支付的50万元是为了偿还金联公司同日向原告发放的贷款，金联公司对其陈述亦不持异议。 庭审中，原告陈述：1、原告与刘XX原系男女朋友关系。2、2011年6月18日，原告与刘XX一起前往金联公司办理最高额借款和最高额抵押等相关事务，金联公司的员工钱XX让我在多份相关材料的最后落款处签了字，我仅去过金联公司这一次。3、2011年6月23日，原告与刘XX一起前往苏州市相城区房管部门为二人共有的苏州市相城区XX花园XX幢XXX室房屋办理抵押金额为307000元的他项权证注销手续和抵押金额为60万元的他项权证登记手续，当时刘XX给我讲，上述房屋的307000元贷款全部还清后才能进行下一步事项，所以我才在相关房屋的办理材料上签了字。4、2011年6月23日，我先在浦东发展银行开立了一个银行账户，金联公司于当日向该账户内转账50万元，我遂以银行本票形式在银行向被告支付50万元，当时被告陪我一同在银行办理了相关转账手续，我还在银行的取款机处查询了我的银行卡中已划走了50万元，被告亦确认收到该50万元后，我们二人就一起离开银行了。5、2010年左右，我作为被告在苏州工业园区人民法院有一个涉诉案件，最后法院判决我支付该案的原告2万元，后我不服该案的一审判决上诉至苏州市中级人民法院，该中级人民法院于2011年5月31日作出终审判决，判决驳回上诉，维持原判。基于上述情况，当时我的银行卡里没有放钱。 上述事实，有原告提供的（2013）吴度商初字第0003号民事起诉状、询问笔录、民事判决书，（2013）苏中商申字第029号民事裁定书，最高额借款合同、最高额抵押合同、借款借据、银行进账单、银行对账单、本票申请书、银行业务回单、银行现金存款凭证、银行个人业务凭证，被告提供借款合同、保证合同、家庭财产承担连带清偿责任承诺书、银行历史交易明细清单、个人一手住房贷款合同、个人贷款抵押合同、个人业务交易单、还款通知书、贷款还款凭证、情况说明、最高额借款合同、最高额抵押合同、房屋登记申请书及当事人的陈述等证据在案证实。 本院认为，向人民法院请求保护民事权利的诉讼时效期间为二年，法律另有规定的除外；诉讼时效期间从知道或者应当知道权利被侵害时起计算。苏州市吴中区人民法院于2013年6月20日作出案号为（2013）吴度商初字第0003号的民事判决书，其中明确原告于2011年6月23日支付被告的50万元并不是用于归还金联公司的50万元借款，原告自此才知道自己的权利被侵害，诉讼时效应当自上述判决生效之日起计算，故其在本案中主张不当得利返还请求权的诉讼时效并未超过二年的法定诉讼时效期间。 所谓不当得利，是指没有合法根据取得利益而使他人损失的法律事实。得利人取得利益没有合法根据是不当得利构成的实质性条件。本案中，原告以银行本票方式向被告支付50万元，原告述称被告系金联公司的员工，给付原因是为了归还当日金联公司向其发放的50万元贷款，因金联公司和被告均否认被告收取该款项系履行职务行为，故认为被告取得该款项没有法律根据，应当予以返还；但被告对该款项的给付原因另作解释，称原、被告之间存在民间借贷基础法律关系，原告向被告借款28万元用于归还原告与刘XX二人共有的前述房屋的前期贷款，后原告向金联公司借款50万元并于当日全额支付给被告归还28万元借款，被告扣除约定利息1680元，余额218320元已退还原告指定的刘XX的银行账户内，综上，原、被告对给付款项有无合法根据各执一词。本院认为，原告、刘XX二人先与金联公司签订最高额抵押合同并约定将二人共有的前述房屋为原告的60万元最高额借款提供抵押担保，后原告为了注销该房屋前期贷款的他项权证并办理前述抵押担保的登记手续，与被告签订借款合同约定由被告出借28万元借款给原告，尽管被告将合同约定的28万元转账至刘XX的银行账户内，但是基于原告与刘XX原系男女朋友关系并共同前往被告处办理了相关的借款和保证手续、二人按份共有前述房屋并同时以夫妻名义向被告出具家庭财产承担连带清偿责任承诺书、原告在借款当时也有其他作为被告的涉诉纠纷，借款转账至刘XX银行账户内的该28万元中的276703.3元实际偿还了前述房屋的全部前期贷款，后二人又共同前往房产部门办理了前期贷款的他项权证注销手续和涉案最高额抵押合同中约定的权利价值为60万元、抵押权人为金联公司的抵押权登记手续等等一系列事实，可以认定原告是通过刘XX的银行账户来收取该28万元借款的，被告依约向原告履行了交付借款的义务。之后被告收到原告以银行本票形式转账的50万元，其扣除了28万元借款本金和约定利息，应视为原告依约履行了相应还款义务，同时被告将余额218320元转账至刘XX银行账户内，也应视为将余额直接返还了原告，被告并未获取其他款项，如原告认为自己的合法权益受到了损害，可另案起诉刘XX。综上，原、被告之间发生的50万元的给付原因是基于双方之间存在一定民间借贷基础法律关系的，并非没有合法根据。当事人应当根据该款项流转的真实原因，即双方间的基础法律关系来主张权利，原告的主张不符合不当得利的法律构成要件，故对于原告基于不当得利请求权要求被告返还50万元的诉讼请求，本院不予支持。据此，根据《中华人民共和国民法通则》第九十二条、《中华人民共和国民事诉讼法》第六十四条第一款、最高人民法院《关于民事诉讼证据的若干规定》第二条之规定，判决如下： 驳回原告周淑敏的全部诉讼请求。 案件受理费8800元，由原告周淑敏负担。 如不服本判决，可在判决书送达之日起十五日内，向本院递交上诉状，并按对方当事人人数提出副本，上诉于江苏省苏州市中级人民法院，同时向该院（开户行：农业银行苏州工业园区支行营业部，账号：10×××99）预交上诉案件受理费。 审判长吴倩 代理审判员耿杰圣 人民陪审员黄俭 二〇一四年十二月十七日 书记员郭婷婷 ', '法条': ['《中华人民共和国民事诉讼法》第六十四条第一款', '《中华人民共和国民法通则》第九十二条', '最高人民法院《关于民事诉讼证据的若干规定》第二条'], '案例属性': {'案件类别': '民事案件', '文书种类': '判决书', '经办法院': '苏州市姑苏区人民法院', '法官成员': ['吴倩', '耿杰圣', '黄俭', '郭婷婷', '吴倩', '耿杰圣'], '案由': '不当得利纠纷'}, 'vec': [0.19587754878030347, -0.27463816145633646, 0.03498513924137376, 0.10923084539350106, -0.3671307572829721, 0.3568548871552046, -0.4666597690362377, -0.1349344172318054, 0.23496683535008717, 0.3421117124888877, -0.2573862546236365, 0.13874552705017446, 0.12544764540963618, 0.11884049412058843, -0.08156821231688625, -0.03702680278582518, -0.09509238533038622, -0.1445554480861243, -0.1735769816913069, 0.16708988669778227, 0.08135242942665505, -0.16388556889278466, -0.02400334218803058, -0.19666150777633817, -0.18704651611964146, 0.10150654190106555, 0.2009142702886099, 0.25336102785471604, 0.06738259619837916, -0.2144645787690187, -0.006199748472636589, -0.1339163347649909, 0.04090516365385177, -0.20619220998041185, 0.027088929990560198, 0.16074629528656098, -0.084819946193497, 0.28030403077736654, -0.03297319993261075, -0.297812059936197, -0.09054348031003819, -0.1484457769778948, -0.007851120849567234, -0.12174034291124237, 0.008851401943748812, 0.3127575721666912, -0.2803604809341614, 0.11053646869114966, 0.2937514857349625, -0.10474446142450512, -0.2589287107257041, -0.24534781825561758, -0.32961746873957226, -0.12070155634837607, -0.31032637741629354, -0.007653959462912096, 0.1907663021529183, 0.4951538004055265, -0.06593024660541705, -0.5309595404977224, 0.19533966870366054, -0.0086006322648064, 0.3291011903421934, 0.015543138258857303, 0.10038542501801186, 0.012884497233635233, 0.25987788557173364, -0.1784016562973904, 0.10731339306004194, 0.19046941429520475, 0.03644515010462976, 0.12615027173876278, -0.03127862487995893, -0.04944837187852549, -0.0807673239322173, 0.35527546303992663, 0.08878427537646179, -0.07346160552437843, -0.11207602005662072, 0.1453095949502247, 0.21361483473777976, 0.015278838852720786, -0.43926249116324084, 0.020690094571660655, -0.11462212090200241, -0.08126357322746237, -0.21639244954668835, -0.23680540192194896, -0.18936596604762015, -0.1468777305311437, -0.17914516679534337, -0.0236516281551764, -0.04393751472307158, 0.13424511707148154, -0.14029542081372587, 0.013031441942615758, -0.04247012221489104, 0.16004500058411986, 0.20343904336249857, -0.025027442760828803]}, 'highlight': {'法条': ['《<em>中华人民共和国</em><em>民事诉讼法</em>》<em>第六十</em><em>四条</em><em>第一款</em>', '《<em>中华人民共和国</em><em>民法通则</em>》<em>第九十</em><em>二条</em>', '最高人民法院《关于民事诉讼证据的若干规定》第<em>二条</em>']}}, {'_index': 'new-case-data', '_id': '18953', '_score': 11.213238, '_ignored': ['自定义_裁判文书_证据段.keyword', '全文.附件.keyword', '自定义_裁判文书_查明事实段.keyword', '自定义_裁判文书_裁判分析过程.keyword', '全文.裁判分析过程.keyword', '自定义_裁判文书_被告辩称段.keyword', '自定义_裁判文书_全文.keyword', '全文.案件基本情况.keyword', '自定义_裁判文书_原告诉称段.keyword'], '_source': {'全文': {'文首': {'文书制作单位': '法院', '法院文书种类': '裁判文书', '经办法院': '浙江省奉化市人民法院', '文书名称': '民事判决书', '案号': '（2014）甬奉民一初字第239号', '案件类别': '民事案件', '文书种类': '判决书', '审判程序': '一审案件', '案件类型': '民事一审案件'}, '当事人': '原告：竺某某。 委托代理人：陈某某。 被告：汪某某。 委托代理人：马某某。 委托代理人：卢某某。', '诉讼记录': ' 原告竺某某为与被告汪某某不当得利纠纷一案，于2014年5月15日向本院提起诉讼，本院于同日立案受理后，依法由代理审判员孙艳适用简易程序，于2014年7月2日公开开庭审理了本案。原告竺某某及其委托代理人陈某某、被告汪某某及其委托代理人马某某均到庭参加诉讼。本案现已审理终结。', '案件基本情况': ' 原告竺某某起诉称：2012年5月期间，被告的弟媳殷水琴需要用钱，向原告借款，原告不同意。随后由被告出面向原告借款，故原告分13次通过银行转账形式借给被告款项47600元，借款后被告一直未还，后原告约被告及其他朋友等人在咖啡厅、在被告家多次协商如何还款事宜，被告说只同意还15000元，其他钱不想还，说什么一部分钱给其弟弟及媳妇用了等无理的说法，来推脱搪塞原告的讨款，无奈之下原告于2013年9月向奉化市人民法院起诉，要求被告立即归还借款，可法院作出的是：以没有书面借条且没有借款合意这样简单的不加思索地作出了判决，驳回原告的诉讼请求。这样的判决使原告十分惊讶，难道原告就不明不白把这47600元飞了，难道原告的合法权益就无法得到主张和保护了，原告相信法律是公正的，既然被告认为不是借款，那么被告更无理由得到这笔款项，故原告起诉至法院要求：请依法判令被告立即返回给原告不当得利款47600元。 被告汪某某在法定答辩期限内未提交书面答辩状，在庭审中口头答辩称：1．本案原告已于2013年9月向奉化市人民法院以民间借贷为由向本案被告及案外人殷水琴提起民事诉讼，要求偿还借款，后经奉化市人民法院一审，宁波市中级人民法院二审，因证据不足被驳回，原告在该案中已经自认本案所涉及款项是案外人殷水琴因治病所需而向其借款，事实上，被告与原告素不相识，本案款项发生时，所涉及银行卡由案外人殷水琴实际占有和使用，相应的款项往来被告并不清楚；2．不当得利是指没有合法根据（法律上的原因），取得不当利益，造成他人损失，本案原告向被告银行卡转帐的款项，并不符合不当得利的上述构成要件，因此，原告以不当得利为由起诉，于法无据。首先，本案中原告对于向被告帐户转帐不存在给付对象错误或金额错误的情形并无异议，其次，原告在诉状中仍陈述被告因案外人殷水琴所需而向其借款，只是由于被告否认借款，原告因证据不足被法院驳回，原告才转而起诉被告不当得利。因此，根据原告的单方面陈述，原告当初转帐款项属于借款，这说明原告的各次转帐行为并非欠缺法律上的原因。最后，原告作为不当得利请求权人，应当对欠缺给付原因的具体情形负有举证责任，本案原告系主动转帐，是使财产发生转移变动的主体，且转帐数额、转帐对象明确、具体，原告主张自己的给付行为没有合法根据，只能由其自行承担举证责任，而本案中，原告不但没有对于欠缺给付原因的具体情形予以举证证明，反而一再陈述当初被告向其借款，理应承担举证不能的责任。综上所述，原告的诉请缺乏事实基础和法律依据，并结合最高院关于借贷纠纷案件当事人的诉讼请求被驳回后，又以不当得利为由另行起诉主张权利的，人民法院不予支持的司法审判精神，不当得利不应当作为民事诉讼的“垃圾桶”，原告滥用诉权，已对被告的正常生活产生严重不良影响，恳请法院予以驳回。 原告竺某某为支持其诉讼请求，在本院指定的举证期限内，提供以下证据： 1．中国银行客户回单9张以及中国银行自动柜员机客户通知书4张，用以证明原告汇款给被告帐户的47600元系不当得利的事实；被告的质证意见为：对9张中国银行客户回单真实性、合法性没有异议，但是合计金额只有31100元，根据原告提供的证据，可以证明原告汇款时间和金额都是明确的，不符合不当得利的构成条件，并且对于中国银行自动柜员机客户通知书因为上面字迹无法显示，对其三性均有异议；本院认为，中国银行自动柜员机客户通知书上面没有字迹显示，无法确认其与本案有关联性，对此不予认可，鉴于被告对于中国银行客户回单真实性、合法性没有异议，本院对中国银行客户回单的真实性、合法性予以确认。 2．新线存款历史交易明细清单复印件一份共5页，用以证明原告于2012年5月14日汇款到被告帐户8000元，2012年5月18日汇款3000元，2012年6月11日汇款5000元，2012年6月16日汇款500元，共计汇款16500元到被告帐户的事实；被告质证意见为：三性均有异议，因为原告提供的是复印件，上面并没有相应银行的盖章，且上面有涂改，关联性上不能证明原告向被告帐户汇款16500元的事实，即使认定是真实的，原告所列的款项仅仅能反映被告帐户一定时期内的交易记录，并不能证明该款项由原告汇付，也不能与原告提供的第一组证据中的中国银行自动柜员机客户通知书相印证，因为没有其它证据；本院认为，被告的质证意见合理，对此予以采纳，对原告提供的该组证据不予确认。 被告汪某某在本院指定的举证期限内向本院提供的证据是（2013）甬奉商初字第1010号以及（2013）浙甬商终字第1155号民事判决书复印件各一份，用以证明本案原告曾以民间借贷为由要求被告偿还，后因证据不足被法院驳回，以及原告在该案中陈述及自认该款项为借款的事实，并不符合不当得利的构成；原告质证意见为：没有异议，判决书里面的内容也反应了被告收到款项的事实，也反应出了原、被告曾经经过商量，被告同意归还15000元的事实，原告以借贷的理由起诉，被告不承认有借贷事实，被法院驳回，故原告只能以不当得利为由向法院起诉；鉴于原告对该组证据没有异议，本院对被告提交的该组证据予以确认，并作为认定本案相关事实的依据。 综合上述证据及当事人的陈述，本院查明案件事实如下：原告竺某某曾于2012年5月到8月，通过中国银行向被告汪某某账户汇款九笔，共计31100元，有九张银行回单为证。原告竺某某以民间借贷为由，于2013年9月6日向本院起诉，要求被告汪某某返还借款47600元，后被本院（2013）甬奉商初字第1010号判决书依法判决驳回诉讼请求。2013年12月16日，原告竺某某不服一审判决，依法向宁波市中级人民法院提起上诉，后被（2013）浙甬商终字第1155号判决书判决驳回上诉，维持原判。现原告竺某某以不当得利为由，又向本院起诉。 ', '裁判分析过程': '本院认为，本案的争议焦点在于本案所涉款项是否构成不当得利。根据原、被告在庭审中的陈述及（2013）甬奉商初字第1010号判决书、（2013）浙甬商终字第1155号判决书的内容，原告对于本案款项的性质认为是借款，现只是因为民间借贷被法院驳回，转而起诉不当得利，而原告在本案庭审中陈述每笔汇款的时间、金额均是与被告联系后确定的，并不符合不当得利的构成要件，故对于原告的诉讼请求本院难以支持。依照《中华人民共和国民法通则》第九十二条、《中华人民共和国民事诉讼法》第六十四条第一款以及《最高人民法院关于民事诉讼证据的若干规定》第二条的规定，判决如下：', '判决结果': ' 驳回原告竺某某的诉讼请求。 案件受理费990元，减半收取495元，由原告竺某某负担。 如不服本判决，可在判决书送达之日起十五日内向本院递交上诉状，并按对方当事人的人数提出副本，上诉于浙江省宁波市中级人民法院。在递交上诉状之日起七日内凭判决书到宁波市中级人民法院立案室预交上诉案件受理费；如银行汇款，收款人为宁波市财政局非税资金专户，帐号为37×××92，开户银行为宁波市中国银行营业部。如邮政汇款，收款人为宁波市中级人民法院立案室。汇款时一律注明原审案号。逾期不交，作自动放弃上诉处理。', '文尾': ' 代理审判员孙艳 二〇一四年七月二十四日 书记员杨威芳', '附件': ' 附 本判决依据的法律条文： 1．《中华人民共和国民法通则》第九十二条：没有合法根据，取得不当利益，造成他人损失的，应当将取得的不当利益返还受损失的人。 2．《中华人民共和国民事诉讼法》第六十四条：当事人对自己提出的主张，有责任提供证据。 当事人及其诉讼代理人因客观原因不能自行收集的证据，或者人民法院认为审理案件需要的证据，人民法院应当调查收集。 人民法院应当按照法定程序，全面地、客观地审查核实证据。 3．《最高人民法院关于民事诉讼证据的若干规定》第二条：当事人对自己提出的诉讼请求所依据的事实或者反驳对方诉讼请求所依据的事实有责任提供证据加以证明。没有证据或者证据不足以证明当事人的事实主张的由负有举证责任的当事人承担不利后果。 ', '立案日期': '2014年5月15日', '文书是否模糊': '是'}, '自定义_裁判文书_裁判分析过程': '本院认为，本案的争议焦点在于本案所涉款项是否构成不当得利。根据原、被告在庭审中的陈述及（2013）甬奉商初字第1010号判决书、（2013）浙甬商终字第1155号判决书的内容，原告对于本案款项的性质认为是借款，现只是因为民间借贷被法院驳回，转而起诉不当得利，而原告在本案庭审中陈述每笔汇款的时间、金额均是与被告联系后确定的，并不符合不当得利的构成要件，故对于原告的诉讼请求本院难以支持。依照《中华人民共和国民法通则》第九十二条、《中华人民共和国民事诉讼法》第六十四条第一款以及《最高人民法院关于民事诉讼证据的若干规定》第二条的规定，判决如下：', '自定义_裁判文书_原告诉称段': '原告竺某某起诉称：2012年5月期间，被告的弟媳殷水琴需要用钱，向原告借款，原告不同意。随后由被告出面向原告借款，故原告分13次通过银行转账形式借给被告款项47600元，借款后被告一直未还，后原告约被告及其他朋友等人在咖啡厅、在被告家多次协商如何还款事宜，被告说只同意还15000元，其他钱不想还，说什么一部分钱给其弟弟及媳妇用了等无理的说法，来推脱搪塞原告的讨款，无奈之下原告于2013年9月向奉化市人民法院起诉，要求被告立即归还借款，可法院作出的是：以没有书面借条且没有借款合意这样简单的不加思索地作出了判决，驳回原告的诉讼请求。这样的判决使原告十分惊讶，难道原告就不明不白把这47600元飞了，难道原告的合法权益就无法得到主张和保护了，原告相信法律是公正的，既然被告认为不是借款，那么被告更无理由得到这笔款项，故原告起诉至法院要求：请依法判令被告立即返回给原告不当得利款47600元。', '自定义_裁判文书_被告辩称段': '被告汪某某在法定答辩期限内未提交书面答辩状，在庭审中口头答辩称：1．本案原告已于2013年9月向奉化市人民法院以民间借贷为由向本案被告及案外人殷水琴提起民事诉讼，要求偿还借款，后经奉化市人民法院一审，宁波市中级人民法院二审，因证据不足被驳回，原告在该案中已经自认本案所涉及款项是案外人殷水琴因治病所需而向其借款，事实上，被告与原告素不相识，本案款项发生时，所涉及银行卡由案外人殷水琴实际占有和使用，相应的款项往来被告并不清楚；2．不当得利是指没有合法根据（法律上的原因），取得不当利益，造成他人损失，本案原告向被告银行卡转帐的款项，并不符合不当得利的上述构成要件，因此，原告以不当得利为由起诉，于法无据。首先，本案中原告对于向被告帐户转帐不存在给付对象错误或金额错误的情形并无异议，其次，原告在诉状中仍陈述被告因案外人殷水琴所需而向其借款，只是由于被告否认借款，原告因证据不足被法院驳回，原告才转而起诉被告不当得利。因此，根据原告的单方面陈述，原告当初转帐款项属于借款，这说明原告的各次转帐行为并非欠缺法律上的原因。最后，原告作为不当得利请求权人，应当对欠缺给付原因的具体情形负有举证责任，本案原告系主动转帐，是使财产发生转移变动的主体，且转帐数额、转帐对象明确、具体，原告主张自己的给付行为没有合法根据，只能由其自行承担举证责任，而本案中，原告不但没有对于欠缺给付原因的具体情形予以举证证明，反而一再陈述当初被告向其借款，理应承担举证不能的责任。综上所述，原告的诉请缺乏事实基础和法律依据，并结合最高院关于借贷纠纷案件当事人的诉讼请求被驳回后，又以不当得利为由另行起诉主张权利的，人民法院不予支持的司法审判精神，不当得利不应当作为民事诉讼的“垃圾桶”，原告滥用诉权，已对被告的正常生活产生严重不良影响，恳请法院予以驳回。 ', '自定义_裁判文书_证据段': '原告竺某某为支持其诉讼请求，在本院指定的举证期限内，提供以下证据： 1．中国银行客户回单9张以及中国银行自动柜员机客户通知书4张，用以证明原告汇款给被告帐户的47600元系不当得利的事实；被告的质证意见为：对9张中国银行客户回单真实性、合法性没有异议，但是合计金额只有31100元，根据原告提供的证据，可以证明原告汇款时间和金额都是明确的，不符合不当得利的构成条件，并且对于中国银行自动柜员机客户通知书因为上面字迹无法显示，对其三性均有异议；本院认为，中国银行自动柜员机客户通知书上面没有字迹显示，无法确认其与本案有关联性，对此不予认可，鉴于被告对于中国银行客户回单真实性、合法性没有异议，本院对中国银行客户回单的真实性、合法性予以确认。 2．新线存款历史交易明细清单复印件一份共5页，用以证明原告于2012年5月14日汇款到被告帐户8000元，2012年5月18日汇款3000元，2012年6月11日汇款5000元，2012年6月16日汇款500元，共计汇款16500元到被告帐户的事实；被告质证意见为：三性均有异议，因为原告提供的是复印件，上面并没有相应银行的盖章，且上面有涂改，关联性上不能证明原告向被告帐户汇款16500元的事实，即使认定是真实的，原告所列的款项仅仅能反映被告帐户一定时期内的交易记录，并不能证明该款项由原告汇付，也不能与原告提供的第一组证据中的中国银行自动柜员机客户通知书相印证，因为没有其它证据；本院认为，被告的质证意见合理，对此予以采纳，对原告提供的该组证据不予确认。 被告汪某某在本院指定的举证期限内向本院提供的证据是（2013）甬奉商初字第1010号以及（2013）浙甬商终字第1155号民事判决书复印件各一份，用以证明本案原告曾以民间借贷为由要求被告偿还，后因证据不足被法院驳回，以及原告在该案中陈述及自认该款项为借款的事实，并不符合不当得利的构成；原告质证意见为：没有异议，判决书里面的内容也反应了被告收到款项的事实，也反应出了原、被告曾经经过商量，被告同意归还15000元的事实，原告以借贷的理由起诉，被告不承认有借贷事实，被法院驳回，故原告只能以不当得利为由向法院起诉；鉴于原告对该组证据没有异议，本院对被告提交的该组证据予以确认，并作为认定本案相关事实的依据。 ', '自定义_裁判文书_查明事实段': '综合上述证据及当事人的陈述，本院查明案件事实如下：原告竺某某曾于2012年5月到8月，通过中国银行向被告汪某某账户汇款九笔，共计31100元，有九张银行回单为证。原告竺某某以民间借贷为由，于2013年9月6日向本院起诉，要求被告汪某某返还借款47600元，后被本院（2013）甬奉商初字第1010号判决书依法判决驳回诉讼请求。2013年12月16日，原告竺某某不服一审判决，依法向宁波市中级人民法院提起上诉，后被（2013）浙甬商终字第1155号判决书判决驳回上诉，维持原判。现原告竺某某以不当得利为由，又向本院起诉。', '自定义_裁判文书_当事人': '原告：竺某某。 委托代理人：陈某某。 被告：汪某某。 委托代理人：马某某。 委托代理人：卢某某。', '自定义_裁判文书_判决结果': ' 驳回原告竺某某的诉讼请求。 案件受理费990元，减半收取495元，由原告竺某某负担。 如不服本判决，可在判决书送达之日起十五日内向本院递交上诉状，并按对方当事人的人数提出副本，上诉于浙江省宁波市中级人民法院。在递交上诉状之日起七日内凭判决书到宁波市中级人民法院立案室预交上诉案件受理费；如银行汇款，收款人为宁波市财政局非税资金专户，帐号为37×××92，开户银行为宁波市中国银行营业部。如邮政汇款，收款人为宁波市中级人民法院立案室。汇款时一律注明原审案号。逾期不交，作自动放弃上诉处理。', '自定义_裁判文书_全文': '浙江省奉化市人民法院 民事判决书 （2014）甬奉民一初字第239号 原告：竺某某。 委托代理人：陈某某。 被告：汪某某。 委托代理人：马某某。 委托代理人：卢某某。 原告竺某某为与被告汪某某不当得利纠纷一案，于2014年5月15日向本院提起诉讼，本院于同日立案受理后，依法由代理审判员孙艳适用简易程序，于2014年7月2日公开开庭审理了本案。原告竺某某及其委托代理人陈某某、被告汪某某及其委托代理人马某某均到庭参加诉讼。本案现已审理终结。 原告竺某某起诉称：2012年5月期间，被告的弟媳殷水琴需要用钱，向原告借款，原告不同意。随后由被告出面向原告借款，故原告分13次通过银行转账形式借给被告款项47600元，借款后被告一直未还，后原告约被告及其他朋友等人在咖啡厅、在被告家多次协商如何还款事宜，被告说只同意还15000元，其他钱不想还，说什么一部分钱给其弟弟及媳妇用了等无理的说法，来推脱搪塞原告的讨款，无奈之下原告于2013年9月向奉化市人民法院起诉，要求被告立即归还借款，可法院作出的是：以没有书面借条且没有借款合意这样简单的不加思索地作出了判决，驳回原告的诉讼请求。这样的判决使原告十分惊讶，难道原告就不明不白把这47600元飞了，难道原告的合法权益就无法得到主张和保护了，原告相信法律是公正的，既然被告认为不是借款，那么被告更无理由得到这笔款项，故原告起诉至法院要求：请依法判令被告立即返回给原告不当得利款47600元。 被告汪某某在法定答辩期限内未提交书面答辩状，在庭审中口头答辩称：1．本案原告已于2013年9月向奉化市人民法院以民间借贷为由向本案被告及案外人殷水琴提起民事诉讼，要求偿还借款，后经奉化市人民法院一审，宁波市中级人民法院二审，因证据不足被驳回，原告在该案中已经自认本案所涉及款项是案外人殷水琴因治病所需而向其借款，事实上，被告与原告素不相识，本案款项发生时，所涉及银行卡由案外人殷水琴实际占有和使用，相应的款项往来被告并不清楚；2．不当得利是指没有合法根据（法律上的原因），取得不当利益，造成他人损失，本案原告向被告银行卡转帐的款项，并不符合不当得利的上述构成要件，因此，原告以不当得利为由起诉，于法无据。首先，本案中原告对于向被告帐户转帐不存在给付对象错误或金额错误的情形并无异议，其次，原告在诉状中仍陈述被告因案外人殷水琴所需而向其借款，只是由于被告否认借款，原告因证据不足被法院驳回，原告才转而起诉被告不当得利。因此，根据原告的单方面陈述，原告当初转帐款项属于借款，这说明原告的各次转帐行为并非欠缺法律上的原因。最后，原告作为不当得利请求权人，应当对欠缺给付原因的具体情形负有举证责任，本案原告系主动转帐，是使财产发生转移变动的主体，且转帐数额、转帐对象明确、具体，原告主张自己的给付行为没有合法根据，只能由其自行承担举证责任，而本案中，原告不但没有对于欠缺给付原因的具体情形予以举证证明，反而一再陈述当初被告向其借款，理应承担举证不能的责任。综上所述，原告的诉请缺乏事实基础和法律依据，并结合最高院关于借贷纠纷案件当事人的诉讼请求被驳回后，又以不当得利为由另行起诉主张权利的，人民法院不予支持的司法审判精神，不当得利不应当作为民事诉讼的“垃圾桶”，原告滥用诉权，已对被告的正常生活产生严重不良影响，恳请法院予以驳回。 原告竺某某为支持其诉讼请求，在本院指定的举证期限内，提供以下证据： 1．中国银行客户回单9张以及中国银行自动柜员机客户通知书4张，用以证明原告汇款给被告帐户的47600元系不当得利的事实；被告的质证意见为：对9张中国银行客户回单真实性、合法性没有异议，但是合计金额只有31100元，根据原告提供的证据，可以证明原告汇款时间和金额都是明确的，不符合不当得利的构成条件，并且对于中国银行自动柜员机客户通知书因为上面字迹无法显示，对其三性均有异议；本院认为，中国银行自动柜员机客户通知书上面没有字迹显示，无法确认其与本案有关联性，对此不予认可，鉴于被告对于中国银行客户回单真实性、合法性没有异议，本院对中国银行客户回单的真实性、合法性予以确认。 2．新线存款历史交易明细清单复印件一份共5页，用以证明原告于2012年5月14日汇款到被告帐户8000元，2012年5月18日汇款3000元，2012年6月11日汇款5000元，2012年6月16日汇款500元，共计汇款16500元到被告帐户的事实；被告质证意见为：三性均有异议，因为原告提供的是复印件，上面并没有相应银行的盖章，且上面有涂改，关联性上不能证明原告向被告帐户汇款16500元的事实，即使认定是真实的，原告所列的款项仅仅能反映被告帐户一定时期内的交易记录，并不能证明该款项由原告汇付，也不能与原告提供的第一组证据中的中国银行自动柜员机客户通知书相印证，因为没有其它证据；本院认为，被告的质证意见合理，对此予以采纳，对原告提供的该组证据不予确认。 被告汪某某在本院指定的举证期限内向本院提供的证据是（2013）甬奉商初字第1010号以及（2013）浙甬商终字第1155号民事判决书复印件各一份，用以证明本案原告曾以民间借贷为由要求被告偿还，后因证据不足被法院驳回，以及原告在该案中陈述及自认该款项为借款的事实，并不符合不当得利的构成；原告质证意见为：没有异议，判决书里面的内容也反应了被告收到款项的事实，也反应出了原、被告曾经经过商量，被告同意归还15000元的事实，原告以借贷的理由起诉，被告不承认有借贷事实，被法院驳回，故原告只能以不当得利为由向法院起诉；鉴于原告对该组证据没有异议，本院对被告提交的该组证据予以确认，并作为认定本案相关事实的依据。 综合上述证据及当事人的陈述，本院查明案件事实如下：原告竺某某曾于2012年5月到8月，通过中国银行向被告汪某某账户汇款九笔，共计31100元，有九张银行回单为证。原告竺某某以民间借贷为由，于2013年9月6日向本院起诉，要求被告汪某某返还借款47600元，后被本院（2013）甬奉商初字第1010号判决书依法判决驳回诉讼请求。2013年12月16日，原告竺某某不服一审判决，依法向宁波市中级人民法院提起上诉，后被（2013）浙甬商终字第1155号判决书判决驳回上诉，维持原判。现原告竺某某以不当得利为由，又向本院起诉。 本院认为，本案的争议焦点在于本案所涉款项是否构成不当得利。根据原、被告在庭审中的陈述及（2013）甬奉商初字第1010号判决书、（2013）浙甬商终字第1155号判决书的内容，原告对于本案款项的性质认为是借款，现只是因为民间借贷被法院驳回，转而起诉不当得利，而原告在本案庭审中陈述每笔汇款的时间、金额均是与被告联系后确定的，并不符合不当得利的构成要件，故对于原告的诉讼请求本院难以支持。依照《中华人民共和国民法通则》第九十二条、《中华人民共和国民事诉讼法》第六十四条第一款以及《最高人民法院关于民事诉讼证据的若干规定》第二条的规定，判决如下： 驳回原告竺某某的诉讼请求。 案件受理费990元，减半收取495元，由原告竺某某负担。 如不服本判决，可在判决书送达之日起十五日内向本院递交上诉状，并按对方当事人的人数提出副本，上诉于浙江省宁波市中级人民法院。在递交上诉状之日起七日内凭判决书到宁波市中级人民法院立案室预交上诉案件受理费；如银行汇款，收款人为宁波市财政局非税资金专户，帐号为37×××92，开户银行为宁波市中国银行营业部。如邮政汇款，收款人为宁波市中级人民法院立案室。汇款时一律注明原审案号。逾期不交，作自动放弃上诉处理。 代理审判员孙艳 二〇一四年七月二十四日 书记员杨威芳 附 本判决依据的法律条文： 1．《中华人民共和国民法通则》第九十二条：没有合法根据，取得不当利益，造成他人损失的，应当将取得的不当利益返还受损失的人。 2．《中华人民共和国民事诉讼法》第六十四条：当事人对自己提出的主张，有责任提供证据。 当事人及其诉讼代理人因客观原因不能自行收集的证据，或者人民法院认为审理案件需要的证据，人民法院应当调查收集。 人民法院应当按照法定程序，全面地、客观地审查核实证据。 3．《最高人民法院关于民事诉讼证据的若干规定》第二条：当事人对自己提出的诉讼请求所依据的事实或者反驳对方诉讼请求所依据的事实有责任提供证据加以证明。没有证据或者证据不足以证明当事人的事实主张的由负有举证责任的当事人承担不利后果。 ', '法条': ['《中华人民共和国民事诉讼法》第六十四条第一款', '《中华人民共和国民法通则》第九十二条', '《最高人民法院关于民事诉讼证据的若干规定》第二条'], '案例属性': {'案件类别': '民事案件', '文书种类': '判决书', '经办法院': '浙江省奉化市人民法院', '法官成员': ['孙艳', '杨威芳', '孙艳'], '案由': '不当得利纠纷'}, 'vec': [0.25094639817528447, -0.2570059358458501, -0.03452639173427476, 0.07010595466029226, -0.4413436352542308, 0.3997382225492373, -0.3715358734064144, -0.17037231037819672, 0.23264662407483572, 0.4821696679588583, -0.22100046705677512, 0.12656430194814966, 0.09032545543416204, 0.032760752381954625, -0.13296661766986387, -0.07714890852091519, -0.04773162938176269, -0.22374729847042907, -0.22551346014237614, 0.19630963397378173, 0.04305252977067503, -0.2113616599866895, 0.008694633497976311, -0.15841252466002595, -0.2124801926484123, 0.07171483814638155, 0.17888611974135415, 0.19188407325650203, -0.009338279211142712, -0.21788411911673478, 0.024558537236585434, -0.15429442947938052, 0.06451835832795495, -0.2660366457230179, 0.06018582488703959, 0.16014987943482056, -0.0367635351932667, 0.21351189608034807, -0.05604731047787263, -0.2841769356218804, -0.0895217433644777, -0.12642492307690617, -0.05061278100406353, -0.12842675509483417, 0.0252233193742178, 0.3269984141275611, -0.17308772671459438, 0.14488684097022786, 0.3254237542859133, -0.174113055297454, -0.2388957299886118, -0.22059567340800001, -0.45980620265291755, -0.11205978080580549, -0.3487405026163329, -0.1426756939411821, 0.2254649929943082, 0.5145916006503395, -0.11569135927463382, -0.5500314601319674, 0.24299619783275875, -0.059502868488510455, 0.3668565235456502, -0.07216333507264686, 0.13492764631169094, 0.012123173488705495, 0.24387533603196018, -0.1843391468361943, 0.12242587686722683, 0.18165322135358308, 0.08996120783546466, 0.08518401899260437, 0.010172401835501606, -0.1299754330219837, -0.08619143709260475, 0.28787866203850143, 0.04081419517267168, -0.12979291063321152, -0.21688859523892695, 0.061323144223397144, 0.29550052955070344, 0.11218701068386884, -0.4442612424490033, 0.0018224787963407802, -0.20321550902029178, -0.02371670349839658, -0.15591992182188877, -0.2467627340679651, -0.2092220954692627, -0.20132906628069602, -0.2473601245190595, -0.00480715389868329, -0.06665755497980322, 0.16323738181774564, -0.1639247398624565, 0.006973457533674905, 0.012255869794680149, 0.21247435201913167, 0.1879563432232719, -0.03547152898209316]}, 'highlight': {'法条': ['《<em>中华人民共和国</em><em>民事诉讼法</em>》<em>第六十</em><em>四条</em><em>第一款</em>', '《<em>中华人民共和国</em><em>民法通则</em>》<em>第九十</em><em>二条</em>', '《最高人民法院关于民事诉讼证据的若干规定》第<em>二条</em>']}}, {'_index': 'new-case-data', '_id': '24994', '_score': 11.213238, '_ignored': ['自定义_裁判文书_裁判分析过程.keyword', '全文.裁判分析过程.keyword', '自定义_裁判文书_被告辩称段.keyword', '自定义_裁判文书_全文.keyword', '全文.案件基本情况.keyword', '自定义_裁判文书_原告诉称段.keyword'], '_source': {'全文': {'文首': {'文书制作单位': '法院', '法院文书种类': '裁判文书', '经办法院': '苏州市姑苏区人民法院', '文书名称': '民事判决书', '案号': '（2016）苏0508民初7339号', '案件类别': '民事案件', '文书种类': '判决书', '审判程序': '一审案件', '案件类型': '民事一审案件'}, '当事人': '原告：张安育，女，1983年3月10日出生，回族，住上海市卢湾区。 委托诉讼代理人：唐宗凡，上海普世律师事务所律师。 被告：葛军，男，1987年11月23日出生，汉族，住江苏省苏州市姑苏区。 委托诉讼代理人：孙宏阳，江苏卓华律师事务所律师。', '诉讼记录': ' 原告张安育与被告葛军不当得利纠纷一案，本院于2016年11月17日立案后，依法适用简易程序，于2016年12月14日、2017年1月18日公开开庭进行了审理。原告张安育的委托诉讼代理人唐宗凡、被告葛军的委托诉讼代理人孙宏阳两次开庭到庭参加诉讼。本案现已审理终结。', '案件基本情况': ' 原告张安育向本院提出诉讼请求：1．请求判令被告返还原告人民币30万元；2．本案诉讼费由被告承担。事实和理由：原、被告系朋友。被告注册了苏州佩丰洐餐饮有限公司，并经营了“奥韵烧烤”餐厅（地址：姑苏区西环路875号）。2016年初被告找到原告，让原告投资该餐厅。鉴于是朋友关系，原告先给被告汇款了30万元，但是对于如何投资、收益如何分配等双方并未进行过约定，更没有签署过任何协议。后被告一直未就投资事宜与原告协商过，也不告知原告30万的用途以及餐厅的经营情况。原告认为，双方并未就投资餐厅一事达成过任何合意，并未成立合同关系，被告理应返还原告30万元。故原告诉至法院。 被告葛军辩称，原告在诉状中陈述被告要求原告投资，说明原告认可自己的行为系投资行为；根据原告提供的微信聊天记录可以看出双方已经实际履行合伙经营餐厅的行为；根据相关法律规定，即使合伙协议没有约定双方的出资份额也可以根据出资额来确定，故被告认为原告的诉请无法律依据，应当予以驳回。 本案当事人围绕诉讼请求依法提交了证据，本院组织当事人进行了证据交换和质证。原告向本院提供了汇款凭证、工商登记信息、微信聊天记录，被告对该组证据的真实性均无异议；被告向本院提供了微信聊天记录、营业执照、工商登记信息，原告对该组证据的真实性均无异议。根据当事人陈述和经审查确认的证据，本院认定事实如下：原、被告原系朋友关系。2016年初左右，葛军与张安育协商，希望其投资葛军名下的餐厅，2016年3月7日，张安育通过其名下中国工商银行账户向葛军名下的中国工商银行账户转账汇入30万元。但原、被告就双方出资比例、盈余分配比例等事项未作书面约定。2016年3月8日，被告葛军经工商部门核准，注册成立名称为苏州培丰洐餐饮有限公司的有限责任公司，股东为葛海霞、葛军，后于2016年5月19日注册成立名称为姑苏××臻鲜道餐馆的个体工商户，经营场所均在苏州市××环路水韵××室。姑苏××臻鲜道餐馆目前仍处于营业状态。 2016年3月-6月，原、被告多次就餐厅装修及名称事宜在微信平台上聊天沟通，张安育在微信中提到：“和律师沟通下来两种方案：1．按照你出的钱和我出的钱直接划分股份，根据店里经营状况，每半年或者一年分红，由于我不参与管理，所以每月营业额报表需要给到我这边查看；2．全当我借你钱，帮你，你直接商定何时还我钱，还我之前看利息怎么算，我也不需要任何股份”。葛军回复称：“我同意按出钱的比例分摊收益和亏损，但是营业额里面除去日常开支以外我需要算一份工资撇在分红外面的，你觉得可合理？”张安育回答：“如果是方案一，如果是开始在亏损，那我和你按照投入比例就要继续投钱……对于你的工资是否合理看你工资金额……所有财务报表必须是电子档，手写实在说不过去，财务报表还是正规一些比较好”。2016年8月，张安育认为双方从未签订合作协议，且葛军一直未告诉其店面的经营状况，双方关系恶化，张安育在微信上要求葛军返还30万，葛军称：“别人不入股哪来的钱给你……按道理从3月份到现在你自己说投25万的，除掉房租亏损跟装修完转让剩下的部分才是你的……我只承认30万里面有5万是算借的，其他25万是你自己说要投的，不然也没有后续装修改造这些事情”。之后，原、被告协商无果，遂诉至本院。 审理中，被告陈述其先注册了有限责任公司，但发现无法办理卫生许可证，便又注册了名称为姑苏××臻鲜道餐馆的个体工商户，双方合伙的餐厅就是以这个个体工商户经营的；原告对该事实不予认可，称其对被告申请注册个体工商户事宜毫不知情。诉讼中，本院通知双方当事人于2016年12月30日至姑苏××臻鲜道餐馆进行现场清点并核对账目，但原告认为没有必要盘点，拒绝至现场。 ', '裁判分析过程': '本院认为，根据法律规定，不当得利是指没有法律或合同等合法根据，因他人财产受到损失而使自己获得的利益。关于得利人取得利益没有合法根据是指一方的给付行为欠缺原因。本案中，张安育、葛军达成口头协议，张安育向葛军付款用于经营餐馆，葛军负责日常管理，双方之间的关系符合个人合伙的法律关系特征。个人合伙的经营活动，由合伙人共同决定。虽然双方就出资比例、盈余分配、债务承担比例等事项未进行书面约定，但原、被告在诉讼中仍可就上述事项进行协商处理。故本院认为张安育向葛军汇款30万元并不存在支付对象错误的情形，而葛军占有30万元的行为也并非不当得利。原告对法律的理解有误，但经本院释明后仍然坚持以不当得利起诉，也不同意去现场清点、对账，故本案在未经清算、合伙经营期间盈亏不明的情况下，张安育要求葛军全额返还30万元的诉请，本院碍难支持。 依照《中华人民共和国民法通则》第九十二条、《中华人民共和国民事诉讼法》第六十四条第一款、《最高人民法院关于民事诉讼证据的若干规定》第二条的规定，判决如下：', '判决结果': ' 驳回原告张安育的全部诉讼请求。案件受理费5800元，适用简易程序减半收取2900元，由原告张安育负担。 如不服本判决，可在判决书送达之日起十五日内，向本院递交上诉状，并按对方当事人人数提出副本，上诉于苏州市中级人民法院，同时向该院（开户行：中国农业银行苏州苏福路支行，帐号：10×××76）预交上诉案件受理费。', '文尾': ' 审判员陈瑾 二〇一七年二月十日 书记员张筱 ', '立案日期': '2016年11月17日', '文书是否模糊': '否'}, '自定义_裁判文书_裁判分析过程': '本院认为，根据法律规定，不当得利是指没有法律或合同等合法根据，因他人财产受到损失而使自己获得的利益。关于得利人取得利益没有合法根据是指一方的给付行为欠缺原因。本案中，张安育、葛军达成口头协议，张安育向葛军付款用于经营餐馆，葛军负责日常管理，双方之间的关系符合个人合伙的法律关系特征。个人合伙的经营活动，由合伙人共同决定。虽然双方就出资比例、盈余分配、债务承担比例等事项未进行书面约定，但原、被告在诉讼中仍可就上述事项进行协商处理。故本院认为张安育向葛军汇款30万元并不存在支付对象错误的情形，而葛军占有30万元的行为也并非不当得利。原告对法律的理解有误，但经本院释明后仍然坚持以不当得利起诉，也不同意去现场清点、对账，故本案在未经清算、合伙经营期间盈亏不明的情况下，张安育要求葛军全额返还30万元的诉请，本院碍难支持。 依照《中华人民共和国民法通则》第九十二条、《中华人民共和国民事诉讼法》第六十四条第一款、《最高人民法院关于民事诉讼证据的若干规定》第二条的规定，判决如下：', '自定义_裁判文书_原告诉称段': '原告张安育向本院提出诉讼请求：1．请求判令被告返还原告人民币30万元；2．本案诉讼费由被告承担。事实和理由：原、被告系朋友。被告注册了苏州佩丰洐餐饮有限公司，并经营了“奥韵烧烤”餐厅（地址：姑苏区西环路875号）。2016年初被告找到原告，让原告投资该餐厅。鉴于是朋友关系，原告先给被告汇款了30万元，但是对于如何投资、收益如何分配等双方并未进行过约定，更没有签署过任何协议。后被告一直未就投资事宜与原告协商过，也不告知原告30万的用途以及餐厅的经营情况。原告认为，双方并未就投资餐厅一事达成过任何合意，并未成立合同关系，被告理应返还原告30万元。故原告诉至法院。', '自定义_裁判文书_被告辩称段': '被告葛军辩称，原告在诉状中陈述被告要求原告投资，说明原告认可自己的行为系投资行为；根据原告提供的微信聊天记录可以看出双方已经实际履行合伙经营餐厅的行为；根据相关法律规定，即使合伙协议没有约定双方的出资份额也可以根据出资额来确定，故被告认为原告的诉请无法律依据，应当予以驳回。 本案当事人围绕诉讼请求依法提交了证据，本院组织当事人进行了证据交换和质证。原告向本院提供了汇款凭证、工商登记信息、微信聊天记录，被告对该组证据的真实性均无异议；被告向本院提供了微信聊天记录、营业执照、工商登记信息，原告对该组证据的真实性均无异议。根据当事人陈述和经审查确认的证据，本院认定事实如下：原、被告原系朋友关系。2016年初左右，葛军与张安育协商，希望其投资葛军名下的餐厅，2016年3月7日，张安育通过其名下中国工商银行账户向葛军名下的中国工商银行账户转账汇入30万元。但原、被告就双方出资比例、盈余分配比例等事项未作书面约定。2016年3月8日，被告葛军经工商部门核准，注册成立名称为苏州培丰洐餐饮有限公司的有限责任公司，股东为葛海霞、葛军，后于2016年5月19日注册成立名称为姑苏××臻鲜道餐馆的个体工商户，经营场所均在苏州市××环路水韵××室。姑苏××臻鲜道餐馆目前仍处于营业状态。 2016年3月-6月，原、被告多次就餐厅装修及名称事宜在微信平台上聊天沟通，张安育在微信中提到：“和律师沟通下来两种方案：1．按照你出的钱和我出的钱直接划分股份，根据店里经营状况，每半年或者一年分红，由于我不参与管理，所以每月营业额报表需要给到我这边查看；2．全当我借你钱，帮你，你直接商定何时还我钱，还我之前看利息怎么算，我也不需要任何股份”。葛军回复称：“我同意按出钱的比例分摊收益和亏损，但是营业额里面除去日常开支以外我需要算一份工资撇在分红外面的，你觉得可合理？”张安育回答：“如果是方案一，如果是开始在亏损，那我和你按照投入比例就要继续投钱……对于你的工资是否合理看你工资金额……所有财务报表必须是电子档，手写实在说不过去，财务报表还是正规一些比较好”。2016年8月，张安育认为双方从未签订合作协议，且葛军一直未告诉其店面的经营状况，双方关系恶化，张安育在微信上要求葛军返还30万，葛军称：“别人不入股哪来的钱给你……按道理从3月份到现在你自己说投25万的，除掉房租亏损跟装修完转让剩下的部分才是你的……我只承认30万里面有5万是算借的，其他25万是你自己说要投的，不然也没有后续装修改造这些事情”。之后，原、被告协商无果，遂诉至本院。 审理中，被告陈述其先注册了有限责任公司，但发现无法办理卫生许可证，便又注册了名称为姑苏××臻鲜道餐馆的个体工商户，双方合伙的餐厅就是以这个个体工商户经营的；原告对该事实不予认可，称其对被告申请注册个体工商户事宜毫不知情。诉讼中，本院通知双方当事人于2016年12月30日至姑苏××臻鲜道餐馆进行现场清点并核对账目，但原告认为没有必要盘点，拒绝至现场。', '自定义_裁判文书_当事人': '原告：张安育，女，1983年3月10日出生，回族，住上海市卢湾区。 委托诉讼代理人：唐宗凡，上海普世律师事务所律师。 被告：葛军，男，1987年11月23日出生，汉族，住江苏省苏州市姑苏区。 委托诉讼代理人：孙宏阳，江苏卓华律师事务所律师。', '自定义_裁判文书_判决结果': ' 驳回原告张安育的全部诉讼请求。案件受理费5800元，适用简易程序减半收取2900元，由原告张安育负担。 如不服本判决，可在判决书送达之日起十五日内，向本院递交上诉状，并按对方当事人人数提出副本，上诉于苏州市中级人民法院，同时向该院（开户行：中国农业银行苏州苏福路支行，帐号：10×××76）预交上诉案件受理费。', '自定义_裁判文书_全文': '苏州市姑苏区人民法院 民事判决书 （2016）苏0508民初7339号 原告：张安育，女，1983年3月10日出生，回族，住上海市卢湾区。 委托诉讼代理人：唐宗凡，上海普世律师事务所律师。 被告：葛军，男，1987年11月23日出生，汉族，住江苏省苏州市姑苏区。 委托诉讼代理人：孙宏阳，江苏卓华律师事务所律师。 原告张安育与被告葛军不当得利纠纷一案，本院于2016年11月17日立案后，依法适用简易程序，于2016年12月14日、2017年1月18日公开开庭进行了审理。原告张安育的委托诉讼代理人唐宗凡、被告葛军的委托诉讼代理人孙宏阳两次开庭到庭参加诉讼。本案现已审理终结。 原告张安育向本院提出诉讼请求：1．请求判令被告返还原告人民币30万元；2．本案诉讼费由被告承担。事实和理由：原、被告系朋友。被告注册了苏州佩丰洐餐饮有限公司，并经营了“奥韵烧烤”餐厅（地址：姑苏区西环路875号）。2016年初被告找到原告，让原告投资该餐厅。鉴于是朋友关系，原告先给被告汇款了30万元，但是对于如何投资、收益如何分配等双方并未进行过约定，更没有签署过任何协议。后被告一直未就投资事宜与原告协商过，也不告知原告30万的用途以及餐厅的经营情况。原告认为，双方并未就投资餐厅一事达成过任何合意，并未成立合同关系，被告理应返还原告30万元。故原告诉至法院。 被告葛军辩称，原告在诉状中陈述被告要求原告投资，说明原告认可自己的行为系投资行为；根据原告提供的微信聊天记录可以看出双方已经实际履行合伙经营餐厅的行为；根据相关法律规定，即使合伙协议没有约定双方的出资份额也可以根据出资额来确定，故被告认为原告的诉请无法律依据，应当予以驳回。 本案当事人围绕诉讼请求依法提交了证据，本院组织当事人进行了证据交换和质证。原告向本院提供了汇款凭证、工商登记信息、微信聊天记录，被告对该组证据的真实性均无异议；被告向本院提供了微信聊天记录、营业执照、工商登记信息，原告对该组证据的真实性均无异议。根据当事人陈述和经审查确认的证据，本院认定事实如下：原、被告原系朋友关系。2016年初左右，葛军与张安育协商，希望其投资葛军名下的餐厅，2016年3月7日，张安育通过其名下中国工商银行账户向葛军名下的中国工商银行账户转账汇入30万元。但原、被告就双方出资比例、盈余分配比例等事项未作书面约定。2016年3月8日，被告葛军经工商部门核准，注册成立名称为苏州培丰洐餐饮有限公司的有限责任公司，股东为葛海霞、葛军，后于2016年5月19日注册成立名称为姑苏××臻鲜道餐馆的个体工商户，经营场所均在苏州市××环路水韵××室。姑苏××臻鲜道餐馆目前仍处于营业状态。 2016年3月-6月，原、被告多次就餐厅装修及名称事宜在微信平台上聊天沟通，张安育在微信中提到：“和律师沟通下来两种方案：1．按照你出的钱和我出的钱直接划分股份，根据店里经营状况，每半年或者一年分红，由于我不参与管理，所以每月营业额报表需要给到我这边查看；2．全当我借你钱，帮你，你直接商定何时还我钱，还我之前看利息怎么算，我也不需要任何股份”。葛军回复称：“我同意按出钱的比例分摊收益和亏损，但是营业额里面除去日常开支以外我需要算一份工资撇在分红外面的，你觉得可合理？”张安育回答：“如果是方案一，如果是开始在亏损，那我和你按照投入比例就要继续投钱……对于你的工资是否合理看你工资金额……所有财务报表必须是电子档，手写实在说不过去，财务报表还是正规一些比较好”。2016年8月，张安育认为双方从未签订合作协议，且葛军一直未告诉其店面的经营状况，双方关系恶化，张安育在微信上要求葛军返还30万，葛军称：“别人不入股哪来的钱给你……按道理从3月份到现在你自己说投25万的，除掉房租亏损跟装修完转让剩下的部分才是你的……我只承认30万里面有5万是算借的，其他25万是你自己说要投的，不然也没有后续装修改造这些事情”。之后，原、被告协商无果，遂诉至本院。 审理中，被告陈述其先注册了有限责任公司，但发现无法办理卫生许可证，便又注册了名称为姑苏××臻鲜道餐馆的个体工商户，双方合伙的餐厅就是以这个个体工商户经营的；原告对该事实不予认可，称其对被告申请注册个体工商户事宜毫不知情。诉讼中，本院通知双方当事人于2016年12月30日至姑苏××臻鲜道餐馆进行现场清点并核对账目，但原告认为没有必要盘点，拒绝至现场。 本院认为，根据法律规定，不当得利是指没有法律或合同等合法根据，因他人财产受到损失而使自己获得的利益。关于得利人取得利益没有合法根据是指一方的给付行为欠缺原因。本案中，张安育、葛军达成口头协议，张安育向葛军付款用于经营餐馆，葛军负责日常管理，双方之间的关系符合个人合伙的法律关系特征。个人合伙的经营活动，由合伙人共同决定。虽然双方就出资比例、盈余分配、债务承担比例等事项未进行书面约定，但原、被告在诉讼中仍可就上述事项进行协商处理。故本院认为张安育向葛军汇款30万元并不存在支付对象错误的情形，而葛军占有30万元的行为也并非不当得利。原告对法律的理解有误，但经本院释明后仍然坚持以不当得利起诉，也不同意去现场清点、对账，故本案在未经清算、合伙经营期间盈亏不明的情况下，张安育要求葛军全额返还30万元的诉请，本院碍难支持。 依照《中华人民共和国民法通则》第九十二条、《中华人民共和国民事诉讼法》第六十四条第一款、《最高人民法院关于民事诉讼证据的若干规定》第二条的规定，判决如下： 驳回原告张安育的全部诉讼请求。案件受理费5800元，适用简易程序减半收取2900元，由原告张安育负担。 如不服本判决，可在判决书送达之日起十五日内，向本院递交上诉状，并按对方当事人人数提出副本，上诉于苏州市中级人民法院，同时向该院（开户行：中国农业银行苏州苏福路支行，帐号：10×××76）预交上诉案件受理费。 审判员陈瑾 二〇一七年二月十日 书记员张筱 ', '法条': ['《中华人民共和国民事诉讼法》第六十四条第一款', '《中华人民共和国民法通则》第九十二条', '《最高人民法院关于民事诉讼证据的若干规定》第二条'], '案例属性': {'案件类别': '民事案件', '文书种类': '判决书', '经办法院': '苏州市姑苏区人民法院', '法官成员': ['陈瑾', '张筱', '陈瑾'], '案由': '不当得利纠纷'}, 'vec': [0.19810118546775815, -0.3227760021442585, 0.049738798939257894, 0.05458905401307067, -0.36617004948968873, 0.3433766371591588, -0.4184886684545302, -0.12314413926830625, 0.20867494529554265, 0.4117692081291631, -0.2525542069320067, 0.12371315416732531, 0.10373307219911958, 0.038959588740771545, -0.12703137048457672, -0.053624724075970374, -0.06878644694286357, -0.15892505202218352, -0.15089129662277143, 0.15640362991188564, 0.06418184812260258, -0.15102907579962424, -0.07774495187755037, -0.15145720651757322, -0.10606357621653655, 0.08991804179925168, 0.1742195162639003, 0.2352151279829837, 0.030535464135484757, -0.15289749335151004, 0.02554283688039678, -0.16384691862876752, 0.05499085714840494, -0.24000073572104194, 0.02156635544519642, 0.13920630708235332, -0.062297732685326984, 0.23727446857375625, -0.010553275343588197, -0.2573421500252774, -0.05772464919054206, -0.13879576891431222, 0.0129699298992622, -0.1651305315984488, 0.02098095790059041, 0.2703221919040203, -0.19897248336687584, 0.1432381469960969, 0.2715185296359933, -0.12256171880743288, -0.1910007151080519, -0.24580177525409388, -0.284259349094141, -0.13573001915806596, -0.32814910069772574, -0.043319867038035365, 0.1822790255378575, 0.4661115299642376, -0.05036192733985161, -0.48539689519201595, 0.15338064252583036, -0.04078887112473925, 0.3251546414141384, -0.034093994839437515, 0.11068521987020281, -0.05949674827836326, 0.28603777519603324, -0.1821335834482025, 0.11108733549095157, 0.20265602140339914, 0.11948872483790136, 0.09485516674967538, 0.01427054607074523, -0.08001956120860264, -0.11718289919414229, 0.34103133531852425, 0.015182433450412024, -0.07987460245203692, -0.14553183233112404, 0.1549606031795113, 0.21251220575910548, 0.03612946393831174, -0.35464911932934745, -0.017441870518474508, -0.156697757284968, -0.07987319896069013, -0.17902521036074487, -0.1990992847282569, -0.1624013962658197, -0.16364383464364685, -0.1538563544686143, -0.03375694634575378, -0.07109763820353783, 0.10972822758926508, -0.1283530250875263, -0.007682468820522404, -0.07725499112371954, 0.18057406553457464, 0.1529291904346851, -0.058884744508128764]}, 'highlight': {'法条': ['《<em>中华人民共和国</em><em>民事诉讼法</em>》<em>第六十</em><em>四条</em><em>第一款</em>', '《<em>中华人民共和国</em><em>民法通则</em>》<em>第九十</em><em>二条</em>', '《最高人民法院关于民事诉讼证据的若干规定》第<em>二条</em>']}}, {'_index': 'new-case-data', '_id': '54430', '_score': 11.080841, '_ignored': ['全文.附件.keyword', '自定义_裁判文书_查明事实段.keyword', '自定义_裁判文书_裁判分析过程.keyword', '全文.裁判分析过程.keyword', '自定义_裁判文书_全文.keyword', '全文.案件基本情况.keyword', '自定义_裁判文书_原告诉称段.keyword'], '_source': {'全文': {'文首': {'文书制作单位': '法院', '法院文书种类': '裁判文书', '经办法院': '广东省深圳市宝安区人民法院', '文书名称': '民事判决书', '案号': '（2015）深宝法民一初字第4792号', '案件类别': '民事案件', '文书种类': '判决书', '审判程序': '一审案件', '案件类型': '民事一审案件'}, '当事人': '原告深圳市协力达精密五金电子有限公司。 委托代理人唐蓉，广东康顺律师事务所律师。 被告曹武志。', '诉讼记录': ' 上列当事人不当得利纠纷一案，本院立案受理后，依法适用普通程序公开开庭进行了审理。原告的委托代理人唐蓉到庭参加了诉讼，被告经本院合法程序传唤无正当理由拒不到庭参加诉讼，本院依法按缺席审理。本案现已审理终结。', '案件基本情况': ' 原告诉称，被告系原告的员工，2012年6月5日入职原告处。被告利用其职务上的便利，通过偷盖公司公章的方式，将公司的收款账号私自改为原告已离职员工吴甜甜的账号，并通过其持有的吴甜甜的银行卡收取客户货款，后被告将部分货款转回原告账户，同时以一部分货品为次品被客户退回为由，从中截留原告的部分货款。自2013年8月至2014年2月期间，被告人通过上述方式侵占原告货款123048.66元。被告无视国家法律，利用职务上的便利将原告的财物非法占为己有，对原告造成巨大的经济损失。现为追回此款，原告特提起诉讼，请求法院依法判令：1、被告赔偿原告因其职务侵占行为所造成的损失123048.66元；2、被告承担本案的诉讼费用。 被告未出庭应诉，也未提交书面答辩意见。 本院审理查明，被告曾系原告公司员工，其职务是业务员、跟单员，工作职责包括向原告公司的客户催收货款。被告在职期间，利用职务上的便利，通过偷盖原告公司公章的方式，将公司的收款账号私自改为了原告公司已离职员工吴甜甜的工商银行账号（卡号为62×××91），并通过其持有的吴甜甜的工商银行卡收取客户货款，在收到客户支付的货款后，被告再通过吴甜甜的账号将部分货款转回原告公司账号，同时以一部分货品为次品被客户退回为由，从中截留了原告公司的部分货款。经查，2013年8月至2014年期间，被告通过上述方式侵占原告公司货款共计127048.66元。被告以2014年4、5月工资抵扣上述侵占金额，故被告最终侵占金额为123048.66元。本院已认定被告的职务侵占行为构成职务侵占罪，依法作出了（2014）深宝法刑初字第3454号刑事判决书，该刑事案件的赃款未追缴或理赔。 以上事实，有原告的当庭陈述（2014）深宝法刑初字第3454号刑事判决书等证据在卷证实。 ', '裁判分析过程': '本院认为，被告经合法传唤，无正当理由未到庭参加诉讼，也未提交书面答辩，视为放弃对本案的抗辩。根据法律规定，犯罪分子非法占有、处置被害人财产而使其遭受物质损失的，人民法院应当依法予以追缴或者责令退赔，经过追缴或退赔仍不能弥补损失，被害人向人民法院民事审判庭另行提起民事诉讼的，人民法院可以受理。本案中，由于被告的职务侵占犯罪行为，给原告造成了123048.66元的经济损失，且赃款已无被追缴或退赔的可能，故被告应向原告返还侵占的不当得利款123048.66元。 综上，依照《中华人民共和国民法通则》第九十二条，《中华人民共和国民事诉讼法》第六十四条第一款，《中华人民共和国民事诉讼法》第一百四十四条、《最高人民法院关于贯彻执行〈中华人民共和国民法通则〉若干问题的意见（试行）》第一百三十一之规定，缺席判决如下：', '判决结果': ' 被告曹武志应于本判决生效之日起三日内返还原告深圳市协力达精密五金电子有限公司不当得利款123048.66元。 如被告未按本判决指定的期间履行给付金钱义务，应当依照《中华人民共和国民事诉讼法》第二百五十三条之规定，加倍支付迟延履行期间的债务利息。 案件受理费2760元，由被告曹武志承担。 如不服本判决，可在判决书送达之日起十五日内，向本院递交上诉状，并按对方当事人的人数提出副本，上诉于广东省深圳市中级人民法院。', '文尾': ' 审判长殷耀华 人民陪审员邓平 人民陪审员王丽萍 二〇一六年七月二十九日 书记员梁嘉芮（兼） 书记员曾雄', '附件': ' 附本案相关法律条文如下： 《中华人民共和国民法通则》 第九十二条没有合法根据，取得不当利益，造成他人损失的，应当将取得的不当利益返还受损失的人。 《中华人民共和国民事诉讼法》 第六十四条当事人对自己提出的主张，有责任提供证据。 第一百四十四条被告经传票传唤，无正当理由拒不到庭的，或者未经法庭许可中途退庭的，可以缺席判决。 第二百五十三条被执行人未按判决、裁定和其他法律文书指定的期间履行给付金钱义务的，应当加倍支付迟延履行期间的债务利息。被执行人未按判决、裁定和其他法律文书指定的期间履行其他义务的，应当支付迟延履行金。 第1页共4页 ', '文书是否模糊': '否'}, '自定义_裁判文书_裁判分析过程': '本院认为，被告经合法传唤，无正当理由未到庭参加诉讼，也未提交书面答辩，视为放弃对本案的抗辩。根据法律规定，犯罪分子非法占有、处置被害人财产而使其遭受物质损失的，人民法院应当依法予以追缴或者责令退赔，经过追缴或退赔仍不能弥补损失，被害人向人民法院民事审判庭另行提起民事诉讼的，人民法院可以受理。本案中，由于被告的职务侵占犯罪行为，给原告造成了123048.66元的经济损失，且赃款已无被追缴或退赔的可能，故被告应向原告返还侵占的不当得利款123048.66元。 综上，依照《中华人民共和国民法通则》第九十二条，《中华人民共和国民事诉讼法》第六十四条第一款，《中华人民共和国民事诉讼法》第一百四十四条、《最高人民法院关于贯彻执行〈中华人民共和国民法通则〉若干问题的意见（试行）》第一百三十一之规定，缺席判决如下：', '自定义_裁判文书_原告诉称段': '原告诉称，被告系原告的员工，2012年6月5日入职原告处。被告利用其职务上的便利，通过偷盖公司公章的方式，将公司的收款账号私自改为原告已离职员工吴甜甜的账号，并通过其持有的吴甜甜的银行卡收取客户货款，后被告将部分货款转回原告账户，同时以一部分货品为次品被客户退回为由，从中截留原告的部分货款。自2013年8月至2014年2月期间，被告人通过上述方式侵占原告货款123048.66元。被告无视国家法律，利用职务上的便利将原告的财物非法占为己有，对原告造成巨大的经济损失。现为追回此款，原告特提起诉讼，请求法院依法判令：1、被告赔偿原告因其职务侵占行为所造成的损失123048.66元；2、被告承担本案的诉讼费用。', '自定义_裁判文书_被告辩称段': '被告未出庭应诉，也未提交书面答辩意见。', '自定义_裁判文书_证据段': '以上事实，有原告的当庭陈述（2014）深宝法刑初字第3454号刑事判决书等证据在卷证实。 ', '自定义_裁判文书_查明事实段': '本院审理查明，被告曾系原告公司员工，其职务是业务员、跟单员，工作职责包括向原告公司的客户催收货款。被告在职期间，利用职务上的便利，通过偷盖原告公司公章的方式，将公司的收款账号私自改为了原告公司已离职员工吴甜甜的工商银行账号（卡号为62×××91），并通过其持有的吴甜甜的工商银行卡收取客户货款，在收到客户支付的货款后，被告再通过吴甜甜的账号将部分货款转回原告公司账号，同时以一部分货品为次品被客户退回为由，从中截留了原告公司的部分货款。经查，2013年8月至2014年期间，被告通过上述方式侵占原告公司货款共计127048.66元。被告以2014年4、5月工资抵扣上述侵占金额，故被告最终侵占金额为123048.66元。本院已认定被告的职务侵占行为构成职务侵占罪，依法作出了（2014）深宝法刑初字第3454号刑事判决书，该刑事案件的赃款未追缴或理赔。 ', '自定义_裁判文书_当事人': '原告深圳市协力达精密五金电子有限公司。 委托代理人唐蓉，广东康顺律师事务所律师。 被告曹武志。', '自定义_裁判文书_判决结果': ' 被告曹武志应于本判决生效之日起三日内返还原告深圳市协力达精密五金电子有限公司不当得利款123048.66元。 如被告未按本判决指定的期间履行给付金钱义务，应当依照《中华人民共和国民事诉讼法》第二百五十三条之规定，加倍支付迟延履行期间的债务利息。 案件受理费2760元，由被告曹武志承担。 如不服本判决，可在判决书送达之日起十五日内，向本院递交上诉状，并按对方当事人的人数提出副本，上诉于广东省深圳市中级人民法院。', '自定义_裁判文书_全文': '广东省深圳市宝安区人民法院 民事判决书 （2015）深宝法民一初字第4792号 原告深圳市协力达精密五金电子有限公司。 委托代理人唐蓉，广东康顺律师事务所律师。 被告曹武志。 上列当事人不当得利纠纷一案，本院立案受理后，依法适用普通程序公开开庭进行了审理。原告的委托代理人唐蓉到庭参加了诉讼，被告经本院合法程序传唤无正当理由拒不到庭参加诉讼，本院依法按缺席审理。本案现已审理终结。 原告诉称，被告系原告的员工，2012年6月5日入职原告处。被告利用其职务上的便利，通过偷盖公司公章的方式，将公司的收款账号私自改为原告已离职员工吴甜甜的账号，并通过其持有的吴甜甜的银行卡收取客户货款，后被告将部分货款转回原告账户，同时以一部分货品为次品被客户退回为由，从中截留原告的部分货款。自2013年8月至2014年2月期间，被告人通过上述方式侵占原告货款123048.66元。被告无视国家法律，利用职务上的便利将原告的财物非法占为己有，对原告造成巨大的经济损失。现为追回此款，原告特提起诉讼，请求法院依法判令：1、被告赔偿原告因其职务侵占行为所造成的损失123048.66元；2、被告承担本案的诉讼费用。 被告未出庭应诉，也未提交书面答辩意见。 本院审理查明，被告曾系原告公司员工，其职务是业务员、跟单员，工作职责包括向原告公司的客户催收货款。被告在职期间，利用职务上的便利，通过偷盖原告公司公章的方式，将公司的收款账号私自改为了原告公司已离职员工吴甜甜的工商银行账号（卡号为62×××91），并通过其持有的吴甜甜的工商银行卡收取客户货款，在收到客户支付的货款后，被告再通过吴甜甜的账号将部分货款转回原告公司账号，同时以一部分货品为次品被客户退回为由，从中截留了原告公司的部分货款。经查，2013年8月至2014年期间，被告通过上述方式侵占原告公司货款共计127048.66元。被告以2014年4、5月工资抵扣上述侵占金额，故被告最终侵占金额为123048.66元。本院已认定被告的职务侵占行为构成职务侵占罪，依法作出了（2014）深宝法刑初字第3454号刑事判决书，该刑事案件的赃款未追缴或理赔。 以上事实，有原告的当庭陈述（2014）深宝法刑初字第3454号刑事判决书等证据在卷证实。 本院认为，被告经合法传唤，无正当理由未到庭参加诉讼，也未提交书面答辩，视为放弃对本案的抗辩。根据法律规定，犯罪分子非法占有、处置被害人财产而使其遭受物质损失的，人民法院应当依法予以追缴或者责令退赔，经过追缴或退赔仍不能弥补损失，被害人向人民法院民事审判庭另行提起民事诉讼的，人民法院可以受理。本案中，由于被告的职务侵占犯罪行为，给原告造成了123048.66元的经济损失，且赃款已无被追缴或退赔的可能，故被告应向原告返还侵占的不当得利款123048.66元。 综上，依照《中华人民共和国民法通则》第九十二条，《中华人民共和国民事诉讼法》第六十四条第一款，《中华人民共和国民事诉讼法》第一百四十四条、《最高人民法院关于贯彻执行〈中华人民共和国民法通则〉若干问题的意见（试行）》第一百三十一之规定，缺席判决如下： 被告曹武志应于本判决生效之日起三日内返还原告深圳市协力达精密五金电子有限公司不当得利款123048.66元。 如被告未按本判决指定的期间履行给付金钱义务，应当依照《中华人民共和国民事诉讼法》第二百五十三条之规定，加倍支付迟延履行期间的债务利息。 案件受理费2760元，由被告曹武志承担。 如不服本判决，可在判决书送达之日起十五日内，向本院递交上诉状，并按对方当事人的人数提出副本，上诉于广东省深圳市中级人民法院。 审判长殷耀华 人民陪审员邓平 人民陪审员王丽萍 二〇一六年七月二十九日 书记员梁嘉芮（兼） 书记员曾雄 附本案相关法律条文如下： 《中华人民共和国民法通则》 第九十二条没有合法根据，取得不当利益，造成他人损失的，应当将取得的不当利益返还受损失的人。 《中华人民共和国民事诉讼法》 第六十四条当事人对自己提出的主张，有责任提供证据。 第一百四十四条被告经传票传唤，无正当理由拒不到庭的，或者未经法庭许可中途退庭的，可以缺席判决。 第二百五十三条被执行人未按判决、裁定和其他法律文书指定的期间履行给付金钱义务的，应当加倍支付迟延履行期间的债务利息。被执行人未按判决、裁定和其他法律文书指定的期间履行其他义务的，应当支付迟延履行金。 第1页共4页 ', '法条': ['《中华人民共和国民事诉讼法》第六十四条第一款', '《中华人民共和国民事诉讼法》第一百四十四条', '《中华人民共和国民法通则》第九十二条'], '案例属性': {'案件类别': '民事案件', '文书种类': '判决书', '经办法院': '广东省深圳市宝安区人民法院', '法官成员': ['殷耀华', '邓平', '王丽萍', '梁嘉芮', '曾雄', '殷耀华'], '案由': None}, 'vec': [0.2526118809600239, -0.28605066549405145, -0.0010906742315020656, 0.0614622410757753, -0.44325405627841064, 0.38657209713223784, -0.3791762835635838, -0.15099004999560034, 0.18709540524949042, 0.4204229020963681, -0.2341340740668209, 0.08343970596552422, 0.10333249983384568, 0.02066051673849213, -0.13444546453940293, -0.08021329750344282, -0.05947075647778535, -0.20481219481311608, -0.228878811110114, 0.2039446771961721, 0.043076323281450314, -0.16272364263371197, -0.0204381978732649, -0.13079890797689891, -0.14439560014757552, 0.049841018141873014, 0.1848029894514841, 0.21322553972313593, 0.014928147261985656, -0.21107695028792497, 0.03805296363879641, -0.18035920841536052, 0.05809147976008695, -0.32855148628520714, 0.05144050671254911, 0.14367308921685262, -0.029357705363119664, 0.21616531880993664, -0.07123898235005623, -0.2949763512737032, -0.035831428447155825, -0.10288038079518425, -0.012690809646848726, -0.11060667805837772, -0.009107522206888772, 0.29564590823453507, -0.18363271403768067, 0.14381249172805363, 0.3339443249179418, -0.17797768111636605, -0.20459756689312802, -0.23625429044828056, -0.40995395064967555, -0.09504612418355725, -0.3004738457380626, -0.15837517645659044, 0.18480020968701355, 0.4873338651313465, -0.16026012691529778, -0.5487999400290595, 0.25955532587605046, -0.07181408948170209, 0.3606369860367507, -0.05308616049155549, 0.10738770491412426, 0.03711202997639526, 0.22284424397627198, -0.16980038270514683, 0.10545577306191774, 0.15950115889193642, 0.06772976627193367, 0.06122012481943745, 0.032921840499831136, -0.08333229322479352, -0.10000349706222605, 0.3398779422117952, 0.04140931153693314, -0.09430684397630955, -0.1723360131326502, 0.07851135754659165, 0.25101250495853517, 0.08558511461011939, -0.4164911744118213, 0.030497834683679368, -0.17686340633552383, -0.005601191435345638, -0.11585668897813803, -0.23609848310774773, -0.1756716983219185, -0.1628784576146108, -0.22306903698431005, -0.0011175179824444862, -0.09150623902989968, 0.14451467075209057, -0.1685311882693138, 0.06381776313078247, 0.018792018142804685, 0.1788536987458605, 0.15212421233564877, -0.058403117808608344]}, 'highlight': {'法条': ['《<em>中华人民共和国</em><em>民事诉讼法</em>》<em>第六十</em><em>四条</em><em>第一款</em>', '《<em>中华人民共和国</em><em>民事诉讼法</em>》第一百四十<em>四条</em>', '《<em>中华人民共和国</em><em>民法通则</em>》<em>第九十</em><em>二条</em>']}}, {'_index': 'new-case-data', '_id': '51495', '_score': 10.990735, '_ignored': ['自定义_二审裁判文书_本审审理段.keyword', '自定义_二审裁判文书_前审审理段.keyword', '自定义_二审裁判文书_裁判分析过程.keyword', '全文.裁判分析过程.keyword', '全文.当事人.keyword', '全文.案件基本情况.keyword'], '_source': {'全文': {'文首': {'文书制作单位': '法院', '法院文书种类': '裁判文书', '经办法院': '四川省广元市中级人民法院', '文书名称': '民事判决书', '案号': '（2016）川08民终818号', '案件类别': '民事案件', '文书种类': '判决书', '审判程序': '二审案件', '案件类型': '民事二审案件'}, '当事人': '上诉人（原审被告）刘荣梅，女，生于1989年12月9日，汉族，初中文化，务农，住四川省广元市朝天区。 上诉人（原审被告）刘某，男，生于2009年12月19日，汉族，住四川省广元市朝天区。 法定代理人刘荣梅，女，生于1989年12月9日，汉族，初中文化，务农，住四川省广元市朝天区。系刘某母亲。 上诉人（原审第三人）刘代明，男，生于1966年8月7日，汉族，初中文化，农民，住四川省广元市朝天区。 上诉人（原审第三人）谢开英，生于1966年3月29日，汉族，农民，初识字，住四川省广元市朝天区平。 以上四上诉人委托代理人华平，四川立韬律师事务所律师。 以上四上诉人委托代理人何芳，四川立韬律师事务所律师。 被上诉人（原审原告）赵德友，男，生于1955年3月21日，汉族，初识字，农民，住四川省广元市朝天区。 委托代理人丁映升，四川蜀道律师事务所律师。 被上诉人（原审原告）刘泽珍，女，生于1958年1月22日，汉族，初识字，农民，住四川省广元市朝天区。 委托代理人罗华成，广元市朝天区朝天法律服务所法律工作者。', '诉讼记录': ' 上诉人刘荣梅、刘某、刘代明、谢开英因共有纠纷一案，不服四川省广元市朝天区人民法院（2016）川0812民初555号民事判决，向本院提起上诉。本院受理后依法组成合议庭公开开庭进行了审理，上诉人刘荣梅、刘代明及其委托代理人华平、何芳，被上诉人赵德友的委托代理人丁映升，被上诉人刘泽珍的委托代理人罗华成到庭参加了诉讼。本案现已审理终结。', '案件基本情况': ' 刘荣梅、刘某、刘代明、谢开英的上诉请求：请求撤销一审判决，驳回被上诉人在一审中的诉讼请求。事实和理由：一、《工伤死亡赔偿协议》将死者岳父母即第三人刘代明、谢开英纳入赔偿范围，不违反法律、法规强制性规定，达成的协议属于公民意思自治，应认定有效；二、撤销协议内容不符合法律规定。死者事后赔偿事宜被上诉人及其亲属全程参与所形成的合意，其赔偿协议、赔偿款的分割还是被上诉人亲属确定的，协议罗列了赔偿权利主体，且注明了被上诉人明确协议内容，即被上诉人对纳入第三人是不持异议的。不存在合同法规定的五种撤销情形；三、赔偿协议对被上诉人具有约束力。虽然协议就形式而言只有上诉人刘荣梅签字，但被上诉人对上诉人的签字予以认可，一审法院也认为赔偿协议合法有效；四、判决内容自相矛盾。首先，一审认定赔偿协议中死者近亲属内容分配协议无效，无效条款自始无效，如何撤销？其此，一审法院依照工伤保险条例计算丧葬补助费和一次性工亡补助金，却依照人身损害赔偿标准计算供养亲属抚恤金，法律适用混乱；五、赔偿义务方应当作为当事人参与诉讼。协议虽然约定由上诉人支付给被上诉人，但实际履行中确实赔偿义务人直接转账20万给被上诉人，由于赔偿义务人按照协议进行分配，既然撤销协议，赔偿义务人应当作为当事人参与诉讼。 被上诉人赵德友辩称，一审判决正确，根据相关法律，对亲属享有的范围有一个详细的规定，本案把岳父母纳入赔偿范围，损害了被上诉人的财产权利；一审针对赔偿分割部分认定无效，是正确的。请求驳回上诉。 被上诉人刘泽珍辩称，一审处理得当。依据现有法律，岳父母不是赔偿权利主体，协议违反了合同法和劳动保障条例，一审处理正确。请求驳回上诉。 一审法院认定事实，原告之子赵少兵在甘肃省天水市务工，于2015年7月26日发生事故，因抢救无效于2015年7月26日11时许死亡。死者赵少兵之妻刘荣梅（本案被告）与用工单位达成《工伤死亡赔偿协议》：甲方代表刘杰，乙方代表刘荣梅（供养亲属及直系亲属身份情况：赵德友系死者赵少兵之父；本案原告；刘泽珍系死者赵少兵之母，本案原告；刘某，系死者之子，本案被告；刘代明系死者赵少兵岳父，本案第三人；谢开英系死者赵少兵岳母，本案第三人）。2015年7月31日甲乙双方签订了《工伤死亡赔偿协议》。为妥善解决赵少兵死亡善后事宜，甲、乙双方依据《中华人民共和国劳合同法》、《工伤保险条例》等法律、法规本着平等协商、互谅的原则，经双方协商达成如下协议：一、赔偿金额：甲方向乙方支付各项赔偿金共计88万元，该费用包含依照《工伤保险条例》甲方应依法支付的全部费用，包括丧葬补助金、供养亲属抚恤金、一次性工亡补助金等，除上述费用外，乙方不得再向甲方主张赔偿任何费用。乙方及其近亲属不得就工伤赔偿事宜向甲方提出任何形式的赔偿要求，不得向有关政府部门投诉本事件；或有任何异议，否则，乙方应无条件返还甲方支付的全部赔偿款项，并承担相关的法律责任。二、付款方式和期限：甲方于2015年7月31日前支付乙方全部赔偿金88万元，支付方式为银行转款一次性支付，领款人为死者妻子刘荣梅（个人卡号：XXXXX），开户行：四川省广元市朝天区曾家邮局营业所。乙方开具收款收据。该款项在乙方的分配方式为刘荣梅、刘代明、谢开英、刘某人民币68万元；赵德友、刘泽珍人民币20万元，乙方各位成员不持异议。如由此引发争议，概由乙方负责，与甲方无关（此款由死者的妻子支付给赵德友、刘泽珍）。三、1、甲方迟延支付的，乙方有权要求甲方一次性支付余款。乙方违约的，乙方需向甲方支付人民币20万元违约金。2、因任何一方违约导致诉讼，仲裁或申请强制执行的，应当向对方支付实现债权的费用，包括调查取证费、通讯费、律师费等。乙方保证在签署本协议时，确认其赵少兵的全部直系亲属并得到所有近亲属的授权及认可，已清楚了解自己在协议中的权利和义务，就协议中所涉及的法律问题及其他问题咨询相关专业人士，并清楚明白甲乙双方在自愿的基础上签订本协议。四、其他。甲乙双方发生争议应当友好协商解决。如协商不成，任何一方都有权将争议提交给甲方所在地的人民法院诉讼解决。2、协议签订后再无其他争议，任何一方不得反悔，3、协议一式六份，甲乙双方各持一份，平溪乡李家村村委会一份、麻柳乡四坪村村委会一份，自双方签单之日起生效。具备同等法律效力。另查明：原告赵德友，男，生于1955年3月21日，系死者生父，案发时已满60周岁，并丧失劳动能力；原告刘泽珍，女，生于1958年1月22日，系死者生母，案发时已满50周岁；被告刘荣梅，女，生于1989年12月9日，系死者妻子，被告刘某，男，生于2009年12月19日，系死者之子；第三人刘代明，男，生于1966年8月7日，系死者岳父，第三人谢开英，女，生于1966年3月29日，系死者岳母。另查明，二原告生有三个子女，长子赵少兵（本案死者），生于1980年10月20日，次子赵勇，生于1989年6月6日，身份证号码：XXXXX，长女赵少兰，生于1989年6月6日，身份证号码：XXXXXX．案发前，被告刘荣梅身怀有孕，被告于2015年农历十一月做了流产。2014年度甘肃天水市统筹地区年平均工资为43442元，赵少兵因工死亡的损失：一、丧葬费为21812元（43442元÷2）；二、一次性工亡补助金为576880元（28844元×20）；三、供养亲属抚恤金：1、原告赵德友应得抚恤金：289613.33元［（43442元÷3）×20］，其请求为260640元；2、原告刘泽珍应得抚恤金：289613.33元［（43442元÷3）×20］，其请求为260640元；3、被告刘某应得抚恤金：260652元［（43442元÷2）×（18-6）］，原告赵德友、原告刘泽珍、被告刘某共计应获得抚恤金为781932元。四、实际获得的抚恤金。1、近亲属实际获得的抚恤金的总额。二原告及被告刘某实际获得的抚恤金共计为281508元（880000元-21612元-576880元）；2、实际获得的抚恤金所占的比例为0.3555（281508元÷181932元）；3、近亲属实际获得的抚恤金：原告赵德友：92657.52元（260640元×0.3555）；原告刘泽珍：92657.52元（260640元×0.3555）；二原告共计185315.04元（92657.52元＋92657.52元）；被告刘某：92661.79元（260652元×0.3555）。四、一次性工亡补助金的分割（平均分割）：原告赵德友、原告刘泽珍、被告刘荣梅、被告刘某均应获得工亡补助金144220元（576880元÷4）；五、原告赵德友、原告刘泽珍在本案中应分得的财产共计213755.04元［144220元×2-60000元-14684.96元（实际多得的抚恤金=200000元-185315.04元）］。 一审法院认为，死者赵少兵与其亲属达成了《工伤死亡赔偿协议》，用工单位已按赔偿协议全部履行其义务，不存在争议，本案争议的焦点是一次性工伤死亡补偿金的分割，涉及死者亲属内部分配协议的效力，并不能对抗用工单位与死者近亲属所形成的赔偿协议的效力。根据中华人民共和国劳动和社会保障部令第18号《因工死亡职工供养亲属范围规定》的第二条第一款“本规定所称因工死亡职工供养亲属，是指该职工的配偶、子女、父母、祖父母、外祖父母、孙子女、外孙子女、兄弟姐妹。”该条第二款“本规定所称子女，包括婚生子女、非婚生子女、养子女和有抚养关系的继子女，其中，婚生子女、非婚生子女包括遗腹子女；”该条第三款“本规定所称父母，包括生父母、养父母和有抚养关系的继父母；”因此，本案第三人刘代明、谢开英是死者赵少兵的岳父、岳母，不属死者生前供养亲属的范围，其获得工亡保险待遇违反了上列法律规定，所获得的财产应予返还给有权利请求人；本案中依法应获得赔偿的权利请求人有死者赵少兵的配偶刘荣梅（本案被告），死者的父母赵德友、刘泽珍（本案的原告），死者的儿子刘某，故死者近亲属的内部分配协议无效。在用工方履行了赔偿协议后，死者近亲属因此引发的纠纷，属于共有财产纠纷。其丧葬费、死者生前供养亲属的费用依法不得分配，但一次性死亡补偿金应在享有权利请求人的范围内依法平均分割；一次性工亡补助金为576880元，原告赵德友、原告刘泽珍、被告刘荣梅、被告刘某均应获得工亡补助金144220元（576880元÷4）；原告赵德友、原告刘泽珍在形成死亡赔偿协议时，让与其孙子的6万元，系道德赠与行为，系二原告的真实意识表示，合法有效，并不得撤销，应予扣减，二原告实际多得的抚恤金14684.96元亦应扣减，二原告在本案中应分得的财产共计213755.04元［144220元×2-60000元-14684.96元（实际多得的抚恤金200000元-185315.04元）。原告请求人民法院依法撤销《工伤死亡赔偿协议》中关于亲属对赔偿金分配方式的内容条款的理由成立，本院予以支持；诉请判决被告立即支付给原告应当享有的赔偿金288440元的合法有理部分，本院予以支付，但过高请求，本院不予采信。被告刘荣梅，被告刘某及第三人辩解的：1、对于原告陈述的赵少斌死亡支付赔偿88万元无异议；2、对被告支付给原告供养亲属20万元是由用工方直接支付给原告的，不是被告支付的；3、达成的死亡赔偿协议，包含了三方达成的协议，本案请求撤销也包括第三方在内，不得损害第三人的权利；4、经查明，88万元均是由原告提出赔多少，怎么样分配，都是原告决定的，被告是配合原告，所以本案没有撤销的事实理由与用工方与死者亲属所形成的赔偿协议已履行，系其双方的真实意识表示的案件事实不符，与相关法律规定不符，其理由不成立，本院不予采信。据此，根据《中华人民共和国民法通则》第六十一条第一款，第八十四条，第八十六条，第九十二条，《中华人民共和国民事诉讼法》第一百四十二条的规定，判决如下： 一、撤销《工伤死亡赔偿协议》中关于死者赵少兵的亲属对赔偿金分配方式的协议； 二、限被告刘荣梅（被告刘某的法定代理人）在本判决生效之日起十日内向原告赵德友、原告刘泽珍返还一次性工亡补偿金共计213755.04元，第三人刘代明、谢开英负连带责任； 三、驳回原告赵德友、原告刘泽珍的其他诉讼请求。 本案诉讼费减半收取后为2813元，由被告刘荣梅、被告刘某负担。 本院二审期间，当事人未提出新的证据。 二审经审理补充查明，在与用工单位洽谈赔偿事宜的过程中，本案当事人以及死者兄弟赵勇、朝天区平溪乡李家村村民委员会主任刘德义、朝天区平溪乡李家村支部书记李国俊等均参与了协商，最终所形成的《工伤死亡赔偿协议》当事人未提出异议，在用工单位根据协议的内容向被上诉人赵德友、刘泽珍转款了20万元后，上诉人刘荣梅代表受害方签订了赔偿协议，并领取了剩余的赔偿款。在诉讼中，被上诉人赵德友、刘泽珍认可刘荣梅的签字行为。 二审查明的案件其他事实与一审一致，本院予以确认。 ', '裁判分析过程': '本院认为，本案所涉及的《工伤死亡赔偿协议》，是本案当事人与死者的用人单位经过平等协商所形成的书面合同，在高于法定应赔偿金额的基础上所达成的赔偿数据系各方当事人真实意思表示。根据该协议，用人单位已经全部履行了赔偿义务，本案当事人也根据该协议的内容全部领取了赔偿款，该协议事实上已履行完毕，各方当事人对此无异议，故该协议中关于与用人单位之间的约定合法有效，上诉人要求追加用人单位为本案当事人参与诉讼，其理由不成立。 根据《因工死亡职工供养亲属范围规定》，与死者未形成抚养关系的岳父母不属于供养亲属的范围，由于身份关系所具有的的特定性以及法定性因素，不属于当事人协商的范畴，第三人基于该身份所获取的工亡赔偿款造成上诉人无法足额获得法定范围内应得款项，在事实上已侵害了上诉人的合法利益，故该协议中涉及第三人参与死者亲属内部的分配方案不具有法律效力，一审对该部分予以撤销并无不当。 综上，原审判决事实认定清楚，法律适用正确，程序合法。依照《中华人民共和国民事诉讼法》第一百七十条第（一）项之规定，判决如下：', '判决结果': ' 驳回上诉，维持原判。 二审案件受理费9012元，由被上诉人刘荣梅、刘某承担4506元，上诉人刘代明、谢开英承担4506元。 本判决为终审判决。', '文尾': ' 审判长刘顺波 审判员宋开新 审判员袁峻 二〇一七年五月五日 书记员孟欣 ', '文书是否模糊': '是'}, '自定义_二审裁判文书_前审审理段': '原告之子赵少兵在甘肃省天水市务工，于2015年7月26日发生事故，因抢救无效于2015年7月26日11时许死亡。死者赵少兵之妻刘荣梅（本案被告）与用工单位达成《工伤死亡赔偿协议》：甲方代表刘杰，乙方代表刘荣梅（供养亲属及直系亲属身份情况：赵德友系死者赵少兵之父；本案原告；刘泽珍系死者赵少兵之母，本案原告；刘某，系死者之子，本案被告；刘代明系死者赵少兵岳父，本案第三人；谢开英系死者赵少兵岳母，本案第三人）。2015年7月31日甲乙双方签订了《工伤死亡赔偿协议》。为妥善解决赵少兵死亡善后事宜，甲、乙双方依据《中华人民共和国劳合同法》、《工伤保险条例》等法律、法规本着平等协商、互谅的原则，经双方协商达成如下协议：一、赔偿金额：甲方向乙方支付各项赔偿金共计88万元，该费用包含依照《工伤保险条例》甲方应依法支付的全部费用，包括丧葬补助金、供养亲属抚恤金、一次性工亡补助金等，除上述费用外，乙方不得再向甲方主张赔偿任何费用。乙方及其近亲属不得就工伤赔偿事宜向甲方提出任何形式的赔偿要求，不得向有关政府部门投诉本事件；或有任何异议，否则，乙方应无条件返还甲方支付的全部赔偿款项，并承担相关的法律责任。二、付款方式和期限：甲方于2015年7月31日前支付乙方全部赔偿金88万元，支付方式为银行转款一次性支付，领款人为死者妻子刘荣梅（个人卡号：XXXXX），开户行：四川省广元市朝天区曾家邮局营业所。乙方开具收款收据。该款项在乙方的分配方式为刘荣梅、刘代明、谢开英、刘某人民币68万元；赵德友、刘泽珍人民币20万元，乙方各位成员不持异议。如由此引发争议，概由乙方负责，与甲方无关（此款由死者的妻子支付给赵德友、刘泽珍）。三、1、甲方迟延支付的，乙方有权要求甲方一次性支付余款。乙方违约的，乙方需向甲方支付人民币20万元违约金。2、因任何一方违约导致诉讼，仲裁或申请强制执行的，应当向对方支付实现债权的费用，包括调查取证费、通讯费、律师费等。乙方保证在签署本协议时，确认其赵少兵的全部直系亲属并得到所有近亲属的授权及认可，已清楚了解自己在协议中的权利和义务，就协议中所涉及的法律问题及其他问题咨询相关专业人士，并清楚明白甲乙双方在自愿的基础上签订本协议。四、其他。甲乙双方发生争议应当友好协商解决。如协商不成，任何一方都有权将争议提交给甲方所在地的人民法院诉讼解决。2、协议签订后再无其他争议，任何一方不得反悔，3、协议一式六份，甲乙双方各持一份，平溪乡李家村村委会一份、麻柳乡四坪村村委会一份，自双方签单之日起生效。具备同等法律效力。另查明：原告赵德友，男，生于1955年3月21日，系死者生父，案发时已满60周岁，并丧失劳动能力；原告刘泽珍，女，生于1958年1月22日，系死者生母，案发时已满50周岁；被告刘荣梅，女，生于1989年12月9日，系死者妻子，被告刘某，男，生于2009年12月19日，系死者之子；第三人刘代明，男，生于1966年8月7日，系死者岳父，第三人谢开英，女，生于1966年3月29日，系死者岳母。另查明，二原告生有三个子女，长子赵少兵（本案死者），生于1980年10月20日，次子赵勇，生于1989年6月6日，身份证号码：XXXXX，长女赵少兰，生于1989年6月6日，身份证号码：XXXXXX．案发前，被告刘荣梅身怀有孕，被告于2015年农历十一月做了流产。2014年度甘肃天水市统筹地区年平均工资为43442元，赵少兵因工死亡的损失：一、丧葬费为21812元（43442元÷2）；二、一次性工亡补助金为576880元（28844元×20）；三、供养亲属抚恤金：1、原告赵德友应得抚恤金：289613.33元［（43442元÷3）×20］，其请求为260640元；2、原告刘泽珍应得抚恤金：289613.33元［（43442元÷3）×20］，其请求为260640元；3、被告刘某应得抚恤金：260652元［（43442元÷2）×（18-6）］，原告赵德友、原告刘泽珍、被告刘某共计应获得抚恤金为781932元。四、实际获得的抚恤金。1、近亲属实际获得的抚恤金的总额。二原告及被告刘某实际获得的抚恤金共计为281508元（880000元-21612元-576880元）；2、实际获得的抚恤金所占的比例为0.3555（281508元÷181932元）；3、近亲属实际获得的抚恤金：原告赵德友：92657.52元（260640元×0.3555）；原告刘泽珍：92657.52元（260640元×0.3555）；二原告共计185315.04元（92657.52元＋92657.52元）；被告刘某：92661.79元（260652元×0.3555）。四、一次性工亡补助金的分割（平均分割）：原告赵德友、原告刘泽珍、被告刘荣梅、被告刘某均应获得工亡补助金144220元（576880元÷4）；五、原告赵德友、原告刘泽珍在本案中应分得的财产共计213755.04元［144220元×2-60000元-14684.96元（实际多得的抚恤金=200000元-185315.04元）］。', '自定义_二审裁判文书_本审审理段': '一审法院认为，死者赵少兵与其亲属达成了《工伤死亡赔偿协议》，用工单位已按赔偿协议全部履行其义务，不存在争议，本案争议的焦点是一次性工伤死亡补偿金的分割，涉及死者亲属内部分配协议的效力，并不能对抗用工单位与死者近亲属所形成的赔偿协议的效力。根据中华人民共和国劳动和社会保障部令第18号《因工死亡职工供养亲属范围规定》的第二条第一款“本规定所称因工死亡职工供养亲属，是指该职工的配偶、子女、父母、祖父母、外祖父母、孙子女、外孙子女、兄弟姐妹。”该条第二款“本规定所称子女，包括婚生子女、非婚生子女、养子女和有抚养关系的继子女，其中，婚生子女、非婚生子女包括遗腹子女；”该条第三款“本规定所称父母，包括生父母、养父母和有抚养关系的继父母；”因此，本案第三人刘代明、谢开英是死者赵少兵的岳父、岳母，不属死者生前供养亲属的范围，其获得工亡保险待遇违反了上列法律规定，所获得的财产应予返还给有权利请求人；本案中依法应获得赔偿的权利请求人有死者赵少兵的配偶刘荣梅（本案被告），死者的父母赵德友、刘泽珍（本案的原告），死者的儿子刘某，故死者近亲属的内部分配协议无效。在用工方履行了赔偿协议后，死者近亲属因此引发的纠纷，属于共有财产纠纷。其丧葬费、死者生前供养亲属的费用依法不得分配，但一次性死亡补偿金应在享有权利请求人的范围内依法平均分割；一次性工亡补助金为576880元，原告赵德友、原告刘泽珍、被告刘荣梅、被告刘某均应获得工亡补助金144220元（576880元÷4）；原告赵德友、原告刘泽珍在形成死亡赔偿协议时，让与其孙子的6万元，系道德赠与行为，系二原告的真实意识表示，合法有效，并不得撤销，应予扣减，二原告实际多得的抚恤金14684.96元亦应扣减，二原告在本案中应分得的财产共计213755.04元［144220元×2-60000元-14684.96元（实际多得的抚恤金200000元-185315.04元）。原告请求人民法院依法撤销《工伤死亡赔偿协议》中关于亲属对赔偿金分配方式的内容条款的理由成立，本院予以支持；诉请判决被告立即支付给原告应当享有的赔偿金288440元的合法有理部分，本院予以支付，但过高请求，本院不予采信。被告刘荣梅，被告刘某及第三人辩解的：1、对于原告陈述的赵少斌死亡支付赔偿88万元无异议；2、对被告支付给原告供养亲属20万元是由用工方直接支付给原告的，不是被告支付的；3、达成的死亡赔偿协议，包含了三方达成的协议，本案请求撤销也包括第三方在内，不得损害第三人的权利；4、经查明，88万元均是由原告提出赔多少，怎么样分配，都是原告决定的，被告是配合原告，所以本案没有撤销的事实理由与用工方与死者亲属所形成的赔偿协议已履行，系其双方的真实意识表示的案件事实不符，与相关法律规定不符，其理由不成立，本院不予采信。据此，根据《中华人民共和国民法通则》第六十一条第一款，第八十四条，第八十六条，第九十二条，《中华人民共和国民事诉讼法》第一百四十二条的规定，判决如下： 一、撤销《工伤死亡赔偿协议》中关于死者赵少兵的亲属对赔偿金分配方式的协议； 二、限被告刘荣梅（被告刘某的法定代理人）在本判决生效之日起十日内向原告赵德友、原告刘泽珍返还一次性工亡补偿金共计213755.04元，第三人刘代明、谢开英负连带责任； 三、驳回原告赵德友、原告刘泽珍的其他诉讼请求。 本案诉讼费减半收取后为2813元，由被告刘荣梅、被告刘某负担。 本院二审期间，当事人未提出新的证据。 二审经审理补充查明，在与用工单位洽谈赔偿事宜的过程中，本案当事人以及死者兄弟赵勇、朝天区平溪乡李家村村民委员会主任刘德义、朝天区平溪乡李家村支部书记李国俊等均参与了协商，最终所形成的《工伤死亡赔偿协议》当事人未提出异议，在用工单位根据协议的内容向被上诉人赵德友、刘泽珍转款了20万元后，上诉人刘荣梅代表受害方签订了赔偿协议，并领取了剩余的赔偿款。在诉讼中，被上诉人赵德友、刘泽珍认可刘荣梅的签字行为。 二审查明的案件其他事实与一审一致，本院予以确认。', '自定义_二审裁判文书_裁判分析过程': '本院认为，本案所涉及的《工伤死亡赔偿协议》，是本案当事人与死者的用人单位经过平等协商所形成的书面合同，在高于法定应赔偿金额的基础上所达成的赔偿数据系各方当事人真实意思表示。根据该协议，用人单位已经全部履行了赔偿义务，本案当事人也根据该协议的内容全部领取了赔偿款，该协议事实上已履行完毕，各方当事人对此无异议，故该协议中关于与用人单位之间的约定合法有效，上诉人要求追加用人单位为本案当事人参与诉讼，其理由不成立。 根据《因工死亡职工供养亲属范围规定》，与死者未形成抚养关系的岳父母不属于供养亲属的范围，由于身份关系所具有的的特定性以及法定性因素，不属于当事人协商的范畴，第三人基于该身份所获取的工亡赔偿款造成上诉人无法足额获得法定范围内应得款项，在事实上已侵害了上诉人的合法利益，故该协议中涉及第三人参与死者亲属内部的分配方案不具有法律效力，一审对该部分予以撤销并无不当。 综上，原审判决事实认定清楚，法律适用正确，程序合法。依照《中华人民共和国民事诉讼法》第一百七十条第（一）项之规定，判决如下：', '法条': ['《中华人民共和国民法通则》第八十六条', '《因工死亡职工供养亲属范围规定》第二条第一款', '《中华人民共和国民法通则》第六十一条第一款', '《中华人民共和国民法通则》第九十二条', '《中华人民共和国民事诉讼法》第一百七十条第（一）项', '《中华人民共和国民事诉讼法》第一百四十二条', '《中华人民共和国民法通则》第八十四条'], '案例属性': {'案件类别': '民事案件', '文书种类': '判决书', '经办法院': '四川省广元市中级人民法院', '法官成员': ['刘顺波', '宋开新', '袁峻', '孟欣', '刘顺波', '宋开新', '袁峻'], '案由': '共有纠纷'}, 'vec': [0.24576395242668475, -0.29378545166140785, 0.05308938689291914, 0.08107942991386437, -0.4237098163034154, 0.32442587210978463, -0.4034131833317469, -0.13316054179127587, 0.19081107784752194, 0.35366251421423855, -0.2641220331475422, 0.16505583785900885, 0.08239676491824806, 0.1396622965741524, -0.1377893972402972, -0.09977872050166883, -0.05742955246151295, -0.13609250251557983, -0.16753971748020433, 0.14513529568283098, 0.05824215812307666, -0.13446069667535637, -0.10435083206438361, -0.20661366543319445, -0.1183157584237169, 0.019792195073216706, 0.1899685131775942, 0.10525535723877769, -0.0027531180997892785, -0.17809481397138988, 0.00820731538216218, -0.18722659680920492, 0.07860569882858384, -0.29018558410647327, 0.03437961432421897, 0.11244562238234981, -0.09478907430269887, 0.21464540885087627, -0.03397382659756182, -0.23096807662330904, -0.059363854060573484, -0.08910331879471824, 0.03763337543734821, -0.12413937656599144, 0.07020465142088232, 0.30763547929017404, -0.16539277303789873, 0.2220578305587862, 0.26744111453889025, -0.19790018144258661, -0.17719341133767916, -0.1945660762864286, -0.3493990122522153, -0.09329861106550928, -0.3156443116144783, -0.10287202249886242, 0.17211328519799, 0.4810171066285792, -0.1051613151202799, -0.49004222254527163, 0.2248406975766751, -0.10911958324800927, 0.28816081568107704, -0.037328961264075436, 0.14832624880009201, 0.07388667524727544, 0.2643365218607921, -0.12057600910852011, 0.11123939453904641, 0.23599076933339685, 0.08700577470910456, 0.0683234608146946, 0.04007609536302682, -0.06086040305442901, -0.06772359986085252, 0.34534996759693787, 0.017519916404873992, -0.09202813418204564, -0.14397825949569146, 0.12815810755326568, 0.23848619818055666, 0.05268200578101942, -0.39648433381792675, -0.00493662826002199, -0.17257180527003138, -0.12011861287776623, -0.05727741177946719, -0.18923107061017486, -0.16067692844050896, -0.20197825716489662, -0.19738622815046017, -0.0278527785164967, -0.09223798266687383, 0.08268726819802186, -0.13134868339476108, 0.08245295246950458, 0.010561924755499578, 0.14461383637602762, 0.12555927833040859, -0.03912250163148324]}, 'highlight': {'法条': ['《因工死亡职工供养亲属范围规定》第<em>二条</em><em>第一款</em>', '《<em>中华人民共和国</em><em>民法通则</em>》<em>第六十</em>一条<em>第一款</em>', '《<em>中华人民共和国</em><em>民法通则</em>》<em>第九十</em><em>二条</em>', '《<em>中华人民共和国</em><em>民事诉讼法</em>》第一百四十<em>二条</em>', '《<em>中华人民共和国</em><em>民法通则</em>》第八十<em>四条</em>']}}]}}\n"
     ]
    }
   ],
   "source": [
    "resp = es.search(index=\"new-case-data\", \n",
    "                from_=0,\n",
    "                query={\n",
    "                    \"query_string\": {\n",
    "                            \"fields\": [\"法条\"],\n",
    "                            \"query\": \" OR \".join([\"《中华人民共和国民法通则》第九十二条\", \n",
    "                                            \"《中华人民共和国民事诉讼法》第六十四条第一款\"]),\n",
    "                            \"default_operator\": \"AND\"\n",
    "                        }\n",
    "                },\n",
    "                highlight={\n",
    "                    \"fields\": {\n",
    "                        \"法条\": {},\n",
    "                    }\n",
    "                }\n",
    "        )\n",
    "print(resp)"
   ]
  },
  {
   "cell_type": "code",
   "execution_count": null,
   "metadata": {},
   "outputs": [],
   "source": [
    "resp = es.search(index=\"case-data\", \n",
    "                from_=0,\n",
    "                query={\n",
    "                    \"match\": {\n",
    "                        \"案例属性.法官成员\": \"沈静 刘颖 沈静\",\n",
    "                }},\n",
    "                highlight={\n",
    "                    \"fields\": {\n",
    "                        \"案例属性.法官成员\": {},\n",
    "                    }\n",
    "                }\n",
    "        )\n",
    "print(resp)"
   ]
  },
  {
   "cell_type": "code",
   "execution_count": null,
   "metadata": {},
   "outputs": [],
   "source": [
    "resp = es.search(index=\"case-data\", \n",
    "                from_=0,\n",
    "                size=20,\n",
    "                query={\n",
    "                    \"match\": {\n",
    "                        \"案例属性.经办法院\": \"安徽省合肥市中级人民法院\",\n",
    "                }},\n",
    "                highlight={\n",
    "                    \"fields\": {\n",
    "                        \"案例属性.经办法院\": {},\n",
    "                    }\n",
    "                }\n",
    "        )\n",
    "print(\"Got %d Hits:\" % resp['hits']['total']['value'])\n",
    "print(len(resp['hits']['hits']))\n",
    "print(resp['hits']['hits'])"
   ]
  },
  {
   "cell_type": "code",
   "execution_count": null,
   "metadata": {},
   "outputs": [],
   "source": [
    "resp = es.get(index=\"case-data\", \n",
    "                id=1\n",
    "        )\n",
    "print(resp)\n",
    "data = {\n",
    "    'data': resp['_source']\n",
    "}\n",
    "print(data)"
   ]
  },
  {
   "cell_type": "code",
   "execution_count": 42,
   "metadata": {},
   "outputs": [
    {
     "data": {
      "text/plain": [
       "[1, 2, 3, 4, 5]"
      ]
     },
     "execution_count": 42,
     "metadata": {},
     "output_type": "execute_result"
    }
   ],
   "source": [
    "a = [1,2,3,4,5,]\n",
    "a[:10]"
   ]
  },
  {
   "cell_type": "code",
   "execution_count": null,
   "metadata": {},
   "outputs": [],
   "source": [
    "import os\n",
    "import json\n",
    "import jieba\n",
    "from tqdm import tqdm\n",
    "import xml.etree.ElementTree as ET\n",
    "\n",
    "file_paths = os.listdir('./Legal_data/')\n",
    "\n",
    "with open('./stop_words', 'r', encoding='utf-8') as f:\n",
    "    stop_words = f.read().split('\\n')\n",
    "\n",
    "corpus = []\n",
    "for idx in tqdm(range(len(file_paths))):\n",
    "    file_path = file_paths[idx]\n",
    "    root = ET.parse(f'./Legal_data/{file_path}').getroot()\n",
    "    data = root.find('QW').attrib['value']\n",
    "    # print(data)\n",
    "    data = list(filter(lambda x:x not in stop_words, jieba.lcut(data)))\n",
    "    # print(data)\n",
    "    corpus.append(data)\n",
    "    # break\n",
    "\n",
    "with open('./corpus.json', 'w', encoding='utf-8') as f:\n",
    "    json.dump(corpus, f, ensure_ascii=False)"
   ]
  },
  {
   "cell_type": "code",
   "execution_count": 12,
   "metadata": {},
   "outputs": [
    {
     "data": {
      "text/plain": [
       "'一审案件'"
      ]
     },
     "execution_count": 12,
     "metadata": {},
     "output_type": "execute_result"
    }
   ],
   "source": [
    "\" OR \".join([\"一审案件\"])\n"
   ]
  }
 ],
 "metadata": {
  "interpreter": {
   "hash": "b09d76a264f75b636912ff721d9deed131e01bb3296f65ae7ebe8f774b2ead68"
  },
  "kernelspec": {
   "display_name": "Python 3.8.8 ('base')",
   "language": "python",
   "name": "python3"
  },
  "language_info": {
   "codemirror_mode": {
    "name": "ipython",
    "version": 3
   },
   "file_extension": ".py",
   "mimetype": "text/x-python",
   "name": "python",
   "nbconvert_exporter": "python",
   "pygments_lexer": "ipython3",
   "version": "3.8.8"
  },
  "orig_nbformat": 4
 },
 "nbformat": 4,
 "nbformat_minor": 2
}
